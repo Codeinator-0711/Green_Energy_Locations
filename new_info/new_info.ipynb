{
 "cells": [
  {
   "cell_type": "markdown",
   "source": [
    "=== READ CAREFULLY ===\r\n",
    "<br><br>\r\n",
    "this notebook adds info about stations to your weather dataframe\r\n",
    "<br>make sure you have the necessary files (a csv-file for the weather, the stations.csv) and the necessary module (station_info.py)\r\n",
    "<br>\r\n",
    "you can copy the whole code to another .py file to load and combine info in another script\r\n",
    "\r\n",
    "if you add code in this notebook, please save it as a new file BEFORE making any changes/additions\r\n",
    "\r\n",
    "problems? text me > 015788873290\r\n",
    "\r\n",
    "=== READ CAREFULLY ==="
   ],
   "metadata": {}
  },
  {
   "cell_type": "code",
   "execution_count": 1,
   "source": [
    "# import packages\r\n",
    "import pandas as pd\r\n",
    "from station_info import addinfo as ai"
   ],
   "outputs": [],
   "metadata": {}
  },
  {
   "cell_type": "code",
   "execution_count": 2,
   "source": [
    "# load weather and station data\r\n",
    "# change the filename if needed. leave the rest\r\n",
    "\r\n",
    "filename = 'sample'\r\n",
    "\r\n",
    "path = '../data/stations.csv'\r\n",
    "in_ger = pd.read_csv(path)\r\n",
    "path = '../data/'+filename+'.csv'\r\n",
    "weather_df = pd.read_csv(path,parse_dates=[0])\r\n",
    "in_ger['id'] = in_ger['id'].astype(str)\r\n",
    "in_ger.set_index('id', inplace=True,drop=True)\r\n",
    "weather_df['id'] = weather_df['id'].astype(str)"
   ],
   "outputs": [],
   "metadata": {}
  },
  {
   "cell_type": "markdown",
   "source": [
    "choose the info you want to add\r\n",
    "<br>the following options are available:\r\n",
    "<br>\r\n",
    "<br>name: normally refers to the location\r\n",
    "<br>country: is DE in every case (if you left the loading cell untouched)\r\n",
    "<br>region: code for the bundesland\r\n",
    "<br>identifiers:\r\n",
    "<br>location: coordinates (latitude, longitude, elevation)\r\n",
    "<br>timezone: will be Berlin everywhere\r\n",
    "<br>inventory: equipment used in a station\r\n",
    "\r\n",
    "make sure to keep the format (list with strings)"
   ],
   "metadata": {}
  },
  {
   "cell_type": "code",
   "execution_count": 3,
   "source": [
    "# choose what info to add\r\n",
    "new_info = ['location','region','name']"
   ],
   "outputs": [],
   "metadata": {}
  },
  {
   "cell_type": "code",
   "execution_count": 4,
   "source": [
    "# call the function to add info\r\n",
    "# df_added is the dataframe with weather data and additional info about the station\r\n",
    "df_added = ai(weather_df,in_ger,new_info)"
   ],
   "outputs": [],
   "metadata": {}
  },
  {
   "cell_type": "code",
   "execution_count": 5,
   "source": [
    "# run this cell to save the dataframe with added info\r\n",
    "# this cell with append 'addedinfo' to the filename :)\r\n",
    "path = '../data/'+filename+'_addedinfo.csv'\r\n",
    "df_added.to_csv(path,index=False)"
   ],
   "outputs": [],
   "metadata": {}
  }
 ],
 "metadata": {
  "orig_nbformat": 4,
  "language_info": {
   "name": "python",
   "version": "3.8.10",
   "mimetype": "text/x-python",
   "codemirror_mode": {
    "name": "ipython",
    "version": 3
   },
   "pygments_lexer": "ipython3",
   "nbconvert_exporter": "python",
   "file_extension": ".py"
  },
  "kernelspec": {
   "name": "python3",
   "display_name": "Python 3.8.10 64-bit ('mapenv': conda)"
  },
  "interpreter": {
   "hash": "c7493435b741875e47357b1d4e2959b9ee7bbd8a014d8aa9e12beae2b4f843e2"
  }
 },
 "nbformat": 4,
 "nbformat_minor": 2
}