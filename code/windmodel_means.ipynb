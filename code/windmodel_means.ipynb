{
  "nbformat": 4,
  "nbformat_minor": 2,
  "metadata": {
    "colab": {
      "name": "windmodel.ipynb",
      "provenance": []
    },
    "kernelspec": {
      "name": "python3",
      "display_name": "Python 3.8.10 64-bit ('mapenv': conda)"
    },
    "language_info": {
      "name": "python",
      "version": "3.8.10",
      "mimetype": "text/x-python",
      "codemirror_mode": {
        "name": "ipython",
        "version": 3
      },
      "pygments_lexer": "ipython3",
      "nbconvert_exporter": "python",
      "file_extension": ".py"
    },
    "interpreter": {
      "hash": "c7493435b741875e47357b1d4e2959b9ee7bbd8a014d8aa9e12beae2b4f843e2"
    }
  },
  "cells": [
    {
      "cell_type": "code",
      "execution_count": 1,
      "source": [
        "import pandas as pd\r\n",
        "filtered_wind_data = pd.read_parquet('../data/windmodel_data.parquet')\r\n",
        "\r\n",
        "all_means_df = pd.read_parquet('../data/all_means_df.pqt')"
      ],
      "outputs": [],
      "metadata": {
        "colab": {
          "base_uri": "https://localhost:8080/",
          "height": 411
        },
        "id": "-NvXPpJm3AMf",
        "outputId": "160f0243-62b8-4ba6-b7fb-4f9c885a7e2e"
      }
    },
    {
      "cell_type": "code",
      "execution_count": 2,
      "source": [
        "# check the na counts per column\r\n",
        "na_counts = pd.DataFrame(\r\n",
        "    [\r\n",
        "        all_means_df[col].isna().value_counts()\r\n",
        "        for col \r\n",
        "        in all_means_df.columns\r\n",
        "    ],index=all_means_df.columns)\r\n",
        "# check the na counts, should be zero everywhere\r\n",
        "na_counts"
      ],
      "outputs": [
        {
          "output_type": "execute_result",
          "data": {
            "text/html": [
              "<div>\n",
              "<style scoped>\n",
              "    .dataframe tbody tr th:only-of-type {\n",
              "        vertical-align: middle;\n",
              "    }\n",
              "\n",
              "    .dataframe tbody tr th {\n",
              "        vertical-align: top;\n",
              "    }\n",
              "\n",
              "    .dataframe thead th {\n",
              "        text-align: right;\n",
              "    }\n",
              "</style>\n",
              "<table border=\"1\" class=\"dataframe\">\n",
              "  <thead>\n",
              "    <tr style=\"text-align: right;\">\n",
              "      <th></th>\n",
              "      <th>False</th>\n",
              "      <th>True</th>\n",
              "    </tr>\n",
              "  </thead>\n",
              "  <tbody>\n",
              "    <tr>\n",
              "      <th>temp</th>\n",
              "      <td>1087</td>\n",
              "      <td>1</td>\n",
              "    </tr>\n",
              "    <tr>\n",
              "      <th>dwpt</th>\n",
              "      <td>1087</td>\n",
              "      <td>1</td>\n",
              "    </tr>\n",
              "    <tr>\n",
              "      <th>rhum</th>\n",
              "      <td>1087</td>\n",
              "      <td>1</td>\n",
              "    </tr>\n",
              "    <tr>\n",
              "      <th>prcp</th>\n",
              "      <td>1086</td>\n",
              "      <td>2</td>\n",
              "    </tr>\n",
              "    <tr>\n",
              "      <th>wdir</th>\n",
              "      <td>1087</td>\n",
              "      <td>1</td>\n",
              "    </tr>\n",
              "    <tr>\n",
              "      <th>wspd</th>\n",
              "      <td>1087</td>\n",
              "      <td>1</td>\n",
              "    </tr>\n",
              "    <tr>\n",
              "      <th>wpgt</th>\n",
              "      <td>375</td>\n",
              "      <td>713</td>\n",
              "    </tr>\n",
              "    <tr>\n",
              "      <th>pres</th>\n",
              "      <td>1085</td>\n",
              "      <td>3</td>\n",
              "    </tr>\n",
              "    <tr>\n",
              "      <th>tsun</th>\n",
              "      <td>319</td>\n",
              "      <td>769</td>\n",
              "    </tr>\n",
              "  </tbody>\n",
              "</table>\n",
              "</div>"
            ],
            "text/plain": [
              "      False  True\n",
              "temp   1087     1\n",
              "dwpt   1087     1\n",
              "rhum   1087     1\n",
              "prcp   1086     2\n",
              "wdir   1087     1\n",
              "wspd   1087     1\n",
              "wpgt    375   713\n",
              "pres   1085     3\n",
              "tsun    319   769"
            ]
          },
          "metadata": {},
          "execution_count": 2
        }
      ],
      "metadata": {}
    },
    {
      "cell_type": "code",
      "execution_count": 3,
      "source": [
        "too_high = 70\r\n",
        "high_enough = 18\r\n",
        "perfect_speed = 19"
      ],
      "outputs": [],
      "metadata": {
        "id": "FqlXoCCBaDwV"
      }
    },
    {
      "cell_type": "code",
      "execution_count": 4,
      "source": [
        "def categorize(mean, max):\r\n",
        "  if max > too_high:\r\n",
        "    cat = 3\r\n",
        "  else:\r\n",
        "    cat = int(mean>high_enough) + (mean>perfect_speed)\r\n",
        "  return cat"
      ],
      "outputs": [],
      "metadata": {
        "id": "REBS7C3qcXO-"
      }
    },
    {
      "cell_type": "code",
      "execution_count": 5,
      "source": [
        "def categorize_binary(mean):\r\n",
        "    return (mean>high_enough)"
      ],
      "outputs": [],
      "metadata": {}
    },
    {
      "cell_type": "code",
      "execution_count": 6,
      "source": [
        "filtered_wind_data.loc[:,'suitable'] = [categorize_binary(x)\r\n",
        "                              for x\r\n",
        "                              in filtered_wind_data['wspd_mean']\r\n",
        "]\r\n",
        "\r\n",
        "# df.drop(['wspd_median_mean','above_median_mean','hour_mean'],inplace=True,axis=1)\r\n",
        "# df.set_index('id',inplace=True)\r\n",
        "filtered_wind_data.suitable.value_counts()"
      ],
      "outputs": [
        {
          "output_type": "execute_result",
          "data": {
            "text/plain": [
              "False    209\n",
              "True     133\n",
              "Name: suitable, dtype: int64"
            ]
          },
          "metadata": {},
          "execution_count": 6
        }
      ],
      "metadata": {
        "id": "x-5Ctc3fYBOV"
      }
    },
    {
      "cell_type": "code",
      "execution_count": 7,
      "source": [
        "filtered_wind_data.columns"
      ],
      "outputs": [
        {
          "output_type": "execute_result",
          "data": {
            "text/plain": [
              "Index(['id', 'hour_mean', 'temp_mean', 'dwpt_mean', 'rhum_mean', 'prcp_mean',\n",
              "       'snow_mean', 'wdir_mean', 'wspd_mean', 'wpgt_mean', 'pres_mean',\n",
              "       'tsun_mean', 'coco_mean', 'wspd_median_mean', 'above_median_mean',\n",
              "       'wspd_max', 'suitable'],\n",
              "      dtype='object')"
            ]
          },
          "metadata": {},
          "execution_count": 7
        }
      ],
      "metadata": {}
    },
    {
      "cell_type": "code",
      "execution_count": 8,
      "source": [
        "filtered_wind_data.drop(['hour_mean','snow_mean','above_median_mean','wspd_median_mean','coco_mean'],axis=1,inplace=True)"
      ],
      "outputs": [],
      "metadata": {}
    },
    {
      "cell_type": "code",
      "execution_count": 9,
      "source": [
        "filtered_wind_data"
      ],
      "outputs": [
        {
          "output_type": "execute_result",
          "data": {
            "text/html": [
              "<div>\n",
              "<style scoped>\n",
              "    .dataframe tbody tr th:only-of-type {\n",
              "        vertical-align: middle;\n",
              "    }\n",
              "\n",
              "    .dataframe tbody tr th {\n",
              "        vertical-align: top;\n",
              "    }\n",
              "\n",
              "    .dataframe thead th {\n",
              "        text-align: right;\n",
              "    }\n",
              "</style>\n",
              "<table border=\"1\" class=\"dataframe\">\n",
              "  <thead>\n",
              "    <tr style=\"text-align: right;\">\n",
              "      <th></th>\n",
              "      <th>id</th>\n",
              "      <th>temp_mean</th>\n",
              "      <th>dwpt_mean</th>\n",
              "      <th>rhum_mean</th>\n",
              "      <th>prcp_mean</th>\n",
              "      <th>wdir_mean</th>\n",
              "      <th>wspd_mean</th>\n",
              "      <th>wpgt_mean</th>\n",
              "      <th>pres_mean</th>\n",
              "      <th>tsun_mean</th>\n",
              "      <th>wspd_max</th>\n",
              "      <th>suitable</th>\n",
              "    </tr>\n",
              "  </thead>\n",
              "  <tbody>\n",
              "    <tr>\n",
              "      <th>0</th>\n",
              "      <td>10004</td>\n",
              "      <td>10.451261</td>\n",
              "      <td>7.449866</td>\n",
              "      <td>82.171136</td>\n",
              "      <td>0.117534</td>\n",
              "      <td>206.769842</td>\n",
              "      <td>40.445665</td>\n",
              "      <td>53.387573</td>\n",
              "      <td>1011.236250</td>\n",
              "      <td>0.000000</td>\n",
              "      <td>90.8</td>\n",
              "      <td>True</td>\n",
              "    </tr>\n",
              "    <tr>\n",
              "      <th>1</th>\n",
              "      <td>10007</td>\n",
              "      <td>10.127578</td>\n",
              "      <td>6.887558</td>\n",
              "      <td>80.854592</td>\n",
              "      <td>0.146445</td>\n",
              "      <td>212.271240</td>\n",
              "      <td>39.625527</td>\n",
              "      <td>52.256785</td>\n",
              "      <td>1011.780119</td>\n",
              "      <td>6.000000</td>\n",
              "      <td>83.0</td>\n",
              "      <td>True</td>\n",
              "    </tr>\n",
              "    <tr>\n",
              "      <th>2</th>\n",
              "      <td>10015</td>\n",
              "      <td>9.815853</td>\n",
              "      <td>6.324004</td>\n",
              "      <td>79.548739</td>\n",
              "      <td>0.117322</td>\n",
              "      <td>207.985671</td>\n",
              "      <td>36.419412</td>\n",
              "      <td>49.797198</td>\n",
              "      <td>1012.139140</td>\n",
              "      <td>8.709530</td>\n",
              "      <td>81.4</td>\n",
              "      <td>True</td>\n",
              "    </tr>\n",
              "    <tr>\n",
              "      <th>3</th>\n",
              "      <td>10018</td>\n",
              "      <td>10.416622</td>\n",
              "      <td>7.136504</td>\n",
              "      <td>81.362685</td>\n",
              "      <td>0.144268</td>\n",
              "      <td>218.759507</td>\n",
              "      <td>30.651869</td>\n",
              "      <td>47.688045</td>\n",
              "      <td>1011.417852</td>\n",
              "      <td>NaN</td>\n",
              "      <td>72.4</td>\n",
              "      <td>True</td>\n",
              "    </tr>\n",
              "    <tr>\n",
              "      <th>4</th>\n",
              "      <td>10020</td>\n",
              "      <td>9.980520</td>\n",
              "      <td>6.284137</td>\n",
              "      <td>78.926902</td>\n",
              "      <td>0.096464</td>\n",
              "      <td>222.283311</td>\n",
              "      <td>35.266428</td>\n",
              "      <td>51.367079</td>\n",
              "      <td>1011.330899</td>\n",
              "      <td>11.393763</td>\n",
              "      <td>78.8</td>\n",
              "      <td>True</td>\n",
              "    </tr>\n",
              "    <tr>\n",
              "      <th>...</th>\n",
              "      <td>...</td>\n",
              "      <td>...</td>\n",
              "      <td>...</td>\n",
              "      <td>...</td>\n",
              "      <td>...</td>\n",
              "      <td>...</td>\n",
              "      <td>...</td>\n",
              "      <td>...</td>\n",
              "      <td>...</td>\n",
              "      <td>...</td>\n",
              "      <td>...</td>\n",
              "      <td>...</td>\n",
              "    </tr>\n",
              "    <tr>\n",
              "      <th>337</th>\n",
              "      <td>EDBO0</td>\n",
              "      <td>10.700174</td>\n",
              "      <td>4.939533</td>\n",
              "      <td>71.727355</td>\n",
              "      <td>0.081431</td>\n",
              "      <td>210.433600</td>\n",
              "      <td>16.238745</td>\n",
              "      <td>NaN</td>\n",
              "      <td>NaN</td>\n",
              "      <td>NaN</td>\n",
              "      <td>47.9</td>\n",
              "      <td>False</td>\n",
              "    </tr>\n",
              "    <tr>\n",
              "      <th>338</th>\n",
              "      <td>EDCE0</td>\n",
              "      <td>11.299701</td>\n",
              "      <td>4.989851</td>\n",
              "      <td>68.957264</td>\n",
              "      <td>0.070006</td>\n",
              "      <td>205.720700</td>\n",
              "      <td>15.745480</td>\n",
              "      <td>NaN</td>\n",
              "      <td>1011.700000</td>\n",
              "      <td>20.216193</td>\n",
              "      <td>37.4</td>\n",
              "      <td>False</td>\n",
              "    </tr>\n",
              "    <tr>\n",
              "      <th>339</th>\n",
              "      <td>EDHK0</td>\n",
              "      <td>11.825259</td>\n",
              "      <td>7.167886</td>\n",
              "      <td>74.981166</td>\n",
              "      <td>NaN</td>\n",
              "      <td>201.171599</td>\n",
              "      <td>21.042723</td>\n",
              "      <td>NaN</td>\n",
              "      <td>1011.540667</td>\n",
              "      <td>NaN</td>\n",
              "      <td>57.6</td>\n",
              "      <td>True</td>\n",
              "    </tr>\n",
              "    <tr>\n",
              "      <th>340</th>\n",
              "      <td>EDMG0</td>\n",
              "      <td>9.948297</td>\n",
              "      <td>4.835818</td>\n",
              "      <td>73.485027</td>\n",
              "      <td>0.101214</td>\n",
              "      <td>173.896123</td>\n",
              "      <td>14.728448</td>\n",
              "      <td>NaN</td>\n",
              "      <td>NaN</td>\n",
              "      <td>NaN</td>\n",
              "      <td>52.6</td>\n",
              "      <td>False</td>\n",
              "    </tr>\n",
              "    <tr>\n",
              "      <th>341</th>\n",
              "      <td>EDTY0</td>\n",
              "      <td>11.825812</td>\n",
              "      <td>5.842267</td>\n",
              "      <td>70.470116</td>\n",
              "      <td>NaN</td>\n",
              "      <td>192.220404</td>\n",
              "      <td>15.690251</td>\n",
              "      <td>NaN</td>\n",
              "      <td>1015.752052</td>\n",
              "      <td>NaN</td>\n",
              "      <td>64.8</td>\n",
              "      <td>False</td>\n",
              "    </tr>\n",
              "  </tbody>\n",
              "</table>\n",
              "<p>342 rows × 12 columns</p>\n",
              "</div>"
            ],
            "text/plain": [
              "        id  temp_mean  dwpt_mean  rhum_mean  prcp_mean   wdir_mean  wspd_mean  \\\n",
              "0    10004  10.451261   7.449866  82.171136   0.117534  206.769842  40.445665   \n",
              "1    10007  10.127578   6.887558  80.854592   0.146445  212.271240  39.625527   \n",
              "2    10015   9.815853   6.324004  79.548739   0.117322  207.985671  36.419412   \n",
              "3    10018  10.416622   7.136504  81.362685   0.144268  218.759507  30.651869   \n",
              "4    10020   9.980520   6.284137  78.926902   0.096464  222.283311  35.266428   \n",
              "..     ...        ...        ...        ...        ...         ...        ...   \n",
              "337  EDBO0  10.700174   4.939533  71.727355   0.081431  210.433600  16.238745   \n",
              "338  EDCE0  11.299701   4.989851  68.957264   0.070006  205.720700  15.745480   \n",
              "339  EDHK0  11.825259   7.167886  74.981166        NaN  201.171599  21.042723   \n",
              "340  EDMG0   9.948297   4.835818  73.485027   0.101214  173.896123  14.728448   \n",
              "341  EDTY0  11.825812   5.842267  70.470116        NaN  192.220404  15.690251   \n",
              "\n",
              "     wpgt_mean    pres_mean  tsun_mean  wspd_max  suitable  \n",
              "0    53.387573  1011.236250   0.000000      90.8      True  \n",
              "1    52.256785  1011.780119   6.000000      83.0      True  \n",
              "2    49.797198  1012.139140   8.709530      81.4      True  \n",
              "3    47.688045  1011.417852        NaN      72.4      True  \n",
              "4    51.367079  1011.330899  11.393763      78.8      True  \n",
              "..         ...          ...        ...       ...       ...  \n",
              "337        NaN          NaN        NaN      47.9     False  \n",
              "338        NaN  1011.700000  20.216193      37.4     False  \n",
              "339        NaN  1011.540667        NaN      57.6      True  \n",
              "340        NaN          NaN        NaN      52.6     False  \n",
              "341        NaN  1015.752052        NaN      64.8     False  \n",
              "\n",
              "[342 rows x 12 columns]"
            ]
          },
          "metadata": {},
          "execution_count": 9
        }
      ],
      "metadata": {}
    },
    {
      "cell_type": "code",
      "execution_count": 10,
      "source": [
        "model_ids = filtered_wind_data.id"
      ],
      "outputs": [],
      "metadata": {}
    },
    {
      "cell_type": "code",
      "execution_count": 11,
      "source": [
        "all_means_df.head()"
      ],
      "outputs": [
        {
          "output_type": "execute_result",
          "data": {
            "text/html": [
              "<div>\n",
              "<style scoped>\n",
              "    .dataframe tbody tr th:only-of-type {\n",
              "        vertical-align: middle;\n",
              "    }\n",
              "\n",
              "    .dataframe tbody tr th {\n",
              "        vertical-align: top;\n",
              "    }\n",
              "\n",
              "    .dataframe thead th {\n",
              "        text-align: right;\n",
              "    }\n",
              "</style>\n",
              "<table border=\"1\" class=\"dataframe\">\n",
              "  <thead>\n",
              "    <tr style=\"text-align: right;\">\n",
              "      <th></th>\n",
              "      <th>temp</th>\n",
              "      <th>dwpt</th>\n",
              "      <th>rhum</th>\n",
              "      <th>prcp</th>\n",
              "      <th>wdir</th>\n",
              "      <th>wspd</th>\n",
              "      <th>wpgt</th>\n",
              "      <th>pres</th>\n",
              "      <th>tsun</th>\n",
              "    </tr>\n",
              "    <tr>\n",
              "      <th>id</th>\n",
              "      <th></th>\n",
              "      <th></th>\n",
              "      <th></th>\n",
              "      <th></th>\n",
              "      <th></th>\n",
              "      <th></th>\n",
              "      <th></th>\n",
              "      <th></th>\n",
              "      <th></th>\n",
              "    </tr>\n",
              "  </thead>\n",
              "  <tbody>\n",
              "    <tr>\n",
              "      <th>10004</th>\n",
              "      <td>11.183591</td>\n",
              "      <td>8.360795</td>\n",
              "      <td>83.261821</td>\n",
              "      <td>0.080176</td>\n",
              "      <td>198.548310</td>\n",
              "      <td>30.126426</td>\n",
              "      <td>41.561255</td>\n",
              "      <td>1013.817822</td>\n",
              "      <td>0.000000</td>\n",
              "    </tr>\n",
              "    <tr>\n",
              "      <th>10007</th>\n",
              "      <td>11.081906</td>\n",
              "      <td>7.946762</td>\n",
              "      <td>81.555184</td>\n",
              "      <td>0.105059</td>\n",
              "      <td>203.361730</td>\n",
              "      <td>29.454347</td>\n",
              "      <td>40.476545</td>\n",
              "      <td>1014.108209</td>\n",
              "      <td>3.000000</td>\n",
              "    </tr>\n",
              "    <tr>\n",
              "      <th>10015</th>\n",
              "      <td>10.936814</td>\n",
              "      <td>7.477791</td>\n",
              "      <td>79.947582</td>\n",
              "      <td>0.089194</td>\n",
              "      <td>204.287527</td>\n",
              "      <td>26.965759</td>\n",
              "      <td>37.540909</td>\n",
              "      <td>1014.087925</td>\n",
              "      <td>12.650690</td>\n",
              "    </tr>\n",
              "    <tr>\n",
              "      <th>10018</th>\n",
              "      <td>10.798407</td>\n",
              "      <td>7.650422</td>\n",
              "      <td>82.246560</td>\n",
              "      <td>0.103887</td>\n",
              "      <td>204.459598</td>\n",
              "      <td>22.528988</td>\n",
              "      <td>36.471962</td>\n",
              "      <td>1013.564366</td>\n",
              "      <td>NaN</td>\n",
              "    </tr>\n",
              "    <tr>\n",
              "      <th>10020</th>\n",
              "      <td>10.451094</td>\n",
              "      <td>6.789513</td>\n",
              "      <td>79.452712</td>\n",
              "      <td>0.074267</td>\n",
              "      <td>205.829421</td>\n",
              "      <td>26.275399</td>\n",
              "      <td>38.887773</td>\n",
              "      <td>1013.542898</td>\n",
              "      <td>12.665966</td>\n",
              "    </tr>\n",
              "  </tbody>\n",
              "</table>\n",
              "</div>"
            ],
            "text/plain": [
              "            temp      dwpt       rhum      prcp        wdir       wspd  \\\n",
              "id                                                                       \n",
              "10004  11.183591  8.360795  83.261821  0.080176  198.548310  30.126426   \n",
              "10007  11.081906  7.946762  81.555184  0.105059  203.361730  29.454347   \n",
              "10015  10.936814  7.477791  79.947582  0.089194  204.287527  26.965759   \n",
              "10018  10.798407  7.650422  82.246560  0.103887  204.459598  22.528988   \n",
              "10020  10.451094  6.789513  79.452712  0.074267  205.829421  26.275399   \n",
              "\n",
              "            wpgt         pres       tsun  \n",
              "id                                        \n",
              "10004  41.561255  1013.817822   0.000000  \n",
              "10007  40.476545  1014.108209   3.000000  \n",
              "10015  37.540909  1014.087925  12.650690  \n",
              "10018  36.471962  1013.564366        NaN  \n",
              "10020  38.887773  1013.542898  12.665966  "
            ]
          },
          "metadata": {},
          "execution_count": 11
        }
      ],
      "metadata": {}
    },
    {
      "cell_type": "code",
      "execution_count": 12,
      "source": [
        "all_means_df.index = all_means_df.index.astype('str')"
      ],
      "outputs": [],
      "metadata": {}
    },
    {
      "cell_type": "code",
      "execution_count": 13,
      "source": [
        "filtered_wind_data.set_index('id',inplace=True)\r\n",
        "filtered_wind_data.index = filtered_wind_data.index.astype('str')"
      ],
      "outputs": [],
      "metadata": {}
    },
    {
      "cell_type": "code",
      "execution_count": 14,
      "source": [
        "model_data_unfiltered = all_means_df.loc[model_ids]"
      ],
      "outputs": [],
      "metadata": {}
    },
    {
      "cell_type": "code",
      "execution_count": 15,
      "source": [
        "model_data_unfiltered.columns"
      ],
      "outputs": [
        {
          "output_type": "execute_result",
          "data": {
            "text/plain": [
              "Index(['temp', 'dwpt', 'rhum', 'prcp', 'wdir', 'wspd', 'wpgt', 'pres', 'tsun'], dtype='object')"
            ]
          },
          "metadata": {},
          "execution_count": 15
        }
      ],
      "metadata": {}
    },
    {
      "cell_type": "code",
      "execution_count": 16,
      "source": [
        "zscore_df = [\r\n",
        "    (model_data_unfiltered[col] - model_data_unfiltered[col].mean()) / model_data_unfiltered[col].std(ddof=0)\r\n",
        "    for col\r\n",
        "    in model_data_unfiltered.columns\r\n",
        "]\r\n",
        "\r\n",
        "zscore_df = [\r\n",
        "    series.to_frame()\r\n",
        "    for series\r\n",
        "    in zscore_df\r\n",
        "]\r\n",
        "# construct a df\r\n",
        "zscore_df = pd.concat(zscore_df,axis=1)\r\n",
        "# fill na with mean\r\n",
        "zscore_df=zscore_df.fillna(0)\r\n",
        "# rnadomize the order\r\n",
        "zscore_df = zscore_df.sample(frac=1)"
      ],
      "outputs": [],
      "metadata": {}
    },
    {
      "cell_type": "code",
      "execution_count": 17,
      "source": [
        "zscore_df"
      ],
      "outputs": [
        {
          "output_type": "execute_result",
          "data": {
            "text/html": [
              "<div>\n",
              "<style scoped>\n",
              "    .dataframe tbody tr th:only-of-type {\n",
              "        vertical-align: middle;\n",
              "    }\n",
              "\n",
              "    .dataframe tbody tr th {\n",
              "        vertical-align: top;\n",
              "    }\n",
              "\n",
              "    .dataframe thead th {\n",
              "        text-align: right;\n",
              "    }\n",
              "</style>\n",
              "<table border=\"1\" class=\"dataframe\">\n",
              "  <thead>\n",
              "    <tr style=\"text-align: right;\">\n",
              "      <th></th>\n",
              "      <th>temp</th>\n",
              "      <th>dwpt</th>\n",
              "      <th>rhum</th>\n",
              "      <th>prcp</th>\n",
              "      <th>wdir</th>\n",
              "      <th>wspd</th>\n",
              "      <th>wpgt</th>\n",
              "      <th>pres</th>\n",
              "      <th>tsun</th>\n",
              "    </tr>\n",
              "    <tr>\n",
              "      <th>id</th>\n",
              "      <th></th>\n",
              "      <th></th>\n",
              "      <th></th>\n",
              "      <th></th>\n",
              "      <th></th>\n",
              "      <th></th>\n",
              "      <th></th>\n",
              "      <th></th>\n",
              "      <th></th>\n",
              "    </tr>\n",
              "  </thead>\n",
              "  <tbody>\n",
              "    <tr>\n",
              "      <th>10267</th>\n",
              "      <td>0.256076</td>\n",
              "      <td>0.148472</td>\n",
              "      <td>-0.208009</td>\n",
              "      <td>-0.200646</td>\n",
              "      <td>0.202193</td>\n",
              "      <td>0.074628</td>\n",
              "      <td>-0.041766</td>\n",
              "      <td>-0.166077</td>\n",
              "      <td>0.143518</td>\n",
              "    </tr>\n",
              "    <tr>\n",
              "      <th>10742</th>\n",
              "      <td>0.846200</td>\n",
              "      <td>0.304987</td>\n",
              "      <td>-1.166215</td>\n",
              "      <td>-0.083864</td>\n",
              "      <td>-1.351435</td>\n",
              "      <td>-0.677864</td>\n",
              "      <td>-0.841721</td>\n",
              "      <td>0.716938</td>\n",
              "      <td>0.008192</td>\n",
              "    </tr>\n",
              "    <tr>\n",
              "      <th>D0096</th>\n",
              "      <td>0.834327</td>\n",
              "      <td>0.645282</td>\n",
              "      <td>-0.486945</td>\n",
              "      <td>-0.183479</td>\n",
              "      <td>-0.063917</td>\n",
              "      <td>-0.990089</td>\n",
              "      <td>0.000000</td>\n",
              "      <td>-0.340237</td>\n",
              "      <td>0.000000</td>\n",
              "    </tr>\n",
              "    <tr>\n",
              "      <th>10264</th>\n",
              "      <td>0.130304</td>\n",
              "      <td>0.058137</td>\n",
              "      <td>-0.137305</td>\n",
              "      <td>-0.166205</td>\n",
              "      <td>1.678615</td>\n",
              "      <td>-0.342218</td>\n",
              "      <td>-0.097770</td>\n",
              "      <td>-0.313042</td>\n",
              "      <td>-0.440638</td>\n",
              "    </tr>\n",
              "    <tr>\n",
              "      <th>10432</th>\n",
              "      <td>-0.056374</td>\n",
              "      <td>-0.036275</td>\n",
              "      <td>-0.044410</td>\n",
              "      <td>-0.059014</td>\n",
              "      <td>0.651893</td>\n",
              "      <td>0.318784</td>\n",
              "      <td>0.353046</td>\n",
              "      <td>0.257501</td>\n",
              "      <td>0.000000</td>\n",
              "    </tr>\n",
              "    <tr>\n",
              "      <th>...</th>\n",
              "      <td>...</td>\n",
              "      <td>...</td>\n",
              "      <td>...</td>\n",
              "      <td>...</td>\n",
              "      <td>...</td>\n",
              "      <td>...</td>\n",
              "      <td>...</td>\n",
              "      <td>...</td>\n",
              "      <td>...</td>\n",
              "    </tr>\n",
              "    <tr>\n",
              "      <th>10181</th>\n",
              "      <td>0.110847</td>\n",
              "      <td>0.955881</td>\n",
              "      <td>1.221802</td>\n",
              "      <td>-0.123018</td>\n",
              "      <td>0.280217</td>\n",
              "      <td>0.656868</td>\n",
              "      <td>0.679107</td>\n",
              "      <td>-0.556825</td>\n",
              "      <td>0.000000</td>\n",
              "    </tr>\n",
              "    <tr>\n",
              "      <th>10382</th>\n",
              "      <td>0.744351</td>\n",
              "      <td>-0.051787</td>\n",
              "      <td>-1.570861</td>\n",
              "      <td>-0.219264</td>\n",
              "      <td>0.275661</td>\n",
              "      <td>0.023673</td>\n",
              "      <td>-0.086179</td>\n",
              "      <td>-0.036551</td>\n",
              "      <td>-0.070365</td>\n",
              "    </tr>\n",
              "    <tr>\n",
              "      <th>10156</th>\n",
              "      <td>0.041081</td>\n",
              "      <td>0.458379</td>\n",
              "      <td>0.687035</td>\n",
              "      <td>-0.155730</td>\n",
              "      <td>-0.272271</td>\n",
              "      <td>-0.566589</td>\n",
              "      <td>-0.426563</td>\n",
              "      <td>-0.453736</td>\n",
              "      <td>-0.703404</td>\n",
              "    </tr>\n",
              "    <tr>\n",
              "      <th>10619</th>\n",
              "      <td>-0.180571</td>\n",
              "      <td>-0.211724</td>\n",
              "      <td>-0.079436</td>\n",
              "      <td>0.055297</td>\n",
              "      <td>-0.638414</td>\n",
              "      <td>-0.533587</td>\n",
              "      <td>0.042436</td>\n",
              "      <td>-5.196896</td>\n",
              "      <td>0.000000</td>\n",
              "    </tr>\n",
              "    <tr>\n",
              "      <th>D2597</th>\n",
              "      <td>0.145625</td>\n",
              "      <td>-0.194465</td>\n",
              "      <td>-0.510061</td>\n",
              "      <td>-0.155064</td>\n",
              "      <td>-0.203422</td>\n",
              "      <td>-0.613761</td>\n",
              "      <td>0.000000</td>\n",
              "      <td>0.688239</td>\n",
              "      <td>1.268314</td>\n",
              "    </tr>\n",
              "  </tbody>\n",
              "</table>\n",
              "<p>342 rows × 9 columns</p>\n",
              "</div>"
            ],
            "text/plain": [
              "           temp      dwpt      rhum      prcp      wdir      wspd      wpgt  \\\n",
              "id                                                                            \n",
              "10267  0.256076  0.148472 -0.208009 -0.200646  0.202193  0.074628 -0.041766   \n",
              "10742  0.846200  0.304987 -1.166215 -0.083864 -1.351435 -0.677864 -0.841721   \n",
              "D0096  0.834327  0.645282 -0.486945 -0.183479 -0.063917 -0.990089  0.000000   \n",
              "10264  0.130304  0.058137 -0.137305 -0.166205  1.678615 -0.342218 -0.097770   \n",
              "10432 -0.056374 -0.036275 -0.044410 -0.059014  0.651893  0.318784  0.353046   \n",
              "...         ...       ...       ...       ...       ...       ...       ...   \n",
              "10181  0.110847  0.955881  1.221802 -0.123018  0.280217  0.656868  0.679107   \n",
              "10382  0.744351 -0.051787 -1.570861 -0.219264  0.275661  0.023673 -0.086179   \n",
              "10156  0.041081  0.458379  0.687035 -0.155730 -0.272271 -0.566589 -0.426563   \n",
              "10619 -0.180571 -0.211724 -0.079436  0.055297 -0.638414 -0.533587  0.042436   \n",
              "D2597  0.145625 -0.194465 -0.510061 -0.155064 -0.203422 -0.613761  0.000000   \n",
              "\n",
              "           pres      tsun  \n",
              "id                         \n",
              "10267 -0.166077  0.143518  \n",
              "10742  0.716938  0.008192  \n",
              "D0096 -0.340237  0.000000  \n",
              "10264 -0.313042 -0.440638  \n",
              "10432  0.257501  0.000000  \n",
              "...         ...       ...  \n",
              "10181 -0.556825  0.000000  \n",
              "10382 -0.036551 -0.070365  \n",
              "10156 -0.453736 -0.703404  \n",
              "10619 -5.196896  0.000000  \n",
              "D2597  0.688239  1.268314  \n",
              "\n",
              "[342 rows x 9 columns]"
            ]
          },
          "metadata": {},
          "execution_count": 17
        }
      ],
      "metadata": {}
    },
    {
      "cell_type": "code",
      "execution_count": 18,
      "source": [
        "# set y-column (suitable)\r\n",
        "Y = (filtered_wind_data.suitable)"
      ],
      "outputs": [],
      "metadata": {}
    },
    {
      "cell_type": "code",
      "execution_count": 19,
      "source": [
        "na_counts = pd.DataFrame(\r\n",
        "    [\r\n",
        "        zscore_df[col].isna().value_counts()\r\n",
        "        for col \r\n",
        "        in zscore_df.columns\r\n",
        "    ],index=zscore_df.columns)\r\n",
        "# check the na counts, should be zero everywhere\r\n",
        "na_counts"
      ],
      "outputs": [
        {
          "output_type": "execute_result",
          "data": {
            "text/html": [
              "<div>\n",
              "<style scoped>\n",
              "    .dataframe tbody tr th:only-of-type {\n",
              "        vertical-align: middle;\n",
              "    }\n",
              "\n",
              "    .dataframe tbody tr th {\n",
              "        vertical-align: top;\n",
              "    }\n",
              "\n",
              "    .dataframe thead th {\n",
              "        text-align: right;\n",
              "    }\n",
              "</style>\n",
              "<table border=\"1\" class=\"dataframe\">\n",
              "  <thead>\n",
              "    <tr style=\"text-align: right;\">\n",
              "      <th></th>\n",
              "      <th>False</th>\n",
              "    </tr>\n",
              "  </thead>\n",
              "  <tbody>\n",
              "    <tr>\n",
              "      <th>temp</th>\n",
              "      <td>342</td>\n",
              "    </tr>\n",
              "    <tr>\n",
              "      <th>dwpt</th>\n",
              "      <td>342</td>\n",
              "    </tr>\n",
              "    <tr>\n",
              "      <th>rhum</th>\n",
              "      <td>342</td>\n",
              "    </tr>\n",
              "    <tr>\n",
              "      <th>prcp</th>\n",
              "      <td>342</td>\n",
              "    </tr>\n",
              "    <tr>\n",
              "      <th>wdir</th>\n",
              "      <td>342</td>\n",
              "    </tr>\n",
              "    <tr>\n",
              "      <th>wspd</th>\n",
              "      <td>342</td>\n",
              "    </tr>\n",
              "    <tr>\n",
              "      <th>wpgt</th>\n",
              "      <td>342</td>\n",
              "    </tr>\n",
              "    <tr>\n",
              "      <th>pres</th>\n",
              "      <td>342</td>\n",
              "    </tr>\n",
              "    <tr>\n",
              "      <th>tsun</th>\n",
              "      <td>342</td>\n",
              "    </tr>\n",
              "  </tbody>\n",
              "</table>\n",
              "</div>"
            ],
            "text/plain": [
              "      False\n",
              "temp    342\n",
              "dwpt    342\n",
              "rhum    342\n",
              "prcp    342\n",
              "wdir    342\n",
              "wspd    342\n",
              "wpgt    342\n",
              "pres    342\n",
              "tsun    342"
            ]
          },
          "metadata": {},
          "execution_count": 19
        }
      ],
      "metadata": {}
    },
    {
      "cell_type": "code",
      "execution_count": 20,
      "source": [
        "from sklearn.model_selection import train_test_split"
      ],
      "outputs": [],
      "metadata": {}
    },
    {
      "cell_type": "code",
      "execution_count": 21,
      "source": [
        "# set the x columns\r\n",
        "X = zscore_df.drop(['wspd','wpgt','tsun'],axis=1)"
      ],
      "outputs": [],
      "metadata": {}
    },
    {
      "cell_type": "code",
      "execution_count": 22,
      "source": [
        "xtrain, xtest, ytrain, ytest = train_test_split(\r\n",
        "    X,\r\n",
        "    Y,\r\n",
        "    test_size=.2,\r\n",
        "    stratify=Y,\r\n",
        "    random_state=1\r\n",
        ")\r\n",
        "from sklearn.tree import DecisionTreeClassifier\r\n",
        "dt = DecisionTreeClassifier(max_depth=3, random_state=1)\r\n",
        "from sklearn.metrics import accuracy_score, confusion_matrix\r\n",
        "dt.fit(xtrain,ytrain)\r\n",
        "ypred = dt.predict(xtest)\r\n",
        "confusion_matrix(ytest,ypred)\r\n",
        "accuracy_score(ytest,ypred)"
      ],
      "outputs": [
        {
          "output_type": "execute_result",
          "data": {
            "text/plain": [
              "0.5942028985507246"
            ]
          },
          "metadata": {},
          "execution_count": 22
        }
      ],
      "metadata": {}
    },
    {
      "cell_type": "code",
      "execution_count": 23,
      "source": [
        "cm = pd.DataFrame(confusion_matrix(ytest,ypred))\r\n",
        "cm.index.name = 'true'\r\n",
        "cm.columns.name = 'pred'\r\n",
        "cm"
      ],
      "outputs": [
        {
          "output_type": "execute_result",
          "data": {
            "text/html": [
              "<div>\n",
              "<style scoped>\n",
              "    .dataframe tbody tr th:only-of-type {\n",
              "        vertical-align: middle;\n",
              "    }\n",
              "\n",
              "    .dataframe tbody tr th {\n",
              "        vertical-align: top;\n",
              "    }\n",
              "\n",
              "    .dataframe thead th {\n",
              "        text-align: right;\n",
              "    }\n",
              "</style>\n",
              "<table border=\"1\" class=\"dataframe\">\n",
              "  <thead>\n",
              "    <tr style=\"text-align: right;\">\n",
              "      <th>pred</th>\n",
              "      <th>0</th>\n",
              "      <th>1</th>\n",
              "    </tr>\n",
              "    <tr>\n",
              "      <th>true</th>\n",
              "      <th></th>\n",
              "      <th></th>\n",
              "    </tr>\n",
              "  </thead>\n",
              "  <tbody>\n",
              "    <tr>\n",
              "      <th>0</th>\n",
              "      <td>41</td>\n",
              "      <td>1</td>\n",
              "    </tr>\n",
              "    <tr>\n",
              "      <th>1</th>\n",
              "      <td>27</td>\n",
              "      <td>0</td>\n",
              "    </tr>\n",
              "  </tbody>\n",
              "</table>\n",
              "</div>"
            ],
            "text/plain": [
              "pred   0  1\n",
              "true       \n",
              "0     41  1\n",
              "1     27  0"
            ]
          },
          "metadata": {},
          "execution_count": 23
        }
      ],
      "metadata": {}
    },
    {
      "cell_type": "code",
      "execution_count": 24,
      "source": [
        "pd.Series(dt.feature_importances_,index=xtrain.columns)"
      ],
      "outputs": [
        {
          "output_type": "execute_result",
          "data": {
            "text/plain": [
              "temp    0.000000\n",
              "dwpt    0.114646\n",
              "rhum    0.129047\n",
              "prcp    0.275819\n",
              "wdir    0.150254\n",
              "pres    0.330234\n",
              "dtype: float64"
            ]
          },
          "metadata": {},
          "execution_count": 24
        }
      ],
      "metadata": {}
    },
    {
      "cell_type": "markdown",
      "source": [
        "Prepare the models <br>\r\n",
        "Models: <br>\r\n",
        "DecisionTreeClassifier <br>\r\n",
        "Random Forest <br>\r\n",
        "Log Reg<br>\r\n",
        "knn <br>\r\n",
        "Neuronales Netz <br>\r\n",
        "GradientBoosting"
      ],
      "metadata": {}
    },
    {
      "cell_type": "code",
      "execution_count": 25,
      "source": [
        "## Model: Decision Tree\r\n",
        "\r\n",
        "# Vorbereitung & Importe\r\n",
        "from sklearn.tree import DecisionTreeClassifier\r\n",
        "\r\n",
        "# Definition des Algorithmus\r\n",
        "decision_tree = DecisionTreeClassifier(max_depth=10, criterion=\"entropy\", random_state=1)\r\n",
        "\r\n",
        "# Fitting des Decision Tree Algorithmus auf dem gesamten Datensatz mit der Zielvariable 'Kauf' und den Eingabevariablen 'predictor_attributes'\r\n",
        "decision_tree.fit(xtrain,ytrain)\r\n",
        "\r\n",
        "# Der Decision Tree Algorithmus ohne Optimierung und ohne Datensplit liefert folgende Prognosegenauigkeit\r\n",
        "dt_score = decision_tree.score(xtest,ytest)\r\n",
        "print(\"Prognosegenauigkeit Decision Tree:\\t\\t \", dt_score)"
      ],
      "outputs": [
        {
          "output_type": "stream",
          "name": "stdout",
          "text": [
            "Prognosegenauigkeit Decision Tree:\t\t  0.5507246376811594\n"
          ]
        }
      ],
      "metadata": {}
    },
    {
      "cell_type": "code",
      "execution_count": 26,
      "source": [
        "# import Algorithms\r\n",
        "from sklearn.tree import DecisionTreeClassifier\r\n",
        "from sklearn.ensemble import RandomForestClassifier\r\n",
        "from sklearn.linear_model import LogisticRegression\r\n",
        "from sklearn.neighbors import KNeighborsClassifier\r\n",
        "from sklearn.neural_network import MLPClassifier\r\n",
        "from sklearn.ensemble import GradientBoostingClassifier\r\n"
      ],
      "outputs": [],
      "metadata": {}
    },
    {
      "cell_type": "code",
      "execution_count": 27,
      "source": [
        "# run models\r\n",
        "\r\n",
        "# collect accuracy scores in dict to compare\r\n",
        "acc_dict = {} \r\n",
        "##### Decision Tree\r\n",
        "\r\n",
        "# Fitting des Decision Tree Algorithmus auf den Trainingsdatensatz\r\n",
        "decision_tree_train = DecisionTreeClassifier(max_depth=10, criterion=\"entropy\", random_state=1)\r\n",
        "decision_tree_train.fit(xtrain, ytrain)\r\n",
        "\r\n",
        "# Der Decision Tree Algorithmus auf Basis der Trainingsdaten liefert folgende Prognosegenauigkeit\r\n",
        "print(\"Prognosegenauigkeit Decision Tree:\\n\")\r\n",
        "print(\"Testdaten:\\t\", decision_tree_train.score(xtest, ytest))\r\n",
        "acc_dict['decision tree'] = decision_tree_train.score(xtest, ytest)\r\n",
        "\r\n",
        "##### Random Forest\r\n",
        "\r\n",
        "# Fitting des Random Forest Algorithmus auf den Trainingsdatensatz\r\n",
        "random_forest_train = RandomForestClassifier(random_state=1)\r\n",
        "random_forest_train.fit(xtrain, ytrain)\r\n",
        "\r\n",
        "# Der Random Forest Algorithmus auf Basis der Trainingsdaten liefert folgende Prognosegenauigkeit\r\n",
        "print(\"\\n\\nPrognosegenauigkeit Random Forest:\\n\")\r\n",
        "print(\"Testdaten:\\t\", random_forest_train.score(xtest, ytest))\r\n",
        "acc_dict['random forest']= random_forest_train.score(xtest, ytest)\r\n",
        "\r\n",
        "\r\n",
        "##### Logistic Regression\r\n",
        "\r\n",
        "# Fitting des Logistic Regression Algorithmus auf den Trainingsdatensatz\r\n",
        "logistic_regression_train = LogisticRegression(max_iter=1000)\r\n",
        "logistic_regression_train.fit(xtrain, ytrain)\r\n",
        "\r\n",
        "# Der Logistic Regression Algorithmus auf Basis der Trainingsdaten liefert folgende Prognosegenauigkeit\r\n",
        "print(\"\\n\\nPrognosegenauigkeit Logistic Regression:\\n\")\r\n",
        "print(\"Testdaten:\\t\", logistic_regression_train.score(xtest, ytest))\r\n",
        "acc_dict['logistic regression']= logistic_regression_train.score(xtest, ytest)\r\n",
        "\r\n",
        "\r\n",
        "##### K-Nearest Neighbors\r\n",
        "\r\n",
        "# Fitting des K-Nearest Neighbors Algorithmus auf den Trainingsdatensatz\r\n",
        "knn_train = KNeighborsClassifier(n_neighbors=3, metric='euclidean')\r\n",
        "knn_train.fit(xtrain, ytrain)\r\n",
        "\r\n",
        "# Der K-Nearest Neighbors Algorithmus auf Basis der Trainingsdaten liefert folgende Prognosegenauigkeit\r\n",
        "print(\"\\n\\nPrognosegenauigkeit K-Nearest Neighbors:\\n\")\r\n",
        "print(\"Testdaten:\\t\", knn_train.score(xtest, ytest))\r\n",
        "acc_dict['knearest neighbors']=knn_train.score(xtest, ytest)\r\n",
        "\r\n",
        "##### Neuronales Netz\r\n",
        "\r\n",
        "# Fitting des Neuronalen Netz Algorithmus auf den Trainingsdatensatz\r\n",
        "neuronales_netz_train = MLPClassifier(max_iter=1000)\r\n",
        "neuronales_netz_train.fit(xtrain, ytrain)\r\n",
        "\r\n",
        "# Der Neuronales Netz Algorithmus auf Basis der Trainingsdaten liefert folgende Prognosegenauigkeit\r\n",
        "print(\"\\n\\nPrognosegenauigkeit Neuronales Netz:\\n\")\r\n",
        "print(\"Testdaten:\\t\", neuronales_netz_train.score(xtest, ytest))\r\n",
        "acc_dict['neuronales netz']=neuronales_netz_train.score(xtest, ytest)\r\n",
        "\r\n",
        "##### Gradient Tree Boosting\r\n",
        "\r\n",
        "# Fitting des Gradient Boosting Algorithmus auf den Trainingsdatensatz\r\n",
        "gradient_booosting_train = GradientBoostingClassifier()\r\n",
        "gradient_booosting_train.fit(xtrain, ytrain)\r\n",
        "\r\n",
        "# Der Gradient Boosting Algorithmus auf Basis der Trainingsdaten liefert folgende Prognosegenauigkeit\r\n",
        "print(\"\\n\\nPrognosegenauigkeit Gradient Tree Boosting:\\n\")\r\n",
        "print(\"Testdaten:\\t\", gradient_booosting_train.score(xtest, ytest))\r\n",
        "acc_dict['gradient boosting']= gradient_booosting_train.score(xtest, ytest)\r\n"
      ],
      "outputs": [
        {
          "output_type": "stream",
          "name": "stdout",
          "text": [
            "Prognosegenauigkeit Decision Tree:\n",
            "\n",
            "Testdaten:\t 0.5507246376811594\n",
            "\n",
            "\n",
            "Prognosegenauigkeit Random Forest:\n",
            "\n",
            "Testdaten:\t 0.5362318840579711\n",
            "\n",
            "\n",
            "Prognosegenauigkeit Logistic Regression:\n",
            "\n",
            "Testdaten:\t 0.6086956521739131\n",
            "\n",
            "\n",
            "Prognosegenauigkeit K-Nearest Neighbors:\n",
            "\n",
            "Testdaten:\t 0.5217391304347826\n",
            "\n",
            "\n",
            "Prognosegenauigkeit Neuronales Netz:\n",
            "\n",
            "Testdaten:\t 0.5362318840579711\n",
            "\n",
            "\n",
            "Prognosegenauigkeit Gradient Tree Boosting:\n",
            "\n",
            "Testdaten:\t 0.6086956521739131\n"
          ]
        },
        {
          "output_type": "stream",
          "name": "stderr",
          "text": [
            "G:\\Anaconda\\envs\\mapenv\\lib\\site-packages\\sklearn\\neural_network\\_multilayer_perceptron.py:614: ConvergenceWarning: Stochastic Optimizer: Maximum iterations (1000) reached and the optimization hasn't converged yet.\n",
            "  warnings.warn(\n"
          ]
        }
      ],
      "metadata": {}
    },
    {
      "cell_type": "code",
      "execution_count": 28,
      "source": [
        "# turn accuracy dict into dataframe and plot\r\n",
        "acc_df = pd.DataFrame(acc_dict,index=['accuracy score']).T\r\n",
        "# load acc_df based on stds\r\n",
        "acc_df_std = pd.read_csv('../data/acc_df_std.csv',index_col=0)"
      ],
      "outputs": [],
      "metadata": {}
    },
    {
      "cell_type": "code",
      "execution_count": 29,
      "source": [
        "# compare the acc_scores\r\n",
        "compare_acc_df = pd.concat([acc_df,acc_df_std],axis=1)\r\n",
        "compare_acc_df.columns = ['Trained with averages','Trained with deviations']\r\n",
        "compare_acc_df.plot(kind='bar',ylim=(0.40,0.9),rot=45, title='Accuracy of ML models for suitable wind power locations')\r\n",
        "# result: training a model with std values seems much more worthwile\r\n",
        "# following this comparison we tried to improve the model performance while keeping mean values for the training, this did not work out"
      ],
      "outputs": [
        {
          "output_type": "execute_result",
          "data": {
            "text/plain": [
              "<AxesSubplot:title={'center':'Accuracy of ML models for suitable wind power locations'}>"
            ]
          },
          "metadata": {},
          "execution_count": 29
        },
        {
          "output_type": "display_data",
          "data": {
            "image/png": "[encoded data removed]",
            "text/plain": [
              "<Figure size 432x288 with 1 Axes>"
            ]
          },
          "metadata": {
            "needs_background": "light"
          }
        }
      ],
      "metadata": {}
    },
    {
      "cell_type": "markdown",
      "source": [
        "# main part ends here\r\n",
        "following code was an experiment but not used for the final result"
      ],
      "metadata": {}
    },
    {
      "cell_type": "code",
      "execution_count": 30,
      "source": [
        "import matplotlib.pyplot as plt\r\n",
        "import seaborn as sns"
      ],
      "outputs": [],
      "metadata": {}
    },
    {
      "cell_type": "code",
      "execution_count": 31,
      "source": [
        "# Vorbereitung & Importe\r\n",
        "from sklearn import metrics\r\n",
        "\r\n",
        "##### Decision Tree\r\n",
        "\r\n",
        "# Decision Tree Algorithmus aus b)\r\n",
        "clf_tree = decision_tree_train.fit(xtrain, ytrain)\r\n",
        "\r\n",
        "# Prognosegenauigkeit\r\n",
        "score_tree = clf_tree.score(xtest, ytest)\r\n",
        "print (\"Accuracy Decision Tree: %0.4f\" % (score_tree))\r\n",
        "\r\n",
        "# Prognosen\r\n",
        "predictions_tree = clf_tree.predict(xtest)\r\n",
        "predictions_tree\r\n",
        "\r\n",
        "# Definition der Confusion Matrix\r\n",
        "cm_tree = metrics.confusion_matrix(ytest, predictions_tree)\r\n",
        "print(\"Confusion Matrix: \\n\", cm_tree)\r\n",
        "\r\n",
        "# Visualisierung der Confusion Matrix\r\n",
        "plt.figure(figsize=(9,9))\r\n",
        "sns.heatmap(cm_tree, annot=True, fmt=\".0f\", linewidths=.5, square = True, cmap = 'Blues_r');\r\n",
        "plt.ylabel('Actual Class');\r\n",
        "plt.xlabel('Predicted Class');\r\n",
        "all_sample_title = \"Test Accuracy Decision Tree: %0.4f\" % (score_tree)\r\n",
        "plt.title(all_sample_title, size = 15);\r\n",
        "\r\n",
        "\r\n",
        "##### Random Forest\r\n",
        "\r\n",
        "# Random Forest Algorithmus aus b)\r\n",
        "clf_random_forest = random_forest_train.fit(xtrain, ytrain)\r\n",
        "\r\n",
        "# Prognosegenauigkeit\r\n",
        "score_random_forest = clf_random_forest.score(xtest, ytest)\r\n",
        "print (\"Accuracy Random Forest: %0.4f\" % (score_random_forest))\r\n",
        "\r\n",
        "# Prognosen\r\n",
        "predictions_random_forest = clf_random_forest.predict(xtest)\r\n",
        "predictions_random_forest\r\n",
        "\r\n",
        "# Definition der Confusion Matrix\r\n",
        "cm_random_forest = metrics.confusion_matrix(ytest, predictions_random_forest)\r\n",
        "print(\"Confusion Matrix: \\n\", cm_random_forest)\r\n",
        "\r\n",
        "# Visualisierung der Confusion Matrix\r\n",
        "plt.figure(figsize=(9,9))\r\n",
        "sns.heatmap(cm_random_forest, annot=True, fmt=\".0f\", linewidths=.5, square = True, cmap = 'Blues_r');\r\n",
        "plt.ylabel('Actual Class');\r\n",
        "plt.xlabel('Predicted Class');\r\n",
        "all_sample_title = \"Test Accuracy Random Forest: %0.4f\" % (score_random_forest)\r\n",
        "plt.title(all_sample_title, size = 15);\r\n",
        "\r\n",
        "\r\n",
        "##### Logistic Regression\r\n",
        "\r\n",
        "# Logistic Regression Algorithmus aus b)\r\n",
        "clf_logreg = logistic_regression_train.fit(xtrain, ytrain)\r\n",
        "\r\n",
        "# Prognosegenauigkeit\r\n",
        "score_logreg = clf_logreg.score(xtest, ytest)\r\n",
        "print (\"Accuracy Logistic Regression: %0.4f\" % (score_logreg))\r\n",
        "\r\n",
        "# Prognosen\r\n",
        "predictions_logreg = clf_logreg.predict(xtest)\r\n",
        "predictions_logreg\r\n",
        "\r\n",
        "# Definition der Confusion Matrix\r\n",
        "cm_logreg = metrics.confusion_matrix(ytest, predictions_logreg)\r\n",
        "print(\"Confusion Matrix: \\n\", cm_logreg)\r\n",
        "\r\n",
        "# Visualisierung der Confusion Matrix\r\n",
        "plt.figure(figsize=(9,9))\r\n",
        "sns.heatmap(cm_logreg, annot=True, fmt=\".0f\", linewidths=.5, square = True, cmap = 'Blues_r');\r\n",
        "plt.ylabel('Actual Class');\r\n",
        "plt.xlabel('Predicted Class');\r\n",
        "all_sample_title = \"Test Accuracy Logistic Regression: %0.4f\" % (score_logreg)\r\n",
        "plt.title(all_sample_title, size = 15);\r\n",
        "\r\n",
        "\r\n",
        "##### K-Nearest Neighbors\r\n",
        "\r\n",
        "# K-Nearest Neighbors Algorithmus aus b)\r\n",
        "clf_knn = knn_train.fit(xtrain, ytrain)\r\n",
        "\r\n",
        "# Prognosegenauigkeit\r\n",
        "score_knn = clf_knn.score(xtest, ytest)\r\n",
        "print (\"Accuracy K-Nearest Neighbors: %0.4f\" % (score_knn))\r\n",
        "\r\n",
        "# Prognosen\r\n",
        "predictions_knn = clf_knn.predict(xtest)\r\n",
        "predictions_knn\r\n",
        "\r\n",
        "# Definition der Confusion Matrix\r\n",
        "cm_knn = metrics.confusion_matrix(ytest, predictions_knn)\r\n",
        "print(\"Confusion Matrix: \\n\", cm_knn)\r\n",
        "\r\n",
        "# Visualisierung der Confusion Matrix\r\n",
        "plt.figure(figsize=(9,9))\r\n",
        "sns.heatmap(cm_knn, annot=True, fmt=\".0f\", linewidths=.5, square = True, cmap = 'Blues_r');\r\n",
        "plt.ylabel('Actual Class');\r\n",
        "plt.xlabel('Predicted Class');\r\n",
        "all_sample_title = \"Test Accuracy K-Nearest Neighbors: %0.4f\" % (score_knn)\r\n",
        "plt.title(all_sample_title, size = 15);\r\n",
        "\r\n",
        "\r\n",
        "##### Neuronales Netz\r\n",
        "\r\n",
        "# Neuronales Netz Algorithmus aus b)\r\n",
        "clf_neuronales_netz = neuronales_netz_train.fit(xtrain, ytrain)\r\n",
        "\r\n",
        "# Prognosegenauigkeit\r\n",
        "score_neuronales_netz = clf_neuronales_netz.score(xtest, ytest)\r\n",
        "print (\"Accuracy Neuronales Netz: %0.4f\" % (score_neuronales_netz))\r\n",
        "\r\n",
        "# Prognosen\r\n",
        "predictions_neuronales_netz = clf_neuronales_netz.predict(xtest)\r\n",
        "predictions_neuronales_netz\r\n",
        "\r\n",
        "# Definition der Confusion Matrix\r\n",
        "cm_neuronales_netz = metrics.confusion_matrix(ytest, predictions_neuronales_netz)\r\n",
        "print(\"Confusion Matrix: \\n\", cm_neuronales_netz)\r\n",
        "\r\n",
        "# Visualisierung der Confusion Matrix\r\n",
        "plt.figure(figsize=(9,9))\r\n",
        "sns.heatmap(cm_neuronales_netz, annot=True, fmt=\".0f\", linewidths=.5, square = True, cmap = 'Blues_r');\r\n",
        "plt.ylabel('Actual Class');\r\n",
        "plt.xlabel('Predicted Class');\r\n",
        "all_sample_title = \"Test Accuracy Neuronales Netz: %0.4f\" % (score_neuronales_netz)\r\n",
        "plt.title(all_sample_title, size = 15);\r\n",
        "\r\n",
        "\r\n",
        "##### Gradient Tree Boosting\r\n",
        "\r\n",
        "# Gradient Tree Boosting Algorithmus aus b)\r\n",
        "clf_gradient_boosting = gradient_booosting_train.fit(xtrain, ytrain)\r\n",
        "\r\n",
        "# Prognosegenauigkeit\r\n",
        "score_gradient_boosting = clf_gradient_boosting.score(xtest, ytest)\r\n",
        "print (\"Accuracy Gradient Tree Boosting: %0.4f\" % (score_gradient_boosting))\r\n",
        "\r\n",
        "# Prognosen\r\n",
        "predictions_gradient_boosting = clf_gradient_boosting.predict(xtest)\r\n",
        "predictions_gradient_boosting\r\n",
        "\r\n",
        "# Definition der Confusion Matrix\r\n",
        "cm_gradient_boosting = metrics.confusion_matrix(ytest, predictions_gradient_boosting)\r\n",
        "print(\"Confusion Matrix: \\n\", cm_gradient_boosting)\r\n",
        "\r\n",
        "# Visualisierung der Confusion Matrix\r\n",
        "plt.figure(figsize=(9,9))\r\n",
        "sns.heatmap(cm_gradient_boosting, annot=True, fmt=\".0f\", linewidths=.5, square = True, cmap = 'Blues_r');\r\n",
        "plt.ylabel('Actual Class');\r\n",
        "plt.xlabel('Predicted Class');\r\n",
        "all_sample_title = \"Test Accuracy Gradient Tree Boosting: %0.4f\" % (score_gradient_boosting)\r\n",
        "plt.title(all_sample_title, size = 15);"
      ],
      "outputs": [
        {
          "output_type": "stream",
          "name": "stdout",
          "text": [
            "Accuracy Decision Tree: 0.5507\n",
            "Confusion Matrix: \n",
            " [[28 14]\n",
            " [17 10]]\n",
            "Accuracy Random Forest: 0.5072\n",
            "Confusion Matrix: \n",
            " [[32 10]\n",
            " [24  3]]\n",
            "Accuracy Logistic Regression: 0.5942\n",
            "Confusion Matrix: \n",
            " [[41  1]\n",
            " [27  0]]\n",
            "Accuracy K-Nearest Neighbors: 0.5217\n",
            "Confusion Matrix: \n",
            " [[29 13]\n",
            " [20  7]]\n"
          ]
        },
        {
          "output_type": "stream",
          "name": "stderr",
          "text": [
            "G:\\Anaconda\\envs\\mapenv\\lib\\site-packages\\sklearn\\neural_network\\_multilayer_perceptron.py:614: ConvergenceWarning: Stochastic Optimizer: Maximum iterations (1000) reached and the optimization hasn't converged yet.\n",
            "  warnings.warn(\n"
          ]
        },
        {
          "output_type": "stream",
          "name": "stdout",
          "text": [
            "Accuracy Neuronales Netz: 0.5652\n",
            "Confusion Matrix: \n",
            " [[32 10]\n",
            " [20  7]]\n",
            "Accuracy Gradient Tree Boosting: 0.5507\n",
            "Confusion Matrix: \n",
            " [[32 10]\n",
            " [21  6]]\n"
          ]
        },
        {
          "output_type": "display_data",
          "data": {
            "image/png": "[encoded data removed]",
            "text/plain": [
              "<Figure size 648x648 with 2 Axes>"
            ]
          },
          "metadata": {
            "needs_background": "light"
          }
        },
        {
          "output_type": "display_data",
          "data": {
            "image/png": "[encoded data removed]",
            "text/plain": [
              "<Figure size 648x648 with 2 Axes>"
            ]
          },
          "metadata": {
            "needs_background": "light"
          }
        },
        {
          "output_type": "display_data",
          "data": {
            "image/png": "[encoded data removed]",
            "text/plain": [
              "<Figure size 648x648 with 2 Axes>"
            ]
          },
          "metadata": {
            "needs_background": "light"
          }
        },
        {
          "output_type": "display_data",
          "data": {
            "image/png": "[encoded data removed]",
            "text/plain": [
              "<Figure size 648x648 with 2 Axes>"
            ]
          },
          "metadata": {
            "needs_background": "light"
          }
        },
        {
          "output_type": "display_data",
          "data": {
            "image/png": "[encoded data removed]",
            "text/plain": [
              "<Figure size 648x648 with 2 Axes>"
            ]
          },
          "metadata": {
            "needs_background": "light"
          }
        },
        {
          "output_type": "display_data",
          "data": {
            "image/png": "[encoded data removed]",
            "text/plain": [
              "<Figure size 648x648 with 2 Axes>"
            ]
          },
          "metadata": {
            "needs_background": "light"
          }
        }
      ],
      "metadata": {}
    },
    {
      "cell_type": "code",
      "execution_count": 32,
      "source": [
        "# Vorbereitung & Importe\r\n",
        "from sklearn.model_selection import KFold\r\n",
        "from sklearn.model_selection import cross_val_score\r\n",
        "from IPython.display import display, HTML\r\n",
        "\r\n",
        "cv_kfold = KFold(n_splits = 10)\r\n",
        "\r\n",
        "\r\n",
        "##### Decision Tree\r\n",
        "\r\n",
        "# Decision Tree Algorithmus aus c)\r\n",
        "clf_tree_kfold = DecisionTreeClassifier(max_depth=10, criterion=\"entropy\", random_state=1)\r\n",
        "\r\n",
        "# Prognosegenauigkeit\r\n",
        "score_tree_kfold = cross_val_score(clf_tree_kfold, X, Y, cv = cv_kfold)\r\n",
        "\r\n",
        "\r\n",
        "\r\n",
        "##### Random Forest\r\n",
        "\r\n",
        "# Random Forest Algorithmus aus c)\r\n",
        "clf_random_forest_kfold = RandomForestClassifier(random_state=1)\r\n",
        "\r\n",
        "# Prognosegenauigkeit\r\n",
        "score_random_forest_kfold = cross_val_score(clf_random_forest_kfold, X, Y, cv = cv_kfold)\r\n",
        "\r\n",
        "\r\n",
        "\r\n",
        "##### Logistic Regression\r\n",
        "\r\n",
        "# Logistic Regression Algorithmus aus c)\r\n",
        "clf_logreg_kfold = LogisticRegression(max_iter=1000)\r\n",
        "\r\n",
        "# Prognosegenauigkeit\r\n",
        "score_logreg_kfold = cross_val_score(clf_logreg_kfold, X, Y, cv = cv_kfold)\r\n",
        "\r\n",
        "\r\n",
        "##### K-Nearest Neighbors\r\n",
        "\r\n",
        "# K-Nearest Neighbors Algorithmus aus c)\r\n",
        "clf_knn_kfold = KNeighborsClassifier(n_neighbors=3, metric='euclidean')\r\n",
        "\r\n",
        "# Prognosegenauigkeit\r\n",
        "score_knn_kfold = cross_val_score(clf_knn_kfold, X, Y, cv = cv_kfold)\r\n",
        "\r\n",
        "\r\n",
        "\r\n",
        "##### Neuronales Netz\r\n",
        "\r\n",
        "# Neuronales Netz Algorithmus aus c)\r\n",
        "clf_neuronales_netz_kfold = MLPClassifier(max_iter=1000)\r\n",
        "\r\n",
        "# Prognosegenauigkeit\r\n",
        "score_neuronales_netz_kfold = cross_val_score(clf_neuronales_netz_kfold, X, Y, cv = cv_kfold)\r\n",
        "\r\n",
        "\r\n",
        "\r\n",
        "##### Gradient Tree Boosting\r\n",
        "\r\n",
        "# Gradient Boosting Algorithmus aus c)\r\n",
        "clf_gradient_boosting_kfold = GradientBoostingClassifier()\r\n",
        "\r\n",
        "# Prognosegenauigkeit\r\n",
        "score_gradient_boosting_kfold = cross_val_score(clf_gradient_boosting_kfold, X, Y, cv = cv_kfold)\r\n",
        "\r\n",
        "\r\n",
        "df_plot_kfold_class = pd.DataFrame(\r\n",
        "        {'Decision Tree': score_tree_kfold,\r\n",
        "         'Random Forest': score_random_forest_kfold,\r\n",
        "         'Logistic Regression': score_logreg_kfold,\r\n",
        "         'K-Nearest Neighbors': score_knn_kfold,\r\n",
        "         'Neuronales Netz': score_neuronales_netz_kfold,\r\n",
        "         'Gradient Tree Boosting': score_gradient_boosting_kfold}\r\n",
        ")\r\n",
        "\r\n",
        "display(df_plot_kfold_class.describe())"
      ],
      "outputs": [
        {
          "output_type": "stream",
          "name": "stderr",
          "text": [
            "G:\\Anaconda\\envs\\mapenv\\lib\\site-packages\\sklearn\\neural_network\\_multilayer_perceptron.py:614: ConvergenceWarning: Stochastic Optimizer: Maximum iterations (1000) reached and the optimization hasn't converged yet.\n",
            "  warnings.warn(\n",
            "G:\\Anaconda\\envs\\mapenv\\lib\\site-packages\\sklearn\\neural_network\\_multilayer_perceptron.py:614: ConvergenceWarning: Stochastic Optimizer: Maximum iterations (1000) reached and the optimization hasn't converged yet.\n",
            "  warnings.warn(\n",
            "G:\\Anaconda\\envs\\mapenv\\lib\\site-packages\\sklearn\\neural_network\\_multilayer_perceptron.py:614: ConvergenceWarning: Stochastic Optimizer: Maximum iterations (1000) reached and the optimization hasn't converged yet.\n",
            "  warnings.warn(\n",
            "G:\\Anaconda\\envs\\mapenv\\lib\\site-packages\\sklearn\\neural_network\\_multilayer_perceptron.py:614: ConvergenceWarning: Stochastic Optimizer: Maximum iterations (1000) reached and the optimization hasn't converged yet.\n",
            "  warnings.warn(\n",
            "G:\\Anaconda\\envs\\mapenv\\lib\\site-packages\\sklearn\\neural_network\\_multilayer_perceptron.py:614: ConvergenceWarning: Stochastic Optimizer: Maximum iterations (1000) reached and the optimization hasn't converged yet.\n",
            "  warnings.warn(\n",
            "G:\\Anaconda\\envs\\mapenv\\lib\\site-packages\\sklearn\\neural_network\\_multilayer_perceptron.py:614: ConvergenceWarning: Stochastic Optimizer: Maximum iterations (1000) reached and the optimization hasn't converged yet.\n",
            "  warnings.warn(\n",
            "G:\\Anaconda\\envs\\mapenv\\lib\\site-packages\\sklearn\\neural_network\\_multilayer_perceptron.py:614: ConvergenceWarning: Stochastic Optimizer: Maximum iterations (1000) reached and the optimization hasn't converged yet.\n",
            "  warnings.warn(\n",
            "G:\\Anaconda\\envs\\mapenv\\lib\\site-packages\\sklearn\\neural_network\\_multilayer_perceptron.py:614: ConvergenceWarning: Stochastic Optimizer: Maximum iterations (1000) reached and the optimization hasn't converged yet.\n",
            "  warnings.warn(\n",
            "G:\\Anaconda\\envs\\mapenv\\lib\\site-packages\\sklearn\\neural_network\\_multilayer_perceptron.py:614: ConvergenceWarning: Stochastic Optimizer: Maximum iterations (1000) reached and the optimization hasn't converged yet.\n",
            "  warnings.warn(\n",
            "G:\\Anaconda\\envs\\mapenv\\lib\\site-packages\\sklearn\\neural_network\\_multilayer_perceptron.py:614: ConvergenceWarning: Stochastic Optimizer: Maximum iterations (1000) reached and the optimization hasn't converged yet.\n",
            "  warnings.warn(\n"
          ]
        },
        {
          "output_type": "display_data",
          "data": {
            "text/html": [
              "<div>\n",
              "<style scoped>\n",
              "    .dataframe tbody tr th:only-of-type {\n",
              "        vertical-align: middle;\n",
              "    }\n",
              "\n",
              "    .dataframe tbody tr th {\n",
              "        vertical-align: top;\n",
              "    }\n",
              "\n",
              "    .dataframe thead th {\n",
              "        text-align: right;\n",
              "    }\n",
              "</style>\n",
              "<table border=\"1\" class=\"dataframe\">\n",
              "  <thead>\n",
              "    <tr style=\"text-align: right;\">\n",
              "      <th></th>\n",
              "      <th>Decision Tree</th>\n",
              "      <th>Random Forest</th>\n",
              "      <th>Logistic Regression</th>\n",
              "      <th>K-Nearest Neighbors</th>\n",
              "      <th>Neuronales Netz</th>\n",
              "      <th>Gradient Tree Boosting</th>\n",
              "    </tr>\n",
              "  </thead>\n",
              "  <tbody>\n",
              "    <tr>\n",
              "      <th>count</th>\n",
              "      <td>10.000000</td>\n",
              "      <td>10.000000</td>\n",
              "      <td>10.000000</td>\n",
              "      <td>10.000000</td>\n",
              "      <td>10.000000</td>\n",
              "      <td>10.000000</td>\n",
              "    </tr>\n",
              "    <tr>\n",
              "      <th>mean</th>\n",
              "      <td>0.541849</td>\n",
              "      <td>0.550840</td>\n",
              "      <td>0.616303</td>\n",
              "      <td>0.562773</td>\n",
              "      <td>0.530420</td>\n",
              "      <td>0.527059</td>\n",
              "    </tr>\n",
              "    <tr>\n",
              "      <th>std</th>\n",
              "      <td>0.164085</td>\n",
              "      <td>0.146903</td>\n",
              "      <td>0.244099</td>\n",
              "      <td>0.159178</td>\n",
              "      <td>0.140385</td>\n",
              "      <td>0.127396</td>\n",
              "    </tr>\n",
              "    <tr>\n",
              "      <th>min</th>\n",
              "      <td>0.171429</td>\n",
              "      <td>0.228571</td>\n",
              "      <td>0.057143</td>\n",
              "      <td>0.200000</td>\n",
              "      <td>0.257143</td>\n",
              "      <td>0.285714</td>\n",
              "    </tr>\n",
              "    <tr>\n",
              "      <th>25%</th>\n",
              "      <td>0.536765</td>\n",
              "      <td>0.503992</td>\n",
              "      <td>0.522059</td>\n",
              "      <td>0.482563</td>\n",
              "      <td>0.448529</td>\n",
              "      <td>0.518067</td>\n",
              "    </tr>\n",
              "    <tr>\n",
              "      <th>50%</th>\n",
              "      <td>0.588235</td>\n",
              "      <td>0.602941</td>\n",
              "      <td>0.705882</td>\n",
              "      <td>0.617647</td>\n",
              "      <td>0.558824</td>\n",
              "      <td>0.544118</td>\n",
              "    </tr>\n",
              "    <tr>\n",
              "      <th>75%</th>\n",
              "      <td>0.613235</td>\n",
              "      <td>0.647059</td>\n",
              "      <td>0.764706</td>\n",
              "      <td>0.647059</td>\n",
              "      <td>0.617647</td>\n",
              "      <td>0.617647</td>\n",
              "    </tr>\n",
              "    <tr>\n",
              "      <th>max</th>\n",
              "      <td>0.735294</td>\n",
              "      <td>0.705882</td>\n",
              "      <td>0.882353</td>\n",
              "      <td>0.735294</td>\n",
              "      <td>0.735294</td>\n",
              "      <td>0.647059</td>\n",
              "    </tr>\n",
              "  </tbody>\n",
              "</table>\n",
              "</div>"
            ],
            "text/plain": [
              "       Decision Tree  Random Forest  Logistic Regression  K-Nearest Neighbors  \\\n",
              "count      10.000000      10.000000            10.000000            10.000000   \n",
              "mean        0.541849       0.550840             0.616303             0.562773   \n",
              "std         0.164085       0.146903             0.244099             0.159178   \n",
              "min         0.171429       0.228571             0.057143             0.200000   \n",
              "25%         0.536765       0.503992             0.522059             0.482563   \n",
              "50%         0.588235       0.602941             0.705882             0.617647   \n",
              "75%         0.613235       0.647059             0.764706             0.647059   \n",
              "max         0.735294       0.705882             0.882353             0.735294   \n",
              "\n",
              "       Neuronales Netz  Gradient Tree Boosting  \n",
              "count        10.000000               10.000000  \n",
              "mean          0.530420                0.527059  \n",
              "std           0.140385                0.127396  \n",
              "min           0.257143                0.285714  \n",
              "25%           0.448529                0.518067  \n",
              "50%           0.558824                0.544118  \n",
              "75%           0.617647                0.617647  \n",
              "max           0.735294                0.647059  "
            ]
          },
          "metadata": {}
        }
      ],
      "metadata": {}
    },
    {
      "cell_type": "code",
      "execution_count": 33,
      "source": [
        "import plotly.express as px"
      ],
      "outputs": [],
      "metadata": {}
    },
    {
      "cell_type": "code",
      "execution_count": 34,
      "source": [
        "# Darstellung als Boxplot\r\n",
        "fig = px.box(df_plot_kfold_class)\r\n",
        "fig.update_layout(\r\n",
        "    title='K-Fold Cross Validation',\r\n",
        "    xaxis_title='Modelle',\r\n",
        "    yaxis_title=' ',\r\n",
        ")"
      ],
      "outputs": [
        {
          "output_type": "display_data",
          "data": {
            "application/vnd.plotly.v1+json": {
              "config": {
                "plotlyServerURL": "https://plot.ly"
              },
              "data": [
                {
                  "alignmentgroup": "True",
                  "hovertemplate": "variable=%{x}<br>value=%{y}<extra></extra>",
                  "legendgroup": "",
                  "marker": {
                    "color": "#636efa"
                  },
                  "name": "",
                  "notched": false,
                  "offsetgroup": "",
                  "orientation": "v",
                  "showlegend": false,
                  "type": "box",
                  "x": [
                    "Decision Tree",
                    "Decision Tree",
                    "Decision Tree",
                    "Decision Tree",
                    "Decision Tree",
                    "Decision Tree",
                    "Decision Tree",
                    "Decision Tree",
                    "Decision Tree",
                    "Decision Tree",
                    "Random Forest",
                    "Random Forest",
                    "Random Forest",
                    "Random Forest",
                    "Random Forest",
                    "Random Forest",
                    "Random Forest",
                    "Random Forest",
                    "Random Forest",
                    "Random Forest",
                    "Logistic Regression",
                    "Logistic Regression",
                    "Logistic Regression",
                    "Logistic Regression",
                    "Logistic Regression",
                    "Logistic Regression",
                    "Logistic Regression",
                    "Logistic Regression",
                    "Logistic Regression",
                    "Logistic Regression",
                    "K-Nearest Neighbors",
                    "K-Nearest Neighbors",
                    "K-Nearest Neighbors",
                    "K-Nearest Neighbors",
                    "K-Nearest Neighbors",
                    "K-Nearest Neighbors",
                    "K-Nearest Neighbors",
                    "K-Nearest Neighbors",
                    "K-Nearest Neighbors",
                    "K-Nearest Neighbors",
                    "Neuronales Netz",
                    "Neuronales Netz",
                    "Neuronales Netz",
                    "Neuronales Netz",
                    "Neuronales Netz",
                    "Neuronales Netz",
                    "Neuronales Netz",
                    "Neuronales Netz",
                    "Neuronales Netz",
                    "Neuronales Netz",
                    "Gradient Tree Boosting",
                    "Gradient Tree Boosting",
                    "Gradient Tree Boosting",
                    "Gradient Tree Boosting",
                    "Gradient Tree Boosting",
                    "Gradient Tree Boosting",
                    "Gradient Tree Boosting",
                    "Gradient Tree Boosting",
                    "Gradient Tree Boosting",
                    "Gradient Tree Boosting"
                  ],
                  "x0": " ",
                  "xaxis": "x",
                  "y": [
                    0.17142857142857143,
                    0.6,
                    0.6176470588235294,
                    0.5294117647058824,
                    0.5588235294117647,
                    0.35294117647058826,
                    0.5882352941176471,
                    0.7352941176470589,
                    0.5882352941176471,
                    0.6764705882352942,
                    0.22857142857142856,
                    0.4857142857142857,
                    0.5882352941176471,
                    0.6470588235294118,
                    0.7058823529411765,
                    0.38235294117647056,
                    0.5588235294117647,
                    0.6470588235294118,
                    0.6470588235294118,
                    0.6176470588235294,
                    0.05714285714285714,
                    0.4,
                    0.5882352941176471,
                    0.7058823529411765,
                    0.7058823529411765,
                    0.5,
                    0.7647058823529411,
                    0.8823529411764706,
                    0.7647058823529411,
                    0.7941176470588235,
                    0.2,
                    0.45714285714285713,
                    0.5588235294117647,
                    0.7352941176470589,
                    0.6470588235294118,
                    0.4411764705882353,
                    0.7058823529411765,
                    0.6176470588235294,
                    0.6470588235294118,
                    0.6176470588235294,
                    0.2571428571428571,
                    0.4,
                    0.5294117647058824,
                    0.6470588235294118,
                    0.6176470588235294,
                    0.4411764705882353,
                    0.6176470588235294,
                    0.47058823529411764,
                    0.5882352941176471,
                    0.7352941176470589,
                    0.2857142857142857,
                    0.5142857142857142,
                    0.6470588235294118,
                    0.6176470588235294,
                    0.6470588235294118,
                    0.3235294117647059,
                    0.5294117647058824,
                    0.5588235294117647,
                    0.5294117647058824,
                    0.6176470588235294
                  ],
                  "y0": " ",
                  "yaxis": "y"
                }
              ],
              "layout": {
                "boxmode": "group",
                "legend": {
                  "tracegroupgap": 0
                },
                "margin": {
                  "t": 60
                },
                "template": {
                  "data": {
                    "bar": [
                      {
                        "error_x": {
                          "color": "#2a3f5f"
                        },
                        "error_y": {
                          "color": "#2a3f5f"
                        },
                        "marker": {
                          "line": {
                            "color": "#E5ECF6",
                            "width": 0.5
                          },
                          "pattern": {
                            "fillmode": "overlay",
                            "size": 10,
                            "solidity": 0.2
                          }
                        },
                        "type": "bar"
                      }
                    ],
                    "barpolar": [
                      {
                        "marker": {
                          "line": {
                            "color": "#E5ECF6",
                            "width": 0.5
                          },
                          "pattern": {
                            "fillmode": "overlay",
                            "size": 10,
                            "solidity": 0.2
                          }
                        },
                        "type": "barpolar"
                      }
                    ],
                    "carpet": [
                      {
                        "aaxis": {
                          "endlinecolor": "#2a3f5f",
                          "gridcolor": "white",
                          "linecolor": "white",
                          "minorgridcolor": "white",
                          "startlinecolor": "#2a3f5f"
                        },
                        "baxis": {
                          "endlinecolor": "#2a3f5f",
                          "gridcolor": "white",
                          "linecolor": "white",
                          "minorgridcolor": "white",
                          "startlinecolor": "#2a3f5f"
                        },
                        "type": "carpet"
                      }
                    ],
                    "choropleth": [
                      {
                        "colorbar": {
                          "outlinewidth": 0,
                          "ticks": ""
                        },
                        "type": "choropleth"
                      }
                    ],
                    "contour": [
                      {
                        "colorbar": {
                          "outlinewidth": 0,
                          "ticks": ""
                        },
                        "colorscale": [
                          [
                            0,
                            "#0d0887"
                          ],
                          [
                            0.1111111111111111,
                            "#46039f"
                          ],
                          [
                            0.2222222222222222,
                            "#7201a8"
                          ],
                          [
                            0.3333333333333333,
                            "#9c179e"
                          ],
                          [
                            0.4444444444444444,
                            "#bd3786"
                          ],
                          [
                            0.5555555555555556,
                            "#d8576b"
                          ],
                          [
                            0.6666666666666666,
                            "#ed7953"
                          ],
                          [
                            0.7777777777777778,
                            "#fb9f3a"
                          ],
                          [
                            0.8888888888888888,
                            "#fdca26"
                          ],
                          [
                            1,
                            "#f0f921"
                          ]
                        ],
                        "type": "contour"
                      }
                    ],
                    "contourcarpet": [
                      {
                        "colorbar": {
                          "outlinewidth": 0,
                          "ticks": ""
                        },
                        "type": "contourcarpet"
                      }
                    ],
                    "heatmap": [
                      {
                        "colorbar": {
                          "outlinewidth": 0,
                          "ticks": ""
                        },
                        "colorscale": [
                          [
                            0,
                            "#0d0887"
                          ],
                          [
                            0.1111111111111111,
                            "#46039f"
                          ],
                          [
                            0.2222222222222222,
                            "#7201a8"
                          ],
                          [
                            0.3333333333333333,
                            "#9c179e"
                          ],
                          [
                            0.4444444444444444,
                            "#bd3786"
                          ],
                          [
                            0.5555555555555556,
                            "#d8576b"
                          ],
                          [
                            0.6666666666666666,
                            "#ed7953"
                          ],
                          [
                            0.7777777777777778,
                            "#fb9f3a"
                          ],
                          [
                            0.8888888888888888,
                            "#fdca26"
                          ],
                          [
                            1,
                            "#f0f921"
                          ]
                        ],
                        "type": "heatmap"
                      }
                    ],
                    "heatmapgl": [
                      {
                        "colorbar": {
                          "outlinewidth": 0,
                          "ticks": ""
                        },
                        "colorscale": [
                          [
                            0,
                            "#0d0887"
                          ],
                          [
                            0.1111111111111111,
                            "#46039f"
                          ],
                          [
                            0.2222222222222222,
                            "#7201a8"
                          ],
                          [
                            0.3333333333333333,
                            "#9c179e"
                          ],
                          [
                            0.4444444444444444,
                            "#bd3786"
                          ],
                          [
                            0.5555555555555556,
                            "#d8576b"
                          ],
                          [
                            0.6666666666666666,
                            "#ed7953"
                          ],
                          [
                            0.7777777777777778,
                            "#fb9f3a"
                          ],
                          [
                            0.8888888888888888,
                            "#fdca26"
                          ],
                          [
                            1,
                            "#f0f921"
                          ]
                        ],
                        "type": "heatmapgl"
                      }
                    ],
                    "histogram": [
                      {
                        "marker": {
                          "pattern": {
                            "fillmode": "overlay",
                            "size": 10,
                            "solidity": 0.2
                          }
                        },
                        "type": "histogram"
                      }
                    ],
                    "histogram2d": [
                      {
                        "colorbar": {
                          "outlinewidth": 0,
                          "ticks": ""
                        },
                        "colorscale": [
                          [
                            0,
                            "#0d0887"
                          ],
                          [
                            0.1111111111111111,
                            "#46039f"
                          ],
                          [
                            0.2222222222222222,
                            "#7201a8"
                          ],
                          [
                            0.3333333333333333,
                            "#9c179e"
                          ],
                          [
                            0.4444444444444444,
                            "#bd3786"
                          ],
                          [
                            0.5555555555555556,
                            "#d8576b"
                          ],
                          [
                            0.6666666666666666,
                            "#ed7953"
                          ],
                          [
                            0.7777777777777778,
                            "#fb9f3a"
                          ],
                          [
                            0.8888888888888888,
                            "#fdca26"
                          ],
                          [
                            1,
                            "#f0f921"
                          ]
                        ],
                        "type": "histogram2d"
                      }
                    ],
                    "histogram2dcontour": [
                      {
                        "colorbar": {
                          "outlinewidth": 0,
                          "ticks": ""
                        },
                        "colorscale": [
                          [
                            0,
                            "#0d0887"
                          ],
                          [
                            0.1111111111111111,
                            "#46039f"
                          ],
                          [
                            0.2222222222222222,
                            "#7201a8"
                          ],
                          [
                            0.3333333333333333,
                            "#9c179e"
                          ],
                          [
                            0.4444444444444444,
                            "#bd3786"
                          ],
                          [
                            0.5555555555555556,
                            "#d8576b"
                          ],
                          [
                            0.6666666666666666,
                            "#ed7953"
                          ],
                          [
                            0.7777777777777778,
                            "#fb9f3a"
                          ],
                          [
                            0.8888888888888888,
                            "#fdca26"
                          ],
                          [
                            1,
                            "#f0f921"
                          ]
                        ],
                        "type": "histogram2dcontour"
                      }
                    ],
                    "mesh3d": [
                      {
                        "colorbar": {
                          "outlinewidth": 0,
                          "ticks": ""
                        },
                        "type": "mesh3d"
                      }
                    ],
                    "parcoords": [
                      {
                        "line": {
                          "colorbar": {
                            "outlinewidth": 0,
                            "ticks": ""
                          }
                        },
                        "type": "parcoords"
                      }
                    ],
                    "pie": [
                      {
                        "automargin": true,
                        "type": "pie"
                      }
                    ],
                    "scatter": [
                      {
                        "marker": {
                          "colorbar": {
                            "outlinewidth": 0,
                            "ticks": ""
                          }
                        },
                        "type": "scatter"
                      }
                    ],
                    "scatter3d": [
                      {
                        "line": {
                          "colorbar": {
                            "outlinewidth": 0,
                            "ticks": ""
                          }
                        },
                        "marker": {
                          "colorbar": {
                            "outlinewidth": 0,
                            "ticks": ""
                          }
                        },
                        "type": "scatter3d"
                      }
                    ],
                    "scattercarpet": [
                      {
                        "marker": {
                          "colorbar": {
                            "outlinewidth": 0,
                            "ticks": ""
                          }
                        },
                        "type": "scattercarpet"
                      }
                    ],
                    "scattergeo": [
                      {
                        "marker": {
                          "colorbar": {
                            "outlinewidth": 0,
                            "ticks": ""
                          }
                        },
                        "type": "scattergeo"
                      }
                    ],
                    "scattergl": [
                      {
                        "marker": {
                          "colorbar": {
                            "outlinewidth": 0,
                            "ticks": ""
                          }
                        },
                        "type": "scattergl"
                      }
                    ],
                    "scattermapbox": [
                      {
                        "marker": {
                          "colorbar": {
                            "outlinewidth": 0,
                            "ticks": ""
                          }
                        },
                        "type": "scattermapbox"
                      }
                    ],
                    "scatterpolar": [
                      {
                        "marker": {
                          "colorbar": {
                            "outlinewidth": 0,
                            "ticks": ""
                          }
                        },
                        "type": "scatterpolar"
                      }
                    ],
                    "scatterpolargl": [
                      {
                        "marker": {
                          "colorbar": {
                            "outlinewidth": 0,
                            "ticks": ""
                          }
                        },
                        "type": "scatterpolargl"
                      }
                    ],
                    "scatterternary": [
                      {
                        "marker": {
                          "colorbar": {
                            "outlinewidth": 0,
                            "ticks": ""
                          }
                        },
                        "type": "scatterternary"
                      }
                    ],
                    "surface": [
                      {
                        "colorbar": {
                          "outlinewidth": 0,
                          "ticks": ""
                        },
                        "colorscale": [
                          [
                            0,
                            "#0d0887"
                          ],
                          [
                            0.1111111111111111,
                            "#46039f"
                          ],
                          [
                            0.2222222222222222,
                            "#7201a8"
                          ],
                          [
                            0.3333333333333333,
                            "#9c179e"
                          ],
                          [
                            0.4444444444444444,
                            "#bd3786"
                          ],
                          [
                            0.5555555555555556,
                            "#d8576b"
                          ],
                          [
                            0.6666666666666666,
                            "#ed7953"
                          ],
                          [
                            0.7777777777777778,
                            "#fb9f3a"
                          ],
                          [
                            0.8888888888888888,
                            "#fdca26"
                          ],
                          [
                            1,
                            "#f0f921"
                          ]
                        ],
                        "type": "surface"
                      }
                    ],
                    "table": [
                      {
                        "cells": {
                          "fill": {
                            "color": "#EBF0F8"
                          },
                          "line": {
                            "color": "white"
                          }
                        },
                        "header": {
                          "fill": {
                            "color": "#C8D4E3"
                          },
                          "line": {
                            "color": "white"
                          }
                        },
                        "type": "table"
                      }
                    ]
                  },
                  "layout": {
                    "annotationdefaults": {
                      "arrowcolor": "#2a3f5f",
                      "arrowhead": 0,
                      "arrowwidth": 1
                    },
                    "autotypenumbers": "strict",
                    "coloraxis": {
                      "colorbar": {
                        "outlinewidth": 0,
                        "ticks": ""
                      }
                    },
                    "colorscale": {
                      "diverging": [
                        [
                          0,
                          "#8e0152"
                        ],
                        [
                          0.1,
                          "#c51b7d"
                        ],
                        [
                          0.2,
                          "#de77ae"
                        ],
                        [
                          0.3,
                          "#f1b6da"
                        ],
                        [
                          0.4,
                          "#fde0ef"
                        ],
                        [
                          0.5,
                          "#f7f7f7"
                        ],
                        [
                          0.6,
                          "#e6f5d0"
                        ],
                        [
                          0.7,
                          "#b8e186"
                        ],
                        [
                          0.8,
                          "#7fbc41"
                        ],
                        [
                          0.9,
                          "#4d9221"
                        ],
                        [
                          1,
                          "#276419"
                        ]
                      ],
                      "sequential": [
                        [
                          0,
                          "#0d0887"
                        ],
                        [
                          0.1111111111111111,
                          "#46039f"
                        ],
                        [
                          0.2222222222222222,
                          "#7201a8"
                        ],
                        [
                          0.3333333333333333,
                          "#9c179e"
                        ],
                        [
                          0.4444444444444444,
                          "#bd3786"
                        ],
                        [
                          0.5555555555555556,
                          "#d8576b"
                        ],
                        [
                          0.6666666666666666,
                          "#ed7953"
                        ],
                        [
                          0.7777777777777778,
                          "#fb9f3a"
                        ],
                        [
                          0.8888888888888888,
                          "#fdca26"
                        ],
                        [
                          1,
                          "#f0f921"
                        ]
                      ],
                      "sequentialminus": [
                        [
                          0,
                          "#0d0887"
                        ],
                        [
                          0.1111111111111111,
                          "#46039f"
                        ],
                        [
                          0.2222222222222222,
                          "#7201a8"
                        ],
                        [
                          0.3333333333333333,
                          "#9c179e"
                        ],
                        [
                          0.4444444444444444,
                          "#bd3786"
                        ],
                        [
                          0.5555555555555556,
                          "#d8576b"
                        ],
                        [
                          0.6666666666666666,
                          "#ed7953"
                        ],
                        [
                          0.7777777777777778,
                          "#fb9f3a"
                        ],
                        [
                          0.8888888888888888,
                          "#fdca26"
                        ],
                        [
                          1,
                          "#f0f921"
                        ]
                      ]
                    },
                    "colorway": [
                      "#636efa",
                      "#EF553B",
                      "#00cc96",
                      "#ab63fa",
                      "#FFA15A",
                      "#19d3f3",
                      "#FF6692",
                      "#B6E880",
                      "#FF97FF",
                      "#FECB52"
                    ],
                    "font": {
                      "color": "#2a3f5f"
                    },
                    "geo": {
                      "bgcolor": "white",
                      "lakecolor": "white",
                      "landcolor": "#E5ECF6",
                      "showlakes": true,
                      "showland": true,
                      "subunitcolor": "white"
                    },
                    "hoverlabel": {
                      "align": "left"
                    },
                    "hovermode": "closest",
                    "mapbox": {
                      "style": "light"
                    },
                    "paper_bgcolor": "white",
                    "plot_bgcolor": "#E5ECF6",
                    "polar": {
                      "angularaxis": {
                        "gridcolor": "white",
                        "linecolor": "white",
                        "ticks": ""
                      },
                      "bgcolor": "#E5ECF6",
                      "radialaxis": {
                        "gridcolor": "white",
                        "linecolor": "white",
                        "ticks": ""
                      }
                    },
                    "scene": {
                      "xaxis": {
                        "backgroundcolor": "#E5ECF6",
                        "gridcolor": "white",
                        "gridwidth": 2,
                        "linecolor": "white",
                        "showbackground": true,
                        "ticks": "",
                        "zerolinecolor": "white"
                      },
                      "yaxis": {
                        "backgroundcolor": "#E5ECF6",
                        "gridcolor": "white",
                        "gridwidth": 2,
                        "linecolor": "white",
                        "showbackground": true,
                        "ticks": "",
                        "zerolinecolor": "white"
                      },
                      "zaxis": {
                        "backgroundcolor": "#E5ECF6",
                        "gridcolor": "white",
                        "gridwidth": 2,
                        "linecolor": "white",
                        "showbackground": true,
                        "ticks": "",
                        "zerolinecolor": "white"
                      }
                    },
                    "shapedefaults": {
                      "line": {
                        "color": "#2a3f5f"
                      }
                    },
                    "ternary": {
                      "aaxis": {
                        "gridcolor": "white",
                        "linecolor": "white",
                        "ticks": ""
                      },
                      "baxis": {
                        "gridcolor": "white",
                        "linecolor": "white",
                        "ticks": ""
                      },
                      "bgcolor": "#E5ECF6",
                      "caxis": {
                        "gridcolor": "white",
                        "linecolor": "white",
                        "ticks": ""
                      }
                    },
                    "title": {
                      "x": 0.05
                    },
                    "xaxis": {
                      "automargin": true,
                      "gridcolor": "white",
                      "linecolor": "white",
                      "ticks": "",
                      "title": {
                        "standoff": 15
                      },
                      "zerolinecolor": "white",
                      "zerolinewidth": 2
                    },
                    "yaxis": {
                      "automargin": true,
                      "gridcolor": "white",
                      "linecolor": "white",
                      "ticks": "",
                      "title": {
                        "standoff": 15
                      },
                      "zerolinecolor": "white",
                      "zerolinewidth": 2
                    }
                  }
                },
                "title": {
                  "text": "K-Fold Cross Validation"
                },
                "xaxis": {
                  "anchor": "y",
                  "domain": [
                    0,
                    1
                  ],
                  "title": {
                    "text": "Modelle"
                  }
                },
                "yaxis": {
                  "anchor": "x",
                  "domain": [
                    0,
                    1
                  ],
                  "title": {
                    "text": " "
                  }
                }
              }
            }
          },
          "metadata": {}
        }
      ],
      "metadata": {}
    },
    {
      "cell_type": "code",
      "execution_count": 35,
      "source": [
        "import numpy as np\r\n",
        "# Vorbereitung & Importe\r\n",
        "from sklearn.model_selection import RepeatedStratifiedKFold\r\n",
        "from sklearn.model_selection import GridSearchCV\r\n",
        "from sklearn.preprocessing import MinMaxScaler\r\n",
        "from sklearn.pipeline import Pipeline"
      ],
      "outputs": [],
      "metadata": {}
    },
    {
      "cell_type": "code",
      "execution_count": 36,
      "source": [
        "# Unterdrücken von Convergence Warnungen, da max-iter aus Performancegründen bewusst nicht weiter erhöht wird\r\n",
        "# simplefilter(\"ignore\", category=ConvergenceWarning)\r\n",
        "\r\n",
        "# Definieren der inneren und äußeren Validierungsschleife\r\n",
        "inner_cv = KFold(n_splits=10)\r\n",
        "outer_cv = KFold(n_splits=10)\r\n",
        "\r\n",
        "\r\n",
        "##### Decision Tree\r\n",
        "\r\n",
        "# Definition des Modells und der Hyperparameter\r\n",
        "estimator_tree_class = DecisionTreeClassifier(random_state=1)\r\n",
        "range_max_depth = np.arange(start=1, stop=100, step=10, dtype=int)\r\n",
        "range_min_samples_leaf = np.arange(start=1, stop=10, step=1, dtype=int)\r\n",
        "\r\n",
        "# Definition der verschachtelten Kreuzvalidierung\r\n",
        "grid_tree_class = [\r\n",
        "    {'max_depth': range_max_depth},\r\n",
        "    {'min_samples_split': [18]},\r\n",
        "    {'min_samples_leaf': range_min_samples_leaf}\r\n",
        "]\r\n",
        "\r\n",
        "nested_tree_class = GridSearchCV(estimator=estimator_tree_class, param_grid=grid_tree_class, cv=inner_cv)\r\n",
        "scores_tree_class =  cross_val_score(nested_tree_class, X, Y, cv=outer_cv)\r\n",
        "\r\n",
        "#print(\"Accuracy Decision Tree: \")\r\n",
        "#print(\"Mittelwert:\\t\\t %.3f\" % scores_tree_class.mean())\r\n",
        "#print(\"Standardabweichung:\\t %.3f\" % scores_tree_class.std())\r\n",
        "\r\n",
        "\r\n",
        "##### Random Forest\r\n",
        "\r\n",
        "# Definition des Modells und der Hyperparameter\r\n",
        "estimator_forest_class = RandomForestClassifier(random_state=1)\r\n",
        "\r\n",
        "# Definition der verschachtelten Kreuzvalidierung\r\n",
        "grid_forest_class = dict(n_estimators=[260], max_depth=[20], min_samples_split=[8], min_samples_leaf=[1])\r\n",
        "\r\n",
        "nested_forest_class = GridSearchCV(estimator=estimator_forest_class, param_grid=grid_forest_class, cv=inner_cv)\r\n",
        "scores_forest_class =  cross_val_score(nested_forest_class, X, Y, cv=outer_cv)\r\n"
      ],
      "outputs": [
        {
          "output_type": "error",
          "ename": "KeyboardInterrupt",
          "evalue": "",
          "traceback": [
            "\u001b[1;31m---------------------------------------------------------------------------\u001b[0m",
            "\u001b[1;31mKeyboardInterrupt\u001b[0m                         Traceback (most recent call last)",
            "\u001b[1;32m~\\AppData\\Local\\Temp/ipykernel_19152/1944888626.py\u001b[0m in \u001b[0;36m<module>\u001b[1;34m\u001b[0m\n\u001b[0;32m     38\u001b[0m \u001b[1;33m\u001b[0m\u001b[0m\n\u001b[0;32m     39\u001b[0m \u001b[0mnested_forest_class\u001b[0m \u001b[1;33m=\u001b[0m \u001b[0mGridSearchCV\u001b[0m\u001b[1;33m(\u001b[0m\u001b[0mestimator\u001b[0m\u001b[1;33m=\u001b[0m\u001b[0mestimator_forest_class\u001b[0m\u001b[1;33m,\u001b[0m \u001b[0mparam_grid\u001b[0m\u001b[1;33m=\u001b[0m\u001b[0mgrid_forest_class\u001b[0m\u001b[1;33m,\u001b[0m \u001b[0mcv\u001b[0m\u001b[1;33m=\u001b[0m\u001b[0minner_cv\u001b[0m\u001b[1;33m)\u001b[0m\u001b[1;33m\u001b[0m\u001b[1;33m\u001b[0m\u001b[0m\n\u001b[1;32m---> 40\u001b[1;33m \u001b[0mscores_forest_class\u001b[0m \u001b[1;33m=\u001b[0m  \u001b[0mcross_val_score\u001b[0m\u001b[1;33m(\u001b[0m\u001b[0mnested_forest_class\u001b[0m\u001b[1;33m,\u001b[0m \u001b[0mX\u001b[0m\u001b[1;33m,\u001b[0m \u001b[0mY\u001b[0m\u001b[1;33m,\u001b[0m \u001b[0mcv\u001b[0m\u001b[1;33m=\u001b[0m\u001b[0mouter_cv\u001b[0m\u001b[1;33m)\u001b[0m\u001b[1;33m\u001b[0m\u001b[1;33m\u001b[0m\u001b[0m\n\u001b[0m",
            "\u001b[1;32mG:\\Anaconda\\envs\\mapenv\\lib\\site-packages\\sklearn\\utils\\validation.py\u001b[0m in \u001b[0;36minner_f\u001b[1;34m(*args, **kwargs)\u001b[0m\n\u001b[0;32m     61\u001b[0m             \u001b[0mextra_args\u001b[0m \u001b[1;33m=\u001b[0m \u001b[0mlen\u001b[0m\u001b[1;33m(\u001b[0m\u001b[0margs\u001b[0m\u001b[1;33m)\u001b[0m \u001b[1;33m-\u001b[0m \u001b[0mlen\u001b[0m\u001b[1;33m(\u001b[0m\u001b[0mall_args\u001b[0m\u001b[1;33m)\u001b[0m\u001b[1;33m\u001b[0m\u001b[1;33m\u001b[0m\u001b[0m\n\u001b[0;32m     62\u001b[0m             \u001b[1;32mif\u001b[0m \u001b[0mextra_args\u001b[0m \u001b[1;33m<=\u001b[0m \u001b[1;36m0\u001b[0m\u001b[1;33m:\u001b[0m\u001b[1;33m\u001b[0m\u001b[1;33m\u001b[0m\u001b[0m\n\u001b[1;32m---> 63\u001b[1;33m                 \u001b[1;32mreturn\u001b[0m \u001b[0mf\u001b[0m\u001b[1;33m(\u001b[0m\u001b[1;33m*\u001b[0m\u001b[0margs\u001b[0m\u001b[1;33m,\u001b[0m \u001b[1;33m**\u001b[0m\u001b[0mkwargs\u001b[0m\u001b[1;33m)\u001b[0m\u001b[1;33m\u001b[0m\u001b[1;33m\u001b[0m\u001b[0m\n\u001b[0m\u001b[0;32m     64\u001b[0m \u001b[1;33m\u001b[0m\u001b[0m\n\u001b[0;32m     65\u001b[0m             \u001b[1;31m# extra_args > 0\u001b[0m\u001b[1;33m\u001b[0m\u001b[1;33m\u001b[0m\u001b[1;33m\u001b[0m\u001b[0m\n",
            "\u001b[1;32mG:\\Anaconda\\envs\\mapenv\\lib\\site-packages\\sklearn\\model_selection\\_validation.py\u001b[0m in \u001b[0;36mcross_val_score\u001b[1;34m(estimator, X, y, groups, scoring, cv, n_jobs, verbose, fit_params, pre_dispatch, error_score)\u001b[0m\n\u001b[0;32m    443\u001b[0m     \u001b[0mscorer\u001b[0m \u001b[1;33m=\u001b[0m \u001b[0mcheck_scoring\u001b[0m\u001b[1;33m(\u001b[0m\u001b[0mestimator\u001b[0m\u001b[1;33m,\u001b[0m \u001b[0mscoring\u001b[0m\u001b[1;33m=\u001b[0m\u001b[0mscoring\u001b[0m\u001b[1;33m)\u001b[0m\u001b[1;33m\u001b[0m\u001b[1;33m\u001b[0m\u001b[0m\n\u001b[0;32m    444\u001b[0m \u001b[1;33m\u001b[0m\u001b[0m\n\u001b[1;32m--> 445\u001b[1;33m     cv_results = cross_validate(estimator=estimator, X=X, y=y, groups=groups,\n\u001b[0m\u001b[0;32m    446\u001b[0m                                 \u001b[0mscoring\u001b[0m\u001b[1;33m=\u001b[0m\u001b[1;33m{\u001b[0m\u001b[1;34m'score'\u001b[0m\u001b[1;33m:\u001b[0m \u001b[0mscorer\u001b[0m\u001b[1;33m}\u001b[0m\u001b[1;33m,\u001b[0m \u001b[0mcv\u001b[0m\u001b[1;33m=\u001b[0m\u001b[0mcv\u001b[0m\u001b[1;33m,\u001b[0m\u001b[1;33m\u001b[0m\u001b[1;33m\u001b[0m\u001b[0m\n\u001b[0;32m    447\u001b[0m                                 \u001b[0mn_jobs\u001b[0m\u001b[1;33m=\u001b[0m\u001b[0mn_jobs\u001b[0m\u001b[1;33m,\u001b[0m \u001b[0mverbose\u001b[0m\u001b[1;33m=\u001b[0m\u001b[0mverbose\u001b[0m\u001b[1;33m,\u001b[0m\u001b[1;33m\u001b[0m\u001b[1;33m\u001b[0m\u001b[0m\n",
            "\u001b[1;32mG:\\Anaconda\\envs\\mapenv\\lib\\site-packages\\sklearn\\utils\\validation.py\u001b[0m in \u001b[0;36minner_f\u001b[1;34m(*args, **kwargs)\u001b[0m\n\u001b[0;32m     61\u001b[0m             \u001b[0mextra_args\u001b[0m \u001b[1;33m=\u001b[0m \u001b[0mlen\u001b[0m\u001b[1;33m(\u001b[0m\u001b[0margs\u001b[0m\u001b[1;33m)\u001b[0m \u001b[1;33m-\u001b[0m \u001b[0mlen\u001b[0m\u001b[1;33m(\u001b[0m\u001b[0mall_args\u001b[0m\u001b[1;33m)\u001b[0m\u001b[1;33m\u001b[0m\u001b[1;33m\u001b[0m\u001b[0m\n\u001b[0;32m     62\u001b[0m             \u001b[1;32mif\u001b[0m \u001b[0mextra_args\u001b[0m \u001b[1;33m<=\u001b[0m \u001b[1;36m0\u001b[0m\u001b[1;33m:\u001b[0m\u001b[1;33m\u001b[0m\u001b[1;33m\u001b[0m\u001b[0m\n\u001b[1;32m---> 63\u001b[1;33m                 \u001b[1;32mreturn\u001b[0m \u001b[0mf\u001b[0m\u001b[1;33m(\u001b[0m\u001b[1;33m*\u001b[0m\u001b[0margs\u001b[0m\u001b[1;33m,\u001b[0m \u001b[1;33m**\u001b[0m\u001b[0mkwargs\u001b[0m\u001b[1;33m)\u001b[0m\u001b[1;33m\u001b[0m\u001b[1;33m\u001b[0m\u001b[0m\n\u001b[0m\u001b[0;32m     64\u001b[0m \u001b[1;33m\u001b[0m\u001b[0m\n\u001b[0;32m     65\u001b[0m             \u001b[1;31m# extra_args > 0\u001b[0m\u001b[1;33m\u001b[0m\u001b[1;33m\u001b[0m\u001b[1;33m\u001b[0m\u001b[0m\n",
            "\u001b[1;32mG:\\Anaconda\\envs\\mapenv\\lib\\site-packages\\sklearn\\model_selection\\_validation.py\u001b[0m in \u001b[0;36mcross_validate\u001b[1;34m(estimator, X, y, groups, scoring, cv, n_jobs, verbose, fit_params, pre_dispatch, return_train_score, return_estimator, error_score)\u001b[0m\n\u001b[0;32m    248\u001b[0m     parallel = Parallel(n_jobs=n_jobs, verbose=verbose,\n\u001b[0;32m    249\u001b[0m                         pre_dispatch=pre_dispatch)\n\u001b[1;32m--> 250\u001b[1;33m     results = parallel(\n\u001b[0m\u001b[0;32m    251\u001b[0m         delayed(_fit_and_score)(\n\u001b[0;32m    252\u001b[0m             \u001b[0mclone\u001b[0m\u001b[1;33m(\u001b[0m\u001b[0mestimator\u001b[0m\u001b[1;33m)\u001b[0m\u001b[1;33m,\u001b[0m \u001b[0mX\u001b[0m\u001b[1;33m,\u001b[0m \u001b[0my\u001b[0m\u001b[1;33m,\u001b[0m \u001b[0mscorers\u001b[0m\u001b[1;33m,\u001b[0m \u001b[0mtrain\u001b[0m\u001b[1;33m,\u001b[0m \u001b[0mtest\u001b[0m\u001b[1;33m,\u001b[0m \u001b[0mverbose\u001b[0m\u001b[1;33m,\u001b[0m \u001b[1;32mNone\u001b[0m\u001b[1;33m,\u001b[0m\u001b[1;33m\u001b[0m\u001b[1;33m\u001b[0m\u001b[0m\n",
            "\u001b[1;32mG:\\Anaconda\\envs\\mapenv\\lib\\site-packages\\joblib\\parallel.py\u001b[0m in \u001b[0;36m__call__\u001b[1;34m(self, iterable)\u001b[0m\n\u001b[0;32m   1042\u001b[0m                 \u001b[0mself\u001b[0m\u001b[1;33m.\u001b[0m\u001b[0m_iterating\u001b[0m \u001b[1;33m=\u001b[0m \u001b[0mself\u001b[0m\u001b[1;33m.\u001b[0m\u001b[0m_original_iterator\u001b[0m \u001b[1;32mis\u001b[0m \u001b[1;32mnot\u001b[0m \u001b[1;32mNone\u001b[0m\u001b[1;33m\u001b[0m\u001b[1;33m\u001b[0m\u001b[0m\n\u001b[0;32m   1043\u001b[0m \u001b[1;33m\u001b[0m\u001b[0m\n\u001b[1;32m-> 1044\u001b[1;33m             \u001b[1;32mwhile\u001b[0m \u001b[0mself\u001b[0m\u001b[1;33m.\u001b[0m\u001b[0mdispatch_one_batch\u001b[0m\u001b[1;33m(\u001b[0m\u001b[0miterator\u001b[0m\u001b[1;33m)\u001b[0m\u001b[1;33m:\u001b[0m\u001b[1;33m\u001b[0m\u001b[1;33m\u001b[0m\u001b[0m\n\u001b[0m\u001b[0;32m   1045\u001b[0m                 \u001b[1;32mpass\u001b[0m\u001b[1;33m\u001b[0m\u001b[1;33m\u001b[0m\u001b[0m\n\u001b[0;32m   1046\u001b[0m \u001b[1;33m\u001b[0m\u001b[0m\n",
            "\u001b[1;32mG:\\Anaconda\\envs\\mapenv\\lib\\site-packages\\joblib\\parallel.py\u001b[0m in \u001b[0;36mdispatch_one_batch\u001b[1;34m(self, iterator)\u001b[0m\n\u001b[0;32m    857\u001b[0m                 \u001b[1;32mreturn\u001b[0m \u001b[1;32mFalse\u001b[0m\u001b[1;33m\u001b[0m\u001b[1;33m\u001b[0m\u001b[0m\n\u001b[0;32m    858\u001b[0m             \u001b[1;32melse\u001b[0m\u001b[1;33m:\u001b[0m\u001b[1;33m\u001b[0m\u001b[1;33m\u001b[0m\u001b[0m\n\u001b[1;32m--> 859\u001b[1;33m                 \u001b[0mself\u001b[0m\u001b[1;33m.\u001b[0m\u001b[0m_dispatch\u001b[0m\u001b[1;33m(\u001b[0m\u001b[0mtasks\u001b[0m\u001b[1;33m)\u001b[0m\u001b[1;33m\u001b[0m\u001b[1;33m\u001b[0m\u001b[0m\n\u001b[0m\u001b[0;32m    860\u001b[0m                 \u001b[1;32mreturn\u001b[0m \u001b[1;32mTrue\u001b[0m\u001b[1;33m\u001b[0m\u001b[1;33m\u001b[0m\u001b[0m\n\u001b[0;32m    861\u001b[0m \u001b[1;33m\u001b[0m\u001b[0m\n",
            "\u001b[1;32mG:\\Anaconda\\envs\\mapenv\\lib\\site-packages\\joblib\\parallel.py\u001b[0m in \u001b[0;36m_dispatch\u001b[1;34m(self, batch)\u001b[0m\n\u001b[0;32m    775\u001b[0m         \u001b[1;32mwith\u001b[0m \u001b[0mself\u001b[0m\u001b[1;33m.\u001b[0m\u001b[0m_lock\u001b[0m\u001b[1;33m:\u001b[0m\u001b[1;33m\u001b[0m\u001b[1;33m\u001b[0m\u001b[0m\n\u001b[0;32m    776\u001b[0m             \u001b[0mjob_idx\u001b[0m \u001b[1;33m=\u001b[0m \u001b[0mlen\u001b[0m\u001b[1;33m(\u001b[0m\u001b[0mself\u001b[0m\u001b[1;33m.\u001b[0m\u001b[0m_jobs\u001b[0m\u001b[1;33m)\u001b[0m\u001b[1;33m\u001b[0m\u001b[1;33m\u001b[0m\u001b[0m\n\u001b[1;32m--> 777\u001b[1;33m             \u001b[0mjob\u001b[0m \u001b[1;33m=\u001b[0m \u001b[0mself\u001b[0m\u001b[1;33m.\u001b[0m\u001b[0m_backend\u001b[0m\u001b[1;33m.\u001b[0m\u001b[0mapply_async\u001b[0m\u001b[1;33m(\u001b[0m\u001b[0mbatch\u001b[0m\u001b[1;33m,\u001b[0m \u001b[0mcallback\u001b[0m\u001b[1;33m=\u001b[0m\u001b[0mcb\u001b[0m\u001b[1;33m)\u001b[0m\u001b[1;33m\u001b[0m\u001b[1;33m\u001b[0m\u001b[0m\n\u001b[0m\u001b[0;32m    778\u001b[0m             \u001b[1;31m# A job can complete so quickly than its callback is\u001b[0m\u001b[1;33m\u001b[0m\u001b[1;33m\u001b[0m\u001b[1;33m\u001b[0m\u001b[0m\n\u001b[0;32m    779\u001b[0m             \u001b[1;31m# called before we get here, causing self._jobs to\u001b[0m\u001b[1;33m\u001b[0m\u001b[1;33m\u001b[0m\u001b[1;33m\u001b[0m\u001b[0m\n",
            "\u001b[1;32mG:\\Anaconda\\envs\\mapenv\\lib\\site-packages\\joblib\\_parallel_backends.py\u001b[0m in \u001b[0;36mapply_async\u001b[1;34m(self, func, callback)\u001b[0m\n\u001b[0;32m    206\u001b[0m     \u001b[1;32mdef\u001b[0m \u001b[0mapply_async\u001b[0m\u001b[1;33m(\u001b[0m\u001b[0mself\u001b[0m\u001b[1;33m,\u001b[0m \u001b[0mfunc\u001b[0m\u001b[1;33m,\u001b[0m \u001b[0mcallback\u001b[0m\u001b[1;33m=\u001b[0m\u001b[1;32mNone\u001b[0m\u001b[1;33m)\u001b[0m\u001b[1;33m:\u001b[0m\u001b[1;33m\u001b[0m\u001b[1;33m\u001b[0m\u001b[0m\n\u001b[0;32m    207\u001b[0m         \u001b[1;34m\"\"\"Schedule a func to be run\"\"\"\u001b[0m\u001b[1;33m\u001b[0m\u001b[1;33m\u001b[0m\u001b[0m\n\u001b[1;32m--> 208\u001b[1;33m         \u001b[0mresult\u001b[0m \u001b[1;33m=\u001b[0m \u001b[0mImmediateResult\u001b[0m\u001b[1;33m(\u001b[0m\u001b[0mfunc\u001b[0m\u001b[1;33m)\u001b[0m\u001b[1;33m\u001b[0m\u001b[1;33m\u001b[0m\u001b[0m\n\u001b[0m\u001b[0;32m    209\u001b[0m         \u001b[1;32mif\u001b[0m \u001b[0mcallback\u001b[0m\u001b[1;33m:\u001b[0m\u001b[1;33m\u001b[0m\u001b[1;33m\u001b[0m\u001b[0m\n\u001b[0;32m    210\u001b[0m             \u001b[0mcallback\u001b[0m\u001b[1;33m(\u001b[0m\u001b[0mresult\u001b[0m\u001b[1;33m)\u001b[0m\u001b[1;33m\u001b[0m\u001b[1;33m\u001b[0m\u001b[0m\n",
            "\u001b[1;32mG:\\Anaconda\\envs\\mapenv\\lib\\site-packages\\joblib\\_parallel_backends.py\u001b[0m in \u001b[0;36m__init__\u001b[1;34m(self, batch)\u001b[0m\n\u001b[0;32m    570\u001b[0m         \u001b[1;31m# Don't delay the application, to avoid keeping the input\u001b[0m\u001b[1;33m\u001b[0m\u001b[1;33m\u001b[0m\u001b[1;33m\u001b[0m\u001b[0m\n\u001b[0;32m    571\u001b[0m         \u001b[1;31m# arguments in memory\u001b[0m\u001b[1;33m\u001b[0m\u001b[1;33m\u001b[0m\u001b[1;33m\u001b[0m\u001b[0m\n\u001b[1;32m--> 572\u001b[1;33m         \u001b[0mself\u001b[0m\u001b[1;33m.\u001b[0m\u001b[0mresults\u001b[0m \u001b[1;33m=\u001b[0m \u001b[0mbatch\u001b[0m\u001b[1;33m(\u001b[0m\u001b[1;33m)\u001b[0m\u001b[1;33m\u001b[0m\u001b[1;33m\u001b[0m\u001b[0m\n\u001b[0m\u001b[0;32m    573\u001b[0m \u001b[1;33m\u001b[0m\u001b[0m\n\u001b[0;32m    574\u001b[0m     \u001b[1;32mdef\u001b[0m \u001b[0mget\u001b[0m\u001b[1;33m(\u001b[0m\u001b[0mself\u001b[0m\u001b[1;33m)\u001b[0m\u001b[1;33m:\u001b[0m\u001b[1;33m\u001b[0m\u001b[1;33m\u001b[0m\u001b[0m\n",
            "\u001b[1;32mG:\\Anaconda\\envs\\mapenv\\lib\\site-packages\\joblib\\parallel.py\u001b[0m in \u001b[0;36m__call__\u001b[1;34m(self)\u001b[0m\n\u001b[0;32m    260\u001b[0m         \u001b[1;31m# change the default number of processes to -1\u001b[0m\u001b[1;33m\u001b[0m\u001b[1;33m\u001b[0m\u001b[1;33m\u001b[0m\u001b[0m\n\u001b[0;32m    261\u001b[0m         \u001b[1;32mwith\u001b[0m \u001b[0mparallel_backend\u001b[0m\u001b[1;33m(\u001b[0m\u001b[0mself\u001b[0m\u001b[1;33m.\u001b[0m\u001b[0m_backend\u001b[0m\u001b[1;33m,\u001b[0m \u001b[0mn_jobs\u001b[0m\u001b[1;33m=\u001b[0m\u001b[0mself\u001b[0m\u001b[1;33m.\u001b[0m\u001b[0m_n_jobs\u001b[0m\u001b[1;33m)\u001b[0m\u001b[1;33m:\u001b[0m\u001b[1;33m\u001b[0m\u001b[1;33m\u001b[0m\u001b[0m\n\u001b[1;32m--> 262\u001b[1;33m             return [func(*args, **kwargs)\n\u001b[0m\u001b[0;32m    263\u001b[0m                     for func, args, kwargs in self.items]\n\u001b[0;32m    264\u001b[0m \u001b[1;33m\u001b[0m\u001b[0m\n",
            "\u001b[1;32mG:\\Anaconda\\envs\\mapenv\\lib\\site-packages\\joblib\\parallel.py\u001b[0m in \u001b[0;36m<listcomp>\u001b[1;34m(.0)\u001b[0m\n\u001b[0;32m    260\u001b[0m         \u001b[1;31m# change the default number of processes to -1\u001b[0m\u001b[1;33m\u001b[0m\u001b[1;33m\u001b[0m\u001b[1;33m\u001b[0m\u001b[0m\n\u001b[0;32m    261\u001b[0m         \u001b[1;32mwith\u001b[0m \u001b[0mparallel_backend\u001b[0m\u001b[1;33m(\u001b[0m\u001b[0mself\u001b[0m\u001b[1;33m.\u001b[0m\u001b[0m_backend\u001b[0m\u001b[1;33m,\u001b[0m \u001b[0mn_jobs\u001b[0m\u001b[1;33m=\u001b[0m\u001b[0mself\u001b[0m\u001b[1;33m.\u001b[0m\u001b[0m_n_jobs\u001b[0m\u001b[1;33m)\u001b[0m\u001b[1;33m:\u001b[0m\u001b[1;33m\u001b[0m\u001b[1;33m\u001b[0m\u001b[0m\n\u001b[1;32m--> 262\u001b[1;33m             return [func(*args, **kwargs)\n\u001b[0m\u001b[0;32m    263\u001b[0m                     for func, args, kwargs in self.items]\n\u001b[0;32m    264\u001b[0m \u001b[1;33m\u001b[0m\u001b[0m\n",
            "\u001b[1;32mG:\\Anaconda\\envs\\mapenv\\lib\\site-packages\\sklearn\\utils\\fixes.py\u001b[0m in \u001b[0;36m__call__\u001b[1;34m(self, *args, **kwargs)\u001b[0m\n\u001b[0;32m    220\u001b[0m     \u001b[1;32mdef\u001b[0m \u001b[0m__call__\u001b[0m\u001b[1;33m(\u001b[0m\u001b[0mself\u001b[0m\u001b[1;33m,\u001b[0m \u001b[1;33m*\u001b[0m\u001b[0margs\u001b[0m\u001b[1;33m,\u001b[0m \u001b[1;33m**\u001b[0m\u001b[0mkwargs\u001b[0m\u001b[1;33m)\u001b[0m\u001b[1;33m:\u001b[0m\u001b[1;33m\u001b[0m\u001b[1;33m\u001b[0m\u001b[0m\n\u001b[0;32m    221\u001b[0m         \u001b[1;32mwith\u001b[0m \u001b[0mconfig_context\u001b[0m\u001b[1;33m(\u001b[0m\u001b[1;33m**\u001b[0m\u001b[0mself\u001b[0m\u001b[1;33m.\u001b[0m\u001b[0mconfig\u001b[0m\u001b[1;33m)\u001b[0m\u001b[1;33m:\u001b[0m\u001b[1;33m\u001b[0m\u001b[1;33m\u001b[0m\u001b[0m\n\u001b[1;32m--> 222\u001b[1;33m             \u001b[1;32mreturn\u001b[0m \u001b[0mself\u001b[0m\u001b[1;33m.\u001b[0m\u001b[0mfunction\u001b[0m\u001b[1;33m(\u001b[0m\u001b[1;33m*\u001b[0m\u001b[0margs\u001b[0m\u001b[1;33m,\u001b[0m \u001b[1;33m**\u001b[0m\u001b[0mkwargs\u001b[0m\u001b[1;33m)\u001b[0m\u001b[1;33m\u001b[0m\u001b[1;33m\u001b[0m\u001b[0m\n\u001b[0m",
            "\u001b[1;32mG:\\Anaconda\\envs\\mapenv\\lib\\site-packages\\sklearn\\model_selection\\_validation.py\u001b[0m in \u001b[0;36m_fit_and_score\u001b[1;34m(estimator, X, y, scorer, train, test, verbose, parameters, fit_params, return_train_score, return_parameters, return_n_test_samples, return_times, return_estimator, split_progress, candidate_progress, error_score)\u001b[0m\n\u001b[0;32m    596\u001b[0m             \u001b[0mestimator\u001b[0m\u001b[1;33m.\u001b[0m\u001b[0mfit\u001b[0m\u001b[1;33m(\u001b[0m\u001b[0mX_train\u001b[0m\u001b[1;33m,\u001b[0m \u001b[1;33m**\u001b[0m\u001b[0mfit_params\u001b[0m\u001b[1;33m)\u001b[0m\u001b[1;33m\u001b[0m\u001b[1;33m\u001b[0m\u001b[0m\n\u001b[0;32m    597\u001b[0m         \u001b[1;32melse\u001b[0m\u001b[1;33m:\u001b[0m\u001b[1;33m\u001b[0m\u001b[1;33m\u001b[0m\u001b[0m\n\u001b[1;32m--> 598\u001b[1;33m             \u001b[0mestimator\u001b[0m\u001b[1;33m.\u001b[0m\u001b[0mfit\u001b[0m\u001b[1;33m(\u001b[0m\u001b[0mX_train\u001b[0m\u001b[1;33m,\u001b[0m \u001b[0my_train\u001b[0m\u001b[1;33m,\u001b[0m \u001b[1;33m**\u001b[0m\u001b[0mfit_params\u001b[0m\u001b[1;33m)\u001b[0m\u001b[1;33m\u001b[0m\u001b[1;33m\u001b[0m\u001b[0m\n\u001b[0m\u001b[0;32m    599\u001b[0m \u001b[1;33m\u001b[0m\u001b[0m\n\u001b[0;32m    600\u001b[0m     \u001b[1;32mexcept\u001b[0m \u001b[0mException\u001b[0m \u001b[1;32mas\u001b[0m \u001b[0me\u001b[0m\u001b[1;33m:\u001b[0m\u001b[1;33m\u001b[0m\u001b[1;33m\u001b[0m\u001b[0m\n",
            "\u001b[1;32mG:\\Anaconda\\envs\\mapenv\\lib\\site-packages\\sklearn\\utils\\validation.py\u001b[0m in \u001b[0;36minner_f\u001b[1;34m(*args, **kwargs)\u001b[0m\n\u001b[0;32m     61\u001b[0m             \u001b[0mextra_args\u001b[0m \u001b[1;33m=\u001b[0m \u001b[0mlen\u001b[0m\u001b[1;33m(\u001b[0m\u001b[0margs\u001b[0m\u001b[1;33m)\u001b[0m \u001b[1;33m-\u001b[0m \u001b[0mlen\u001b[0m\u001b[1;33m(\u001b[0m\u001b[0mall_args\u001b[0m\u001b[1;33m)\u001b[0m\u001b[1;33m\u001b[0m\u001b[1;33m\u001b[0m\u001b[0m\n\u001b[0;32m     62\u001b[0m             \u001b[1;32mif\u001b[0m \u001b[0mextra_args\u001b[0m \u001b[1;33m<=\u001b[0m \u001b[1;36m0\u001b[0m\u001b[1;33m:\u001b[0m\u001b[1;33m\u001b[0m\u001b[1;33m\u001b[0m\u001b[0m\n\u001b[1;32m---> 63\u001b[1;33m                 \u001b[1;32mreturn\u001b[0m \u001b[0mf\u001b[0m\u001b[1;33m(\u001b[0m\u001b[1;33m*\u001b[0m\u001b[0margs\u001b[0m\u001b[1;33m,\u001b[0m \u001b[1;33m**\u001b[0m\u001b[0mkwargs\u001b[0m\u001b[1;33m)\u001b[0m\u001b[1;33m\u001b[0m\u001b[1;33m\u001b[0m\u001b[0m\n\u001b[0m\u001b[0;32m     64\u001b[0m \u001b[1;33m\u001b[0m\u001b[0m\n\u001b[0;32m     65\u001b[0m             \u001b[1;31m# extra_args > 0\u001b[0m\u001b[1;33m\u001b[0m\u001b[1;33m\u001b[0m\u001b[1;33m\u001b[0m\u001b[0m\n",
            "\u001b[1;32mG:\\Anaconda\\envs\\mapenv\\lib\\site-packages\\sklearn\\model_selection\\_search.py\u001b[0m in \u001b[0;36mfit\u001b[1;34m(self, X, y, groups, **fit_params)\u001b[0m\n\u001b[0;32m    878\u001b[0m             \u001b[0mrefit_start_time\u001b[0m \u001b[1;33m=\u001b[0m \u001b[0mtime\u001b[0m\u001b[1;33m.\u001b[0m\u001b[0mtime\u001b[0m\u001b[1;33m(\u001b[0m\u001b[1;33m)\u001b[0m\u001b[1;33m\u001b[0m\u001b[1;33m\u001b[0m\u001b[0m\n\u001b[0;32m    879\u001b[0m             \u001b[1;32mif\u001b[0m \u001b[0my\u001b[0m \u001b[1;32mis\u001b[0m \u001b[1;32mnot\u001b[0m \u001b[1;32mNone\u001b[0m\u001b[1;33m:\u001b[0m\u001b[1;33m\u001b[0m\u001b[1;33m\u001b[0m\u001b[0m\n\u001b[1;32m--> 880\u001b[1;33m                 \u001b[0mself\u001b[0m\u001b[1;33m.\u001b[0m\u001b[0mbest_estimator_\u001b[0m\u001b[1;33m.\u001b[0m\u001b[0mfit\u001b[0m\u001b[1;33m(\u001b[0m\u001b[0mX\u001b[0m\u001b[1;33m,\u001b[0m \u001b[0my\u001b[0m\u001b[1;33m,\u001b[0m \u001b[1;33m**\u001b[0m\u001b[0mfit_params\u001b[0m\u001b[1;33m)\u001b[0m\u001b[1;33m\u001b[0m\u001b[1;33m\u001b[0m\u001b[0m\n\u001b[0m\u001b[0;32m    881\u001b[0m             \u001b[1;32melse\u001b[0m\u001b[1;33m:\u001b[0m\u001b[1;33m\u001b[0m\u001b[1;33m\u001b[0m\u001b[0m\n\u001b[0;32m    882\u001b[0m                 \u001b[0mself\u001b[0m\u001b[1;33m.\u001b[0m\u001b[0mbest_estimator_\u001b[0m\u001b[1;33m.\u001b[0m\u001b[0mfit\u001b[0m\u001b[1;33m(\u001b[0m\u001b[0mX\u001b[0m\u001b[1;33m,\u001b[0m \u001b[1;33m**\u001b[0m\u001b[0mfit_params\u001b[0m\u001b[1;33m)\u001b[0m\u001b[1;33m\u001b[0m\u001b[1;33m\u001b[0m\u001b[0m\n",
            "\u001b[1;32mG:\\Anaconda\\envs\\mapenv\\lib\\site-packages\\sklearn\\ensemble\\_forest.py\u001b[0m in \u001b[0;36mfit\u001b[1;34m(self, X, y, sample_weight)\u001b[0m\n\u001b[0;32m    375\u001b[0m                 \u001b[0mrandom_state\u001b[0m\u001b[1;33m.\u001b[0m\u001b[0mrandint\u001b[0m\u001b[1;33m(\u001b[0m\u001b[0mMAX_INT\u001b[0m\u001b[1;33m,\u001b[0m \u001b[0msize\u001b[0m\u001b[1;33m=\u001b[0m\u001b[0mlen\u001b[0m\u001b[1;33m(\u001b[0m\u001b[0mself\u001b[0m\u001b[1;33m.\u001b[0m\u001b[0mestimators_\u001b[0m\u001b[1;33m)\u001b[0m\u001b[1;33m)\u001b[0m\u001b[1;33m\u001b[0m\u001b[1;33m\u001b[0m\u001b[0m\n\u001b[0;32m    376\u001b[0m \u001b[1;33m\u001b[0m\u001b[0m\n\u001b[1;32m--> 377\u001b[1;33m             trees = [self._make_estimator(append=False,\n\u001b[0m\u001b[0;32m    378\u001b[0m                                           random_state=random_state)\n\u001b[0;32m    379\u001b[0m                      for i in range(n_more_estimators)]\n",
            "\u001b[1;32mG:\\Anaconda\\envs\\mapenv\\lib\\site-packages\\sklearn\\ensemble\\_forest.py\u001b[0m in \u001b[0;36m<listcomp>\u001b[1;34m(.0)\u001b[0m\n\u001b[0;32m    375\u001b[0m                 \u001b[0mrandom_state\u001b[0m\u001b[1;33m.\u001b[0m\u001b[0mrandint\u001b[0m\u001b[1;33m(\u001b[0m\u001b[0mMAX_INT\u001b[0m\u001b[1;33m,\u001b[0m \u001b[0msize\u001b[0m\u001b[1;33m=\u001b[0m\u001b[0mlen\u001b[0m\u001b[1;33m(\u001b[0m\u001b[0mself\u001b[0m\u001b[1;33m.\u001b[0m\u001b[0mestimators_\u001b[0m\u001b[1;33m)\u001b[0m\u001b[1;33m)\u001b[0m\u001b[1;33m\u001b[0m\u001b[1;33m\u001b[0m\u001b[0m\n\u001b[0;32m    376\u001b[0m \u001b[1;33m\u001b[0m\u001b[0m\n\u001b[1;32m--> 377\u001b[1;33m             trees = [self._make_estimator(append=False,\n\u001b[0m\u001b[0;32m    378\u001b[0m                                           random_state=random_state)\n\u001b[0;32m    379\u001b[0m                      for i in range(n_more_estimators)]\n",
            "\u001b[1;32mG:\\Anaconda\\envs\\mapenv\\lib\\site-packages\\sklearn\\ensemble\\_base.py\u001b[0m in \u001b[0;36m_make_estimator\u001b[1;34m(self, append, random_state)\u001b[0m\n\u001b[0;32m    153\u001b[0m \u001b[1;33m\u001b[0m\u001b[0m\n\u001b[0;32m    154\u001b[0m         \u001b[1;32mif\u001b[0m \u001b[0mrandom_state\u001b[0m \u001b[1;32mis\u001b[0m \u001b[1;32mnot\u001b[0m \u001b[1;32mNone\u001b[0m\u001b[1;33m:\u001b[0m\u001b[1;33m\u001b[0m\u001b[1;33m\u001b[0m\u001b[0m\n\u001b[1;32m--> 155\u001b[1;33m             \u001b[0m_set_random_states\u001b[0m\u001b[1;33m(\u001b[0m\u001b[0mestimator\u001b[0m\u001b[1;33m,\u001b[0m \u001b[0mrandom_state\u001b[0m\u001b[1;33m)\u001b[0m\u001b[1;33m\u001b[0m\u001b[1;33m\u001b[0m\u001b[0m\n\u001b[0m\u001b[0;32m    156\u001b[0m \u001b[1;33m\u001b[0m\u001b[0m\n\u001b[0;32m    157\u001b[0m         \u001b[1;32mif\u001b[0m \u001b[0mappend\u001b[0m\u001b[1;33m:\u001b[0m\u001b[1;33m\u001b[0m\u001b[1;33m\u001b[0m\u001b[0m\n",
            "\u001b[1;32mG:\\Anaconda\\envs\\mapenv\\lib\\site-packages\\sklearn\\ensemble\\_base.py\u001b[0m in \u001b[0;36m_set_random_states\u001b[1;34m(estimator, random_state)\u001b[0m\n\u001b[0;32m     71\u001b[0m     \u001b[0mrandom_state\u001b[0m \u001b[1;33m=\u001b[0m \u001b[0mcheck_random_state\u001b[0m\u001b[1;33m(\u001b[0m\u001b[0mrandom_state\u001b[0m\u001b[1;33m)\u001b[0m\u001b[1;33m\u001b[0m\u001b[1;33m\u001b[0m\u001b[0m\n\u001b[0;32m     72\u001b[0m     \u001b[0mto_set\u001b[0m \u001b[1;33m=\u001b[0m \u001b[1;33m{\u001b[0m\u001b[1;33m}\u001b[0m\u001b[1;33m\u001b[0m\u001b[1;33m\u001b[0m\u001b[0m\n\u001b[1;32m---> 73\u001b[1;33m     \u001b[1;32mfor\u001b[0m \u001b[0mkey\u001b[0m \u001b[1;32min\u001b[0m \u001b[0msorted\u001b[0m\u001b[1;33m(\u001b[0m\u001b[0mestimator\u001b[0m\u001b[1;33m.\u001b[0m\u001b[0mget_params\u001b[0m\u001b[1;33m(\u001b[0m\u001b[0mdeep\u001b[0m\u001b[1;33m=\u001b[0m\u001b[1;32mTrue\u001b[0m\u001b[1;33m)\u001b[0m\u001b[1;33m)\u001b[0m\u001b[1;33m:\u001b[0m\u001b[1;33m\u001b[0m\u001b[1;33m\u001b[0m\u001b[0m\n\u001b[0m\u001b[0;32m     74\u001b[0m         \u001b[1;32mif\u001b[0m \u001b[0mkey\u001b[0m \u001b[1;33m==\u001b[0m \u001b[1;34m'random_state'\u001b[0m \u001b[1;32mor\u001b[0m \u001b[0mkey\u001b[0m\u001b[1;33m.\u001b[0m\u001b[0mendswith\u001b[0m\u001b[1;33m(\u001b[0m\u001b[1;34m'__random_state'\u001b[0m\u001b[1;33m)\u001b[0m\u001b[1;33m:\u001b[0m\u001b[1;33m\u001b[0m\u001b[1;33m\u001b[0m\u001b[0m\n\u001b[0;32m     75\u001b[0m             \u001b[0mto_set\u001b[0m\u001b[1;33m[\u001b[0m\u001b[0mkey\u001b[0m\u001b[1;33m]\u001b[0m \u001b[1;33m=\u001b[0m \u001b[0mrandom_state\u001b[0m\u001b[1;33m.\u001b[0m\u001b[0mrandint\u001b[0m\u001b[1;33m(\u001b[0m\u001b[0mnp\u001b[0m\u001b[1;33m.\u001b[0m\u001b[0miinfo\u001b[0m\u001b[1;33m(\u001b[0m\u001b[0mnp\u001b[0m\u001b[1;33m.\u001b[0m\u001b[0mint32\u001b[0m\u001b[1;33m)\u001b[0m\u001b[1;33m.\u001b[0m\u001b[0mmax\u001b[0m\u001b[1;33m)\u001b[0m\u001b[1;33m\u001b[0m\u001b[1;33m\u001b[0m\u001b[0m\n",
            "\u001b[1;32mG:\\Anaconda\\envs\\mapenv\\lib\\site-packages\\sklearn\\base.py\u001b[0m in \u001b[0;36mget_params\u001b[1;34m(self, deep)\u001b[0m\n\u001b[0;32m    192\u001b[0m         \"\"\"\n\u001b[0;32m    193\u001b[0m         \u001b[0mout\u001b[0m \u001b[1;33m=\u001b[0m \u001b[0mdict\u001b[0m\u001b[1;33m(\u001b[0m\u001b[1;33m)\u001b[0m\u001b[1;33m\u001b[0m\u001b[1;33m\u001b[0m\u001b[0m\n\u001b[1;32m--> 194\u001b[1;33m         \u001b[1;32mfor\u001b[0m \u001b[0mkey\u001b[0m \u001b[1;32min\u001b[0m \u001b[0mself\u001b[0m\u001b[1;33m.\u001b[0m\u001b[0m_get_param_names\u001b[0m\u001b[1;33m(\u001b[0m\u001b[1;33m)\u001b[0m\u001b[1;33m:\u001b[0m\u001b[1;33m\u001b[0m\u001b[1;33m\u001b[0m\u001b[0m\n\u001b[0m\u001b[0;32m    195\u001b[0m             \u001b[0mvalue\u001b[0m \u001b[1;33m=\u001b[0m \u001b[0mgetattr\u001b[0m\u001b[1;33m(\u001b[0m\u001b[0mself\u001b[0m\u001b[1;33m,\u001b[0m \u001b[0mkey\u001b[0m\u001b[1;33m)\u001b[0m\u001b[1;33m\u001b[0m\u001b[1;33m\u001b[0m\u001b[0m\n\u001b[0;32m    196\u001b[0m             \u001b[1;32mif\u001b[0m \u001b[0mdeep\u001b[0m \u001b[1;32mand\u001b[0m \u001b[0mhasattr\u001b[0m\u001b[1;33m(\u001b[0m\u001b[0mvalue\u001b[0m\u001b[1;33m,\u001b[0m \u001b[1;34m'get_params'\u001b[0m\u001b[1;33m)\u001b[0m\u001b[1;33m:\u001b[0m\u001b[1;33m\u001b[0m\u001b[1;33m\u001b[0m\u001b[0m\n",
            "\u001b[1;32mG:\\Anaconda\\envs\\mapenv\\lib\\site-packages\\sklearn\\base.py\u001b[0m in \u001b[0;36m_get_param_names\u001b[1;34m(cls)\u001b[0m\n\u001b[0;32m    161\u001b[0m         \u001b[1;31m# introspect the constructor arguments to find the model parameters\u001b[0m\u001b[1;33m\u001b[0m\u001b[1;33m\u001b[0m\u001b[1;33m\u001b[0m\u001b[0m\n\u001b[0;32m    162\u001b[0m         \u001b[1;31m# to represent\u001b[0m\u001b[1;33m\u001b[0m\u001b[1;33m\u001b[0m\u001b[1;33m\u001b[0m\u001b[0m\n\u001b[1;32m--> 163\u001b[1;33m         \u001b[0minit_signature\u001b[0m \u001b[1;33m=\u001b[0m \u001b[0minspect\u001b[0m\u001b[1;33m.\u001b[0m\u001b[0msignature\u001b[0m\u001b[1;33m(\u001b[0m\u001b[0minit\u001b[0m\u001b[1;33m)\u001b[0m\u001b[1;33m\u001b[0m\u001b[1;33m\u001b[0m\u001b[0m\n\u001b[0m\u001b[0;32m    164\u001b[0m         \u001b[1;31m# Consider the constructor parameters excluding 'self'\u001b[0m\u001b[1;33m\u001b[0m\u001b[1;33m\u001b[0m\u001b[1;33m\u001b[0m\u001b[0m\n\u001b[0;32m    165\u001b[0m         parameters = [p for p in init_signature.parameters.values()\n",
            "\u001b[1;32mG:\\Anaconda\\envs\\mapenv\\lib\\inspect.py\u001b[0m in \u001b[0;36msignature\u001b[1;34m(obj, follow_wrapped)\u001b[0m\n\u001b[0;32m   3103\u001b[0m \u001b[1;32mdef\u001b[0m \u001b[0msignature\u001b[0m\u001b[1;33m(\u001b[0m\u001b[0mobj\u001b[0m\u001b[1;33m,\u001b[0m \u001b[1;33m*\u001b[0m\u001b[1;33m,\u001b[0m \u001b[0mfollow_wrapped\u001b[0m\u001b[1;33m=\u001b[0m\u001b[1;32mTrue\u001b[0m\u001b[1;33m)\u001b[0m\u001b[1;33m:\u001b[0m\u001b[1;33m\u001b[0m\u001b[1;33m\u001b[0m\u001b[0m\n\u001b[0;32m   3104\u001b[0m     \u001b[1;34m\"\"\"Get a signature object for the passed callable.\"\"\"\u001b[0m\u001b[1;33m\u001b[0m\u001b[1;33m\u001b[0m\u001b[0m\n\u001b[1;32m-> 3105\u001b[1;33m     \u001b[1;32mreturn\u001b[0m \u001b[0mSignature\u001b[0m\u001b[1;33m.\u001b[0m\u001b[0mfrom_callable\u001b[0m\u001b[1;33m(\u001b[0m\u001b[0mobj\u001b[0m\u001b[1;33m,\u001b[0m \u001b[0mfollow_wrapped\u001b[0m\u001b[1;33m=\u001b[0m\u001b[0mfollow_wrapped\u001b[0m\u001b[1;33m)\u001b[0m\u001b[1;33m\u001b[0m\u001b[1;33m\u001b[0m\u001b[0m\n\u001b[0m\u001b[0;32m   3106\u001b[0m \u001b[1;33m\u001b[0m\u001b[0m\n\u001b[0;32m   3107\u001b[0m \u001b[1;33m\u001b[0m\u001b[0m\n",
            "\u001b[1;32mG:\\Anaconda\\envs\\mapenv\\lib\\inspect.py\u001b[0m in \u001b[0;36mfrom_callable\u001b[1;34m(cls, obj, follow_wrapped)\u001b[0m\n\u001b[0;32m   2852\u001b[0m     \u001b[1;32mdef\u001b[0m \u001b[0mfrom_callable\u001b[0m\u001b[1;33m(\u001b[0m\u001b[0mcls\u001b[0m\u001b[1;33m,\u001b[0m \u001b[0mobj\u001b[0m\u001b[1;33m,\u001b[0m \u001b[1;33m*\u001b[0m\u001b[1;33m,\u001b[0m \u001b[0mfollow_wrapped\u001b[0m\u001b[1;33m=\u001b[0m\u001b[1;32mTrue\u001b[0m\u001b[1;33m)\u001b[0m\u001b[1;33m:\u001b[0m\u001b[1;33m\u001b[0m\u001b[1;33m\u001b[0m\u001b[0m\n\u001b[0;32m   2853\u001b[0m         \u001b[1;34m\"\"\"Constructs Signature for the given callable object.\"\"\"\u001b[0m\u001b[1;33m\u001b[0m\u001b[1;33m\u001b[0m\u001b[0m\n\u001b[1;32m-> 2854\u001b[1;33m         return _signature_from_callable(obj, sigcls=cls,\n\u001b[0m\u001b[0;32m   2855\u001b[0m                                         follow_wrapper_chains=follow_wrapped)\n\u001b[0;32m   2856\u001b[0m \u001b[1;33m\u001b[0m\u001b[0m\n",
            "\u001b[1;32mG:\\Anaconda\\envs\\mapenv\\lib\\inspect.py\u001b[0m in \u001b[0;36m_signature_from_callable\u001b[1;34m(obj, follow_wrapper_chains, skip_bound_arg, sigcls)\u001b[0m\n\u001b[0;32m   2302\u001b[0m         \u001b[1;31m# If it's a pure Python function, or an object that is duck type\u001b[0m\u001b[1;33m\u001b[0m\u001b[1;33m\u001b[0m\u001b[1;33m\u001b[0m\u001b[0m\n\u001b[0;32m   2303\u001b[0m         \u001b[1;31m# of a Python function (Cython functions, for instance), then:\u001b[0m\u001b[1;33m\u001b[0m\u001b[1;33m\u001b[0m\u001b[1;33m\u001b[0m\u001b[0m\n\u001b[1;32m-> 2304\u001b[1;33m         return _signature_from_function(sigcls, obj,\n\u001b[0m\u001b[0;32m   2305\u001b[0m                                         skip_bound_arg=skip_bound_arg)\n\u001b[0;32m   2306\u001b[0m \u001b[1;33m\u001b[0m\u001b[0m\n",
            "\u001b[1;32mG:\\Anaconda\\envs\\mapenv\\lib\\inspect.py\u001b[0m in \u001b[0;36m_signature_from_function\u001b[1;34m(cls, func, skip_bound_arg)\u001b[0m\n\u001b[0;32m   2195\u001b[0m \u001b[1;33m\u001b[0m\u001b[0m\n\u001b[0;32m   2196\u001b[0m         \u001b[0mannotation\u001b[0m \u001b[1;33m=\u001b[0m \u001b[0mannotations\u001b[0m\u001b[1;33m.\u001b[0m\u001b[0mget\u001b[0m\u001b[1;33m(\u001b[0m\u001b[0mname\u001b[0m\u001b[1;33m,\u001b[0m \u001b[0m_empty\u001b[0m\u001b[1;33m)\u001b[0m\u001b[1;33m\u001b[0m\u001b[1;33m\u001b[0m\u001b[0m\n\u001b[1;32m-> 2197\u001b[1;33m         parameters.append(Parameter(name, annotation=annotation,\n\u001b[0m\u001b[0;32m   2198\u001b[0m                                     \u001b[0mkind\u001b[0m\u001b[1;33m=\u001b[0m\u001b[0m_KEYWORD_ONLY\u001b[0m\u001b[1;33m,\u001b[0m\u001b[1;33m\u001b[0m\u001b[1;33m\u001b[0m\u001b[0m\n\u001b[0;32m   2199\u001b[0m                                     default=default))\n",
            "\u001b[1;31mKeyboardInterrupt\u001b[0m: "
          ]
        }
      ],
      "metadata": {}
    },
    {
      "cell_type": "code",
      "execution_count": null,
      "source": [
        "scores_tree_class"
      ],
      "outputs": [
        {
          "output_type": "execute_result",
          "data": {
            "text/plain": [
              "array([0.08571429, 0.37142857, 0.58823529, 0.70588235, 0.61764706,\n",
              "       0.5       , 0.73529412, 0.88235294, 0.5       , 0.79411765])"
            ]
          },
          "metadata": {},
          "execution_count": 47
        }
      ],
      "metadata": {}
    },
    {
      "cell_type": "code",
      "execution_count": null,
      "source": [
        "##### ROC-Curve\r\n",
        "\r\n",
        "### Decision Tree\r\n",
        "\r\n",
        "# calculate the fpr and tpr for all thresholds of the classification\r\n",
        "nested_tree_class.fit(xtrain, ytrain)\r\n",
        "probs_tree = nested_tree_class.predict_proba(xtest)\r\n",
        "preds_tree = probs_tree[:,1]\r\n",
        "fpr_tree, tpr_tree, threshold = metrics.roc_curve(ytest, preds_tree)\r\n",
        "roc_auc_tree = metrics.auc(fpr_tree, tpr_tree)\r\n",
        "\r\n",
        "\r\n",
        "### Random Forest\r\n",
        "\r\n",
        "# calculate the fpr and tpr for all thresholds of the classification\r\n",
        "nested_forest_class.fit(xtrain, ytrain)\r\n",
        "probs_forest = nested_forest_class.predict_proba(xtest)\r\n",
        "preds_forest = probs_forest[:,1]\r\n",
        "fpr_forest, tpr_forest, threshold = metrics.roc_curve(ytest, preds_forest)\r\n",
        "roc_auc_forest = metrics.auc(fpr_forest, tpr_forest)"
      ],
      "outputs": [],
      "metadata": {}
    },
    {
      "cell_type": "code",
      "execution_count": null,
      "source": [
        "nested_tree_class.best_params_\r\n",
        "nested_forest_class.best_params_"
      ],
      "outputs": [
        {
          "output_type": "execute_result",
          "data": {
            "text/plain": [
              "{'min_samples_split': 18}"
            ]
          },
          "metadata": {},
          "execution_count": 51
        }
      ],
      "metadata": {}
    },
    {
      "cell_type": "code",
      "execution_count": null,
      "source": [
        "plt.plot(fpr_tree, tpr_tree, 'b', label = 'Decision Tree: %0.2f' % roc_auc_tree)\r\n",
        "plt.plot(fpr_forest, tpr_forest, 'g', label = 'Random Forest: %0.2f' % roc_auc_forest)"
      ],
      "outputs": [
        {
          "output_type": "execute_result",
          "data": {
            "text/plain": [
              "[<matplotlib.lines.Line2D at 0x20d579329d0>]"
            ]
          },
          "metadata": {},
          "execution_count": 49
        },
        {
          "output_type": "display_data",
          "data": {
            "image/png": "[encoded data removed]",
            "image/svg+xml": "<?xml version=\"1.0\" encoding=\"utf-8\" standalone=\"no\"?>\r\n<!DOCTYPE svg PUBLIC \"-//W3C//DTD SVG 1.1//EN\"\r\n  \"http://www.w3.org/Graphics/SVG/1.1/DTD/svg11.dtd\">\r\n<svg height=\"248.518125pt\" version=\"1.1\" viewBox=\"0 0 372.103125 248.518125\" width=\"372.103125pt\" xmlns=\"http://www.w3.org/2000/svg\" xmlns:xlink=\"http://www.w3.org/1999/xlink\">\r\n <metadata>\r\n  <rdf:RDF xmlns:cc=\"http://creativecommons.org/ns#\" xmlns:dc=\"http://purl.org/dc/elements/1.1/\" xmlns:rdf=\"http://www.w3.org/1999/02/22-rdf-syntax-ns#\">\r\n   <cc:Work>\r\n    <dc:type rdf:resource=\"http://purl.org/dc/dcmitype/StillImage\"/>\r\n    <dc:date>2021-08-31T18:44:03.083066</dc:date>\r\n    <dc:format>image/svg+xml</dc:format>\r\n    <dc:creator>\r\n     <cc:Agent>\r\n      <dc:title>Matplotlib v3.4.2, https://matplotlib.org/</dc:title>\r\n     </cc:Agent>\r\n    </dc:creator>\r\n   </cc:Work>\r\n  </rdf:RDF>\r\n </metadata>\r\n <defs>\r\n  <style type=\"text/css\">*{stroke-linecap:butt;stroke-linejoin:round;}</style>\r\n </defs>\r\n <g id=\"figure_1\">\r\n  <g id=\"patch_1\">\r\n   <path d=\"M 0 248.518125 \r\nL 372.103125 248.518125 \r\nL 372.103125 0 \r\nL 0 0 \r\nz\r\n\" style=\"fill:none;\"/>\r\n  </g>\r\n  <g id=\"axes_1\">\r\n   <g id=\"patch_2\">\r\n    <path d=\"M 30.103125 224.64 \r\nL 364.903125 224.64 \r\nL 364.903125 7.2 \r\nL 30.103125 7.2 \r\nz\r\n\" style=\"fill:#ffffff;\"/>\r\n   </g>\r\n   <g id=\"matplotlib.axis_1\">\r\n    <g id=\"xtick_1\">\r\n     <g id=\"line2d_1\">\r\n      <defs>\r\n       <path d=\"M 0 0 \r\nL 0 3.5 \r\n\" id=\"md98d85eba9\" style=\"stroke:#000000;stroke-width:0.8;\"/>\r\n      </defs>\r\n      <g>\r\n       <use style=\"stroke:#000000;stroke-width:0.8;\" x=\"45.321307\" xlink:href=\"#md98d85eba9\" y=\"224.64\"/>\r\n      </g>\r\n     </g>\r\n     <g id=\"text_1\">\r\n      <!-- 0.0 -->\r\n      <g transform=\"translate(37.369744 239.238437)scale(0.1 -0.1)\">\r\n       <defs>\r\n        <path d=\"M 2034 4250 \r\nQ 1547 4250 1301 3770 \r\nQ 1056 3291 1056 2328 \r\nQ 1056 1369 1301 889 \r\nQ 1547 409 2034 409 \r\nQ 2525 409 2770 889 \r\nQ 3016 1369 3016 2328 \r\nQ 3016 3291 2770 3770 \r\nQ 2525 4250 2034 4250 \r\nz\r\nM 2034 4750 \r\nQ 2819 4750 3233 4129 \r\nQ 3647 3509 3647 2328 \r\nQ 3647 1150 3233 529 \r\nQ 2819 -91 2034 -91 \r\nQ 1250 -91 836 529 \r\nQ 422 1150 422 2328 \r\nQ 422 3509 836 4129 \r\nQ 1250 4750 2034 4750 \r\nz\r\n\" id=\"DejaVuSans-30\" transform=\"scale(0.015625)\"/>\r\n        <path d=\"M 684 794 \r\nL 1344 794 \r\nL 1344 0 \r\nL 684 0 \r\nL 684 794 \r\nz\r\n\" id=\"DejaVuSans-2e\" transform=\"scale(0.015625)\"/>\r\n       </defs>\r\n       <use xlink:href=\"#DejaVuSans-30\"/>\r\n       <use x=\"63.623047\" xlink:href=\"#DejaVuSans-2e\"/>\r\n       <use x=\"95.410156\" xlink:href=\"#DejaVuSans-30\"/>\r\n      </g>\r\n     </g>\r\n    </g>\r\n    <g id=\"xtick_2\">\r\n     <g id=\"line2d_2\">\r\n      <g>\r\n       <use style=\"stroke:#000000;stroke-width:0.8;\" x=\"106.194034\" xlink:href=\"#md98d85eba9\" y=\"224.64\"/>\r\n      </g>\r\n     </g>\r\n     <g id=\"text_2\">\r\n      <!-- 0.2 -->\r\n      <g transform=\"translate(98.242472 239.238437)scale(0.1 -0.1)\">\r\n       <defs>\r\n        <path d=\"M 1228 531 \r\nL 3431 531 \r\nL 3431 0 \r\nL 469 0 \r\nL 469 531 \r\nQ 828 903 1448 1529 \r\nQ 2069 2156 2228 2338 \r\nQ 2531 2678 2651 2914 \r\nQ 2772 3150 2772 3378 \r\nQ 2772 3750 2511 3984 \r\nQ 2250 4219 1831 4219 \r\nQ 1534 4219 1204 4116 \r\nQ 875 4013 500 3803 \r\nL 500 4441 \r\nQ 881 4594 1212 4672 \r\nQ 1544 4750 1819 4750 \r\nQ 2544 4750 2975 4387 \r\nQ 3406 4025 3406 3419 \r\nQ 3406 3131 3298 2873 \r\nQ 3191 2616 2906 2266 \r\nQ 2828 2175 2409 1742 \r\nQ 1991 1309 1228 531 \r\nz\r\n\" id=\"DejaVuSans-32\" transform=\"scale(0.015625)\"/>\r\n       </defs>\r\n       <use xlink:href=\"#DejaVuSans-30\"/>\r\n       <use x=\"63.623047\" xlink:href=\"#DejaVuSans-2e\"/>\r\n       <use x=\"95.410156\" xlink:href=\"#DejaVuSans-32\"/>\r\n      </g>\r\n     </g>\r\n    </g>\r\n    <g id=\"xtick_3\">\r\n     <g id=\"line2d_3\">\r\n      <g>\r\n       <use style=\"stroke:#000000;stroke-width:0.8;\" x=\"167.066761\" xlink:href=\"#md98d85eba9\" y=\"224.64\"/>\r\n      </g>\r\n     </g>\r\n     <g id=\"text_3\">\r\n      <!-- 0.4 -->\r\n      <g transform=\"translate(159.115199 239.238437)scale(0.1 -0.1)\">\r\n       <defs>\r\n        <path d=\"M 2419 4116 \r\nL 825 1625 \r\nL 2419 1625 \r\nL 2419 4116 \r\nz\r\nM 2253 4666 \r\nL 3047 4666 \r\nL 3047 1625 \r\nL 3713 1625 \r\nL 3713 1100 \r\nL 3047 1100 \r\nL 3047 0 \r\nL 2419 0 \r\nL 2419 1100 \r\nL 313 1100 \r\nL 313 1709 \r\nL 2253 4666 \r\nz\r\n\" id=\"DejaVuSans-34\" transform=\"scale(0.015625)\"/>\r\n       </defs>\r\n       <use xlink:href=\"#DejaVuSans-30\"/>\r\n       <use x=\"63.623047\" xlink:href=\"#DejaVuSans-2e\"/>\r\n       <use x=\"95.410156\" xlink:href=\"#DejaVuSans-34\"/>\r\n      </g>\r\n     </g>\r\n    </g>\r\n    <g id=\"xtick_4\">\r\n     <g id=\"line2d_4\">\r\n      <g>\r\n       <use style=\"stroke:#000000;stroke-width:0.8;\" x=\"227.939489\" xlink:href=\"#md98d85eba9\" y=\"224.64\"/>\r\n      </g>\r\n     </g>\r\n     <g id=\"text_4\">\r\n      <!-- 0.6 -->\r\n      <g transform=\"translate(219.987926 239.238437)scale(0.1 -0.1)\">\r\n       <defs>\r\n        <path d=\"M 2113 2584 \r\nQ 1688 2584 1439 2293 \r\nQ 1191 2003 1191 1497 \r\nQ 1191 994 1439 701 \r\nQ 1688 409 2113 409 \r\nQ 2538 409 2786 701 \r\nQ 3034 994 3034 1497 \r\nQ 3034 2003 2786 2293 \r\nQ 2538 2584 2113 2584 \r\nz\r\nM 3366 4563 \r\nL 3366 3988 \r\nQ 3128 4100 2886 4159 \r\nQ 2644 4219 2406 4219 \r\nQ 1781 4219 1451 3797 \r\nQ 1122 3375 1075 2522 \r\nQ 1259 2794 1537 2939 \r\nQ 1816 3084 2150 3084 \r\nQ 2853 3084 3261 2657 \r\nQ 3669 2231 3669 1497 \r\nQ 3669 778 3244 343 \r\nQ 2819 -91 2113 -91 \r\nQ 1303 -91 875 529 \r\nQ 447 1150 447 2328 \r\nQ 447 3434 972 4092 \r\nQ 1497 4750 2381 4750 \r\nQ 2619 4750 2861 4703 \r\nQ 3103 4656 3366 4563 \r\nz\r\n\" id=\"DejaVuSans-36\" transform=\"scale(0.015625)\"/>\r\n       </defs>\r\n       <use xlink:href=\"#DejaVuSans-30\"/>\r\n       <use x=\"63.623047\" xlink:href=\"#DejaVuSans-2e\"/>\r\n       <use x=\"95.410156\" xlink:href=\"#DejaVuSans-36\"/>\r\n      </g>\r\n     </g>\r\n    </g>\r\n    <g id=\"xtick_5\">\r\n     <g id=\"line2d_5\">\r\n      <g>\r\n       <use style=\"stroke:#000000;stroke-width:0.8;\" x=\"288.812216\" xlink:href=\"#md98d85eba9\" y=\"224.64\"/>\r\n      </g>\r\n     </g>\r\n     <g id=\"text_5\">\r\n      <!-- 0.8 -->\r\n      <g transform=\"translate(280.860653 239.238437)scale(0.1 -0.1)\">\r\n       <defs>\r\n        <path d=\"M 2034 2216 \r\nQ 1584 2216 1326 1975 \r\nQ 1069 1734 1069 1313 \r\nQ 1069 891 1326 650 \r\nQ 1584 409 2034 409 \r\nQ 2484 409 2743 651 \r\nQ 3003 894 3003 1313 \r\nQ 3003 1734 2745 1975 \r\nQ 2488 2216 2034 2216 \r\nz\r\nM 1403 2484 \r\nQ 997 2584 770 2862 \r\nQ 544 3141 544 3541 \r\nQ 544 4100 942 4425 \r\nQ 1341 4750 2034 4750 \r\nQ 2731 4750 3128 4425 \r\nQ 3525 4100 3525 3541 \r\nQ 3525 3141 3298 2862 \r\nQ 3072 2584 2669 2484 \r\nQ 3125 2378 3379 2068 \r\nQ 3634 1759 3634 1313 \r\nQ 3634 634 3220 271 \r\nQ 2806 -91 2034 -91 \r\nQ 1263 -91 848 271 \r\nQ 434 634 434 1313 \r\nQ 434 1759 690 2068 \r\nQ 947 2378 1403 2484 \r\nz\r\nM 1172 3481 \r\nQ 1172 3119 1398 2916 \r\nQ 1625 2713 2034 2713 \r\nQ 2441 2713 2670 2916 \r\nQ 2900 3119 2900 3481 \r\nQ 2900 3844 2670 4047 \r\nQ 2441 4250 2034 4250 \r\nQ 1625 4250 1398 4047 \r\nQ 1172 3844 1172 3481 \r\nz\r\n\" id=\"DejaVuSans-38\" transform=\"scale(0.015625)\"/>\r\n       </defs>\r\n       <use xlink:href=\"#DejaVuSans-30\"/>\r\n       <use x=\"63.623047\" xlink:href=\"#DejaVuSans-2e\"/>\r\n       <use x=\"95.410156\" xlink:href=\"#DejaVuSans-38\"/>\r\n      </g>\r\n     </g>\r\n    </g>\r\n    <g id=\"xtick_6\">\r\n     <g id=\"line2d_6\">\r\n      <g>\r\n       <use style=\"stroke:#000000;stroke-width:0.8;\" x=\"349.684943\" xlink:href=\"#md98d85eba9\" y=\"224.64\"/>\r\n      </g>\r\n     </g>\r\n     <g id=\"text_6\">\r\n      <!-- 1.0 -->\r\n      <g transform=\"translate(341.733381 239.238437)scale(0.1 -0.1)\">\r\n       <defs>\r\n        <path d=\"M 794 531 \r\nL 1825 531 \r\nL 1825 4091 \r\nL 703 3866 \r\nL 703 4441 \r\nL 1819 4666 \r\nL 2450 4666 \r\nL 2450 531 \r\nL 3481 531 \r\nL 3481 0 \r\nL 794 0 \r\nL 794 531 \r\nz\r\n\" id=\"DejaVuSans-31\" transform=\"scale(0.015625)\"/>\r\n       </defs>\r\n       <use xlink:href=\"#DejaVuSans-31\"/>\r\n       <use x=\"63.623047\" xlink:href=\"#DejaVuSans-2e\"/>\r\n       <use x=\"95.410156\" xlink:href=\"#DejaVuSans-30\"/>\r\n      </g>\r\n     </g>\r\n    </g>\r\n   </g>\r\n   <g id=\"matplotlib.axis_2\">\r\n    <g id=\"ytick_1\">\r\n     <g id=\"line2d_7\">\r\n      <defs>\r\n       <path d=\"M 0 0 \r\nL -3.5 0 \r\n\" id=\"mcd285aad33\" style=\"stroke:#000000;stroke-width:0.8;\"/>\r\n      </defs>\r\n      <g>\r\n       <use style=\"stroke:#000000;stroke-width:0.8;\" x=\"30.103125\" xlink:href=\"#mcd285aad33\" y=\"214.756364\"/>\r\n      </g>\r\n     </g>\r\n     <g id=\"text_7\">\r\n      <!-- 0.0 -->\r\n      <g transform=\"translate(7.2 218.555582)scale(0.1 -0.1)\">\r\n       <use xlink:href=\"#DejaVuSans-30\"/>\r\n       <use x=\"63.623047\" xlink:href=\"#DejaVuSans-2e\"/>\r\n       <use x=\"95.410156\" xlink:href=\"#DejaVuSans-30\"/>\r\n      </g>\r\n     </g>\r\n    </g>\r\n    <g id=\"ytick_2\">\r\n     <g id=\"line2d_8\">\r\n      <g>\r\n       <use style=\"stroke:#000000;stroke-width:0.8;\" x=\"30.103125\" xlink:href=\"#mcd285aad33\" y=\"175.221818\"/>\r\n      </g>\r\n     </g>\r\n     <g id=\"text_8\">\r\n      <!-- 0.2 -->\r\n      <g transform=\"translate(7.2 179.021037)scale(0.1 -0.1)\">\r\n       <use xlink:href=\"#DejaVuSans-30\"/>\r\n       <use x=\"63.623047\" xlink:href=\"#DejaVuSans-2e\"/>\r\n       <use x=\"95.410156\" xlink:href=\"#DejaVuSans-32\"/>\r\n      </g>\r\n     </g>\r\n    </g>\r\n    <g id=\"ytick_3\">\r\n     <g id=\"line2d_9\">\r\n      <g>\r\n       <use style=\"stroke:#000000;stroke-width:0.8;\" x=\"30.103125\" xlink:href=\"#mcd285aad33\" y=\"135.687273\"/>\r\n      </g>\r\n     </g>\r\n     <g id=\"text_9\">\r\n      <!-- 0.4 -->\r\n      <g transform=\"translate(7.2 139.486491)scale(0.1 -0.1)\">\r\n       <use xlink:href=\"#DejaVuSans-30\"/>\r\n       <use x=\"63.623047\" xlink:href=\"#DejaVuSans-2e\"/>\r\n       <use x=\"95.410156\" xlink:href=\"#DejaVuSans-34\"/>\r\n      </g>\r\n     </g>\r\n    </g>\r\n    <g id=\"ytick_4\">\r\n     <g id=\"line2d_10\">\r\n      <g>\r\n       <use style=\"stroke:#000000;stroke-width:0.8;\" x=\"30.103125\" xlink:href=\"#mcd285aad33\" y=\"96.152727\"/>\r\n      </g>\r\n     </g>\r\n     <g id=\"text_10\">\r\n      <!-- 0.6 -->\r\n      <g transform=\"translate(7.2 99.951946)scale(0.1 -0.1)\">\r\n       <use xlink:href=\"#DejaVuSans-30\"/>\r\n       <use x=\"63.623047\" xlink:href=\"#DejaVuSans-2e\"/>\r\n       <use x=\"95.410156\" xlink:href=\"#DejaVuSans-36\"/>\r\n      </g>\r\n     </g>\r\n    </g>\r\n    <g id=\"ytick_5\">\r\n     <g id=\"line2d_11\">\r\n      <g>\r\n       <use style=\"stroke:#000000;stroke-width:0.8;\" x=\"30.103125\" xlink:href=\"#mcd285aad33\" y=\"56.618182\"/>\r\n      </g>\r\n     </g>\r\n     <g id=\"text_11\">\r\n      <!-- 0.8 -->\r\n      <g transform=\"translate(7.2 60.417401)scale(0.1 -0.1)\">\r\n       <use xlink:href=\"#DejaVuSans-30\"/>\r\n       <use x=\"63.623047\" xlink:href=\"#DejaVuSans-2e\"/>\r\n       <use x=\"95.410156\" xlink:href=\"#DejaVuSans-38\"/>\r\n      </g>\r\n     </g>\r\n    </g>\r\n    <g id=\"ytick_6\">\r\n     <g id=\"line2d_12\">\r\n      <g>\r\n       <use style=\"stroke:#000000;stroke-width:0.8;\" x=\"30.103125\" xlink:href=\"#mcd285aad33\" y=\"17.083636\"/>\r\n      </g>\r\n     </g>\r\n     <g id=\"text_12\">\r\n      <!-- 1.0 -->\r\n      <g transform=\"translate(7.2 20.882855)scale(0.1 -0.1)\">\r\n       <use xlink:href=\"#DejaVuSans-31\"/>\r\n       <use x=\"63.623047\" xlink:href=\"#DejaVuSans-2e\"/>\r\n       <use x=\"95.410156\" xlink:href=\"#DejaVuSans-30\"/>\r\n      </g>\r\n     </g>\r\n    </g>\r\n   </g>\r\n   <g id=\"line2d_13\">\r\n    <path clip-path=\"url(#p717c420138)\" d=\"M 45.321307 214.756364 \r\nL 67.061567 214.756364 \r\nL 88.801826 178.150303 \r\nL 96.04858 178.150303 \r\nL 103.295333 163.507879 \r\nL 146.775852 148.865455 \r\nL 154.022606 148.865455 \r\nL 161.269359 126.901818 \r\nL 190.256372 119.580606 \r\nL 204.749878 119.580606 \r\nL 211.996631 112.259394 \r\nL 211.996631 104.938182 \r\nL 219.243385 97.61697 \r\nL 233.736891 68.332121 \r\nL 255.477151 46.368485 \r\nL 349.684943 17.083636 \r\n\" style=\"fill:none;stroke:#0000ff;stroke-linecap:square;stroke-width:1.5;\"/>\r\n   </g>\r\n   <g id=\"line2d_14\">\r\n    <path clip-path=\"url(#p717c420138)\" d=\"M 45.321307 214.756364 \r\nL 45.321307 207.435152 \r\nL 45.321307 200.113939 \r\nL 52.56806 200.113939 \r\nL 52.56806 178.150303 \r\nL 59.814813 178.150303 \r\nL 59.814813 170.829091 \r\nL 67.061567 170.829091 \r\nL 67.061567 163.507879 \r\nL 81.555073 163.507879 \r\nL 81.555073 156.186667 \r\nL 125.035593 156.186667 \r\nL 125.035593 148.865455 \r\nL 161.269359 148.865455 \r\nL 161.269359 141.544242 \r\nL 168.516112 141.544242 \r\nL 168.516112 134.22303 \r\nL 190.256372 134.22303 \r\nL 190.256372 126.901818 \r\nL 197.503125 126.901818 \r\nL 197.503125 119.580606 \r\nL 219.243385 119.580606 \r\nL 219.243385 104.938182 \r\nL 255.477151 104.938182 \r\nL 255.477151 90.295758 \r\nL 262.723904 90.295758 \r\nL 262.723904 82.974545 \r\nL 284.464164 82.974545 \r\nL 284.464164 75.653333 \r\nL 298.95767 75.653333 \r\nL 298.95767 61.010909 \r\nL 313.451177 61.010909 \r\nL 313.451177 53.689697 \r\nL 342.43819 53.689697 \r\nL 342.43819 31.726061 \r\nL 349.684943 31.726061 \r\nL 349.684943 17.083636 \r\n\" style=\"fill:none;stroke:#008000;stroke-linecap:square;stroke-width:1.5;\"/>\r\n   </g>\r\n   <g id=\"patch_3\">\r\n    <path d=\"M 30.103125 224.64 \r\nL 30.103125 7.2 \r\n\" style=\"fill:none;stroke:#000000;stroke-linecap:square;stroke-linejoin:miter;stroke-width:0.8;\"/>\r\n   </g>\r\n   <g id=\"patch_4\">\r\n    <path d=\"M 364.903125 224.64 \r\nL 364.903125 7.2 \r\n\" style=\"fill:none;stroke:#000000;stroke-linecap:square;stroke-linejoin:miter;stroke-width:0.8;\"/>\r\n   </g>\r\n   <g id=\"patch_5\">\r\n    <path d=\"M 30.103125 224.64 \r\nL 364.903125 224.64 \r\n\" style=\"fill:none;stroke:#000000;stroke-linecap:square;stroke-linejoin:miter;stroke-width:0.8;\"/>\r\n   </g>\r\n   <g id=\"patch_6\">\r\n    <path d=\"M 30.103125 7.2 \r\nL 364.903125 7.2 \r\n\" style=\"fill:none;stroke:#000000;stroke-linecap:square;stroke-linejoin:miter;stroke-width:0.8;\"/>\r\n   </g>\r\n  </g>\r\n </g>\r\n <defs>\r\n  <clipPath id=\"p717c420138\">\r\n   <rect height=\"217.44\" width=\"334.8\" x=\"30.103125\" y=\"7.2\"/>\r\n  </clipPath>\r\n </defs>\r\n</svg>\r\n",
            "text/plain": [
              "<Figure size 432x288 with 1 Axes>"
            ]
          },
          "metadata": {
            "needs_background": "light"
          }
        }
      ],
      "metadata": {}
    }
  ]
}