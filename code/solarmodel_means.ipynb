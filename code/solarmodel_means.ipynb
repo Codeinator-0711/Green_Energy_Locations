{
 "cells": [
  {
   "cell_type": "code",
   "execution_count": 2,
   "source": [
    "# import packages\r\n",
    "import pandas as pd"
   ],
   "outputs": [],
   "metadata": {}
  },
  {
   "cell_type": "code",
   "execution_count": 3,
   "source": [
    "# raw data\r\n",
    "data = pd.read_parquet('../data/all_means_df.pqt')"
   ],
   "outputs": [],
   "metadata": {}
  },
  {
   "cell_type": "code",
   "execution_count": 4,
   "source": [
    "# mean clearness\r\n",
    "clearness_df = pd.read_csv('../data/input_smodel.csv')"
   ],
   "outputs": [],
   "metadata": {}
  },
  {
   "cell_type": "code",
   "execution_count": 5,
   "source": [
    "clearness_df.columns"
   ],
   "outputs": [
    {
     "output_type": "execute_result",
     "data": {
      "text/plain": [
       "Index(['id', 'date', 'hour_std', 'tsun_std', 'is clear_std',\n",
       "       'code available_std', 'hour_mean', 'tsun_mean', 'is clear_mean',\n",
       "       'code available_mean'],\n",
       "      dtype='object')"
      ]
     },
     "metadata": {},
     "execution_count": 5
    }
   ],
   "metadata": {}
  },
  {
   "cell_type": "code",
   "execution_count": 6,
   "source": [
    "clearness_df=clearness_df[['id','is clear_mean']].groupby(['id']).mean()"
   ],
   "outputs": [],
   "metadata": {}
  },
  {
   "cell_type": "code",
   "execution_count": 7,
   "source": [
    "clearness_df.index = clearness_df.index.astype('str')"
   ],
   "outputs": [],
   "metadata": {}
  },
  {
   "cell_type": "code",
   "execution_count": 8,
   "source": [
    "full_data = data.join(clearness_df)"
   ],
   "outputs": [],
   "metadata": {}
  },
  {
   "cell_type": "code",
   "execution_count": 9,
   "source": [
    "data = full_data.loc[full_data['is clear_mean'].isna()==False]"
   ],
   "outputs": [],
   "metadata": {}
  },
  {
   "cell_type": "code",
   "execution_count": 10,
   "source": [
    "data"
   ],
   "outputs": [
    {
     "output_type": "execute_result",
     "data": {
      "text/html": [
       "<div>\n",
       "<style scoped>\n",
       "    .dataframe tbody tr th:only-of-type {\n",
       "        vertical-align: middle;\n",
       "    }\n",
       "\n",
       "    .dataframe tbody tr th {\n",
       "        vertical-align: top;\n",
       "    }\n",
       "\n",
       "    .dataframe thead th {\n",
       "        text-align: right;\n",
       "    }\n",
       "</style>\n",
       "<table border=\"1\" class=\"dataframe\">\n",
       "  <thead>\n",
       "    <tr style=\"text-align: right;\">\n",
       "      <th></th>\n",
       "      <th>temp</th>\n",
       "      <th>dwpt</th>\n",
       "      <th>rhum</th>\n",
       "      <th>prcp</th>\n",
       "      <th>wdir</th>\n",
       "      <th>wspd</th>\n",
       "      <th>wpgt</th>\n",
       "      <th>pres</th>\n",
       "      <th>tsun</th>\n",
       "      <th>is clear_mean</th>\n",
       "    </tr>\n",
       "    <tr>\n",
       "      <th>id</th>\n",
       "      <th></th>\n",
       "      <th></th>\n",
       "      <th></th>\n",
       "      <th></th>\n",
       "      <th></th>\n",
       "      <th></th>\n",
       "      <th></th>\n",
       "      <th></th>\n",
       "      <th></th>\n",
       "      <th></th>\n",
       "    </tr>\n",
       "  </thead>\n",
       "  <tbody>\n",
       "    <tr>\n",
       "      <th>10015</th>\n",
       "      <td>10.936814</td>\n",
       "      <td>7.477791</td>\n",
       "      <td>79.947582</td>\n",
       "      <td>0.089194</td>\n",
       "      <td>204.287527</td>\n",
       "      <td>26.965759</td>\n",
       "      <td>37.540909</td>\n",
       "      <td>1014.087925</td>\n",
       "      <td>12.650690</td>\n",
       "      <td>0.188839</td>\n",
       "    </tr>\n",
       "    <tr>\n",
       "      <th>10020</th>\n",
       "      <td>10.451094</td>\n",
       "      <td>6.789513</td>\n",
       "      <td>79.452712</td>\n",
       "      <td>0.074267</td>\n",
       "      <td>205.829421</td>\n",
       "      <td>26.275399</td>\n",
       "      <td>38.887773</td>\n",
       "      <td>1013.542898</td>\n",
       "      <td>12.665966</td>\n",
       "      <td>0.178221</td>\n",
       "    </tr>\n",
       "    <tr>\n",
       "      <th>10022</th>\n",
       "      <td>10.018232</td>\n",
       "      <td>6.643208</td>\n",
       "      <td>81.443326</td>\n",
       "      <td>0.093980</td>\n",
       "      <td>193.680252</td>\n",
       "      <td>17.103179</td>\n",
       "      <td>28.103705</td>\n",
       "      <td>1013.934051</td>\n",
       "      <td>11.820358</td>\n",
       "      <td>0.167444</td>\n",
       "    </tr>\n",
       "    <tr>\n",
       "      <th>10028</th>\n",
       "      <td>10.505162</td>\n",
       "      <td>7.083428</td>\n",
       "      <td>80.923883</td>\n",
       "      <td>0.086501</td>\n",
       "      <td>202.931974</td>\n",
       "      <td>22.963651</td>\n",
       "      <td>34.654543</td>\n",
       "      <td>1014.124829</td>\n",
       "      <td>13.346736</td>\n",
       "      <td>0.187918</td>\n",
       "    </tr>\n",
       "    <tr>\n",
       "      <th>10035</th>\n",
       "      <td>10.103840</td>\n",
       "      <td>6.658508</td>\n",
       "      <td>81.273511</td>\n",
       "      <td>0.102419</td>\n",
       "      <td>196.195419</td>\n",
       "      <td>13.532182</td>\n",
       "      <td>26.738500</td>\n",
       "      <td>1014.214114</td>\n",
       "      <td>12.459606</td>\n",
       "      <td>0.163400</td>\n",
       "    </tr>\n",
       "    <tr>\n",
       "      <th>...</th>\n",
       "      <td>...</td>\n",
       "      <td>...</td>\n",
       "      <td>...</td>\n",
       "      <td>...</td>\n",
       "      <td>...</td>\n",
       "      <td>...</td>\n",
       "      <td>...</td>\n",
       "      <td>...</td>\n",
       "      <td>...</td>\n",
       "      <td>...</td>\n",
       "    </tr>\n",
       "    <tr>\n",
       "      <th>10948</th>\n",
       "      <td>8.005150</td>\n",
       "      <td>4.198112</td>\n",
       "      <td>79.941469</td>\n",
       "      <td>0.191051</td>\n",
       "      <td>193.951117</td>\n",
       "      <td>7.083029</td>\n",
       "      <td>14.243301</td>\n",
       "      <td>1018.080509</td>\n",
       "      <td>11.875057</td>\n",
       "      <td>0.244558</td>\n",
       "    </tr>\n",
       "    <tr>\n",
       "      <th>10961</th>\n",
       "      <td>-2.778965</td>\n",
       "      <td>-7.243885</td>\n",
       "      <td>76.859840</td>\n",
       "      <td>0.224373</td>\n",
       "      <td>232.599072</td>\n",
       "      <td>21.609182</td>\n",
       "      <td>38.491932</td>\n",
       "      <td>1018.143157</td>\n",
       "      <td>14.008219</td>\n",
       "      <td>0.195093</td>\n",
       "    </tr>\n",
       "    <tr>\n",
       "      <th>10962</th>\n",
       "      <td>8.892688</td>\n",
       "      <td>3.691526</td>\n",
       "      <td>73.397637</td>\n",
       "      <td>0.127314</td>\n",
       "      <td>178.822470</td>\n",
       "      <td>14.827336</td>\n",
       "      <td>26.590399</td>\n",
       "      <td>1017.905872</td>\n",
       "      <td>14.438769</td>\n",
       "      <td>0.221522</td>\n",
       "    </tr>\n",
       "    <tr>\n",
       "      <th>10963</th>\n",
       "      <td>8.679482</td>\n",
       "      <td>4.731594</td>\n",
       "      <td>79.945191</td>\n",
       "      <td>0.161968</td>\n",
       "      <td>173.179948</td>\n",
       "      <td>5.020737</td>\n",
       "      <td>12.369546</td>\n",
       "      <td>1017.471878</td>\n",
       "      <td>12.323020</td>\n",
       "      <td>0.229705</td>\n",
       "    </tr>\n",
       "    <tr>\n",
       "      <th>10982</th>\n",
       "      <td>10.067459</td>\n",
       "      <td>5.742851</td>\n",
       "      <td>77.128347</td>\n",
       "      <td>0.127113</td>\n",
       "      <td>167.192343</td>\n",
       "      <td>10.924199</td>\n",
       "      <td>19.066953</td>\n",
       "      <td>1017.098513</td>\n",
       "      <td>13.495105</td>\n",
       "      <td>0.217739</td>\n",
       "    </tr>\n",
       "  </tbody>\n",
       "</table>\n",
       "<p>175 rows × 10 columns</p>\n",
       "</div>"
      ],
      "text/plain": [
       "            temp      dwpt       rhum      prcp        wdir       wspd  \\\n",
       "id                                                                       \n",
       "10015  10.936814  7.477791  79.947582  0.089194  204.287527  26.965759   \n",
       "10020  10.451094  6.789513  79.452712  0.074267  205.829421  26.275399   \n",
       "10022  10.018232  6.643208  81.443326  0.093980  193.680252  17.103179   \n",
       "10028  10.505162  7.083428  80.923883  0.086501  202.931974  22.963651   \n",
       "10035  10.103840  6.658508  81.273511  0.102419  196.195419  13.532182   \n",
       "...          ...       ...        ...       ...         ...        ...   \n",
       "10948   8.005150  4.198112  79.941469  0.191051  193.951117   7.083029   \n",
       "10961  -2.778965 -7.243885  76.859840  0.224373  232.599072  21.609182   \n",
       "10962   8.892688  3.691526  73.397637  0.127314  178.822470  14.827336   \n",
       "10963   8.679482  4.731594  79.945191  0.161968  173.179948   5.020737   \n",
       "10982  10.067459  5.742851  77.128347  0.127113  167.192343  10.924199   \n",
       "\n",
       "            wpgt         pres       tsun  is clear_mean  \n",
       "id                                                       \n",
       "10015  37.540909  1014.087925  12.650690       0.188839  \n",
       "10020  38.887773  1013.542898  12.665966       0.178221  \n",
       "10022  28.103705  1013.934051  11.820358       0.167444  \n",
       "10028  34.654543  1014.124829  13.346736       0.187918  \n",
       "10035  26.738500  1014.214114  12.459606       0.163400  \n",
       "...          ...          ...        ...            ...  \n",
       "10948  14.243301  1018.080509  11.875057       0.244558  \n",
       "10961  38.491932  1018.143157  14.008219       0.195093  \n",
       "10962  26.590399  1017.905872  14.438769       0.221522  \n",
       "10963  12.369546  1017.471878  12.323020       0.229705  \n",
       "10982  19.066953  1017.098513  13.495105       0.217739  \n",
       "\n",
       "[175 rows x 10 columns]"
      ]
     },
     "metadata": {},
     "execution_count": 10
    }
   ],
   "metadata": {}
  },
  {
   "cell_type": "code",
   "execution_count": 11,
   "source": [
    "# choose the cutoffs for minimum sunhours, minimum clearness and maximum clearness std\r\n",
    "# by specifying the cutoff percentiles\r\n",
    "sunhrs_percentile = .3\r\n",
    "clearness_percentile = .3"
   ],
   "outputs": [],
   "metadata": {}
  },
  {
   "cell_type": "code",
   "execution_count": 12,
   "source": [
    "sun_hrs_min = data.tsun.sort_values()[int(len(data)*sunhrs_percentile)]\r\n",
    "clearness_pct_min = data['is clear_mean'].sort_values()[int(len(data)*sunhrs_percentile)]"
   ],
   "outputs": [],
   "metadata": {}
  },
  {
   "cell_type": "code",
   "execution_count": 13,
   "source": [
    "data.loc[:,'suited for PV'] = 0\r\n",
    "data.loc[   (data['tsun']>=sun_hrs_min) &\r\n",
    "              (data['is clear_mean']>=clearness_pct_min)\\\r\n",
    "           ,'suited for PV'] = 1"
   ],
   "outputs": [
    {
     "output_type": "stream",
     "name": "stderr",
     "text": [
      "G:\\Anaconda\\envs\\mapenv\\lib\\site-packages\\pandas\\core\\indexing.py:1667: SettingWithCopyWarning: \n",
      "A value is trying to be set on a copy of a slice from a DataFrame.\n",
      "Try using .loc[row_indexer,col_indexer] = value instead\n",
      "\n",
      "See the caveats in the documentation: https://pandas.pydata.org/pandas-docs/stable/user_guide/indexing.html#returning-a-view-versus-a-copy\n",
      "  self.obj[key] = value\n",
      "G:\\Anaconda\\envs\\mapenv\\lib\\site-packages\\pandas\\core\\indexing.py:1817: SettingWithCopyWarning: \n",
      "A value is trying to be set on a copy of a slice from a DataFrame.\n",
      "Try using .loc[row_indexer,col_indexer] = value instead\n",
      "\n",
      "See the caveats in the documentation: https://pandas.pydata.org/pandas-docs/stable/user_guide/indexing.html#returning-a-view-versus-a-copy\n",
      "  self._setitem_single_column(loc, value, pi)\n"
     ]
    }
   ],
   "metadata": {}
  },
  {
   "cell_type": "code",
   "execution_count": 14,
   "source": [
    "data"
   ],
   "outputs": [
    {
     "output_type": "execute_result",
     "data": {
      "text/html": [
       "<div>\n",
       "<style scoped>\n",
       "    .dataframe tbody tr th:only-of-type {\n",
       "        vertical-align: middle;\n",
       "    }\n",
       "\n",
       "    .dataframe tbody tr th {\n",
       "        vertical-align: top;\n",
       "    }\n",
       "\n",
       "    .dataframe thead th {\n",
       "        text-align: right;\n",
       "    }\n",
       "</style>\n",
       "<table border=\"1\" class=\"dataframe\">\n",
       "  <thead>\n",
       "    <tr style=\"text-align: right;\">\n",
       "      <th></th>\n",
       "      <th>temp</th>\n",
       "      <th>dwpt</th>\n",
       "      <th>rhum</th>\n",
       "      <th>prcp</th>\n",
       "      <th>wdir</th>\n",
       "      <th>wspd</th>\n",
       "      <th>wpgt</th>\n",
       "      <th>pres</th>\n",
       "      <th>tsun</th>\n",
       "      <th>is clear_mean</th>\n",
       "      <th>suited for PV</th>\n",
       "    </tr>\n",
       "    <tr>\n",
       "      <th>id</th>\n",
       "      <th></th>\n",
       "      <th></th>\n",
       "      <th></th>\n",
       "      <th></th>\n",
       "      <th></th>\n",
       "      <th></th>\n",
       "      <th></th>\n",
       "      <th></th>\n",
       "      <th></th>\n",
       "      <th></th>\n",
       "      <th></th>\n",
       "    </tr>\n",
       "  </thead>\n",
       "  <tbody>\n",
       "    <tr>\n",
       "      <th>10015</th>\n",
       "      <td>10.936814</td>\n",
       "      <td>7.477791</td>\n",
       "      <td>79.947582</td>\n",
       "      <td>0.089194</td>\n",
       "      <td>204.287527</td>\n",
       "      <td>26.965759</td>\n",
       "      <td>37.540909</td>\n",
       "      <td>1014.087925</td>\n",
       "      <td>12.650690</td>\n",
       "      <td>0.188839</td>\n",
       "      <td>0</td>\n",
       "    </tr>\n",
       "    <tr>\n",
       "      <th>10020</th>\n",
       "      <td>10.451094</td>\n",
       "      <td>6.789513</td>\n",
       "      <td>79.452712</td>\n",
       "      <td>0.074267</td>\n",
       "      <td>205.829421</td>\n",
       "      <td>26.275399</td>\n",
       "      <td>38.887773</td>\n",
       "      <td>1013.542898</td>\n",
       "      <td>12.665966</td>\n",
       "      <td>0.178221</td>\n",
       "      <td>0</td>\n",
       "    </tr>\n",
       "    <tr>\n",
       "      <th>10022</th>\n",
       "      <td>10.018232</td>\n",
       "      <td>6.643208</td>\n",
       "      <td>81.443326</td>\n",
       "      <td>0.093980</td>\n",
       "      <td>193.680252</td>\n",
       "      <td>17.103179</td>\n",
       "      <td>28.103705</td>\n",
       "      <td>1013.934051</td>\n",
       "      <td>11.820358</td>\n",
       "      <td>0.167444</td>\n",
       "      <td>0</td>\n",
       "    </tr>\n",
       "    <tr>\n",
       "      <th>10028</th>\n",
       "      <td>10.505162</td>\n",
       "      <td>7.083428</td>\n",
       "      <td>80.923883</td>\n",
       "      <td>0.086501</td>\n",
       "      <td>202.931974</td>\n",
       "      <td>22.963651</td>\n",
       "      <td>34.654543</td>\n",
       "      <td>1014.124829</td>\n",
       "      <td>13.346736</td>\n",
       "      <td>0.187918</td>\n",
       "      <td>0</td>\n",
       "    </tr>\n",
       "    <tr>\n",
       "      <th>10035</th>\n",
       "      <td>10.103840</td>\n",
       "      <td>6.658508</td>\n",
       "      <td>81.273511</td>\n",
       "      <td>0.102419</td>\n",
       "      <td>196.195419</td>\n",
       "      <td>13.532182</td>\n",
       "      <td>26.738500</td>\n",
       "      <td>1014.214114</td>\n",
       "      <td>12.459606</td>\n",
       "      <td>0.163400</td>\n",
       "      <td>0</td>\n",
       "    </tr>\n",
       "    <tr>\n",
       "      <th>...</th>\n",
       "      <td>...</td>\n",
       "      <td>...</td>\n",
       "      <td>...</td>\n",
       "      <td>...</td>\n",
       "      <td>...</td>\n",
       "      <td>...</td>\n",
       "      <td>...</td>\n",
       "      <td>...</td>\n",
       "      <td>...</td>\n",
       "      <td>...</td>\n",
       "      <td>...</td>\n",
       "    </tr>\n",
       "    <tr>\n",
       "      <th>10948</th>\n",
       "      <td>8.005150</td>\n",
       "      <td>4.198112</td>\n",
       "      <td>79.941469</td>\n",
       "      <td>0.191051</td>\n",
       "      <td>193.951117</td>\n",
       "      <td>7.083029</td>\n",
       "      <td>14.243301</td>\n",
       "      <td>1018.080509</td>\n",
       "      <td>11.875057</td>\n",
       "      <td>0.244558</td>\n",
       "      <td>0</td>\n",
       "    </tr>\n",
       "    <tr>\n",
       "      <th>10961</th>\n",
       "      <td>-2.778965</td>\n",
       "      <td>-7.243885</td>\n",
       "      <td>76.859840</td>\n",
       "      <td>0.224373</td>\n",
       "      <td>232.599072</td>\n",
       "      <td>21.609182</td>\n",
       "      <td>38.491932</td>\n",
       "      <td>1018.143157</td>\n",
       "      <td>14.008219</td>\n",
       "      <td>0.195093</td>\n",
       "      <td>1</td>\n",
       "    </tr>\n",
       "    <tr>\n",
       "      <th>10962</th>\n",
       "      <td>8.892688</td>\n",
       "      <td>3.691526</td>\n",
       "      <td>73.397637</td>\n",
       "      <td>0.127314</td>\n",
       "      <td>178.822470</td>\n",
       "      <td>14.827336</td>\n",
       "      <td>26.590399</td>\n",
       "      <td>1017.905872</td>\n",
       "      <td>14.438769</td>\n",
       "      <td>0.221522</td>\n",
       "      <td>1</td>\n",
       "    </tr>\n",
       "    <tr>\n",
       "      <th>10963</th>\n",
       "      <td>8.679482</td>\n",
       "      <td>4.731594</td>\n",
       "      <td>79.945191</td>\n",
       "      <td>0.161968</td>\n",
       "      <td>173.179948</td>\n",
       "      <td>5.020737</td>\n",
       "      <td>12.369546</td>\n",
       "      <td>1017.471878</td>\n",
       "      <td>12.323020</td>\n",
       "      <td>0.229705</td>\n",
       "      <td>0</td>\n",
       "    </tr>\n",
       "    <tr>\n",
       "      <th>10982</th>\n",
       "      <td>10.067459</td>\n",
       "      <td>5.742851</td>\n",
       "      <td>77.128347</td>\n",
       "      <td>0.127113</td>\n",
       "      <td>167.192343</td>\n",
       "      <td>10.924199</td>\n",
       "      <td>19.066953</td>\n",
       "      <td>1017.098513</td>\n",
       "      <td>13.495105</td>\n",
       "      <td>0.217739</td>\n",
       "      <td>1</td>\n",
       "    </tr>\n",
       "  </tbody>\n",
       "</table>\n",
       "<p>175 rows × 11 columns</p>\n",
       "</div>"
      ],
      "text/plain": [
       "            temp      dwpt       rhum      prcp        wdir       wspd  \\\n",
       "id                                                                       \n",
       "10015  10.936814  7.477791  79.947582  0.089194  204.287527  26.965759   \n",
       "10020  10.451094  6.789513  79.452712  0.074267  205.829421  26.275399   \n",
       "10022  10.018232  6.643208  81.443326  0.093980  193.680252  17.103179   \n",
       "10028  10.505162  7.083428  80.923883  0.086501  202.931974  22.963651   \n",
       "10035  10.103840  6.658508  81.273511  0.102419  196.195419  13.532182   \n",
       "...          ...       ...        ...       ...         ...        ...   \n",
       "10948   8.005150  4.198112  79.941469  0.191051  193.951117   7.083029   \n",
       "10961  -2.778965 -7.243885  76.859840  0.224373  232.599072  21.609182   \n",
       "10962   8.892688  3.691526  73.397637  0.127314  178.822470  14.827336   \n",
       "10963   8.679482  4.731594  79.945191  0.161968  173.179948   5.020737   \n",
       "10982  10.067459  5.742851  77.128347  0.127113  167.192343  10.924199   \n",
       "\n",
       "            wpgt         pres       tsun  is clear_mean  suited for PV  \n",
       "id                                                                      \n",
       "10015  37.540909  1014.087925  12.650690       0.188839              0  \n",
       "10020  38.887773  1013.542898  12.665966       0.178221              0  \n",
       "10022  28.103705  1013.934051  11.820358       0.167444              0  \n",
       "10028  34.654543  1014.124829  13.346736       0.187918              0  \n",
       "10035  26.738500  1014.214114  12.459606       0.163400              0  \n",
       "...          ...          ...        ...            ...            ...  \n",
       "10948  14.243301  1018.080509  11.875057       0.244558              0  \n",
       "10961  38.491932  1018.143157  14.008219       0.195093              1  \n",
       "10962  26.590399  1017.905872  14.438769       0.221522              1  \n",
       "10963  12.369546  1017.471878  12.323020       0.229705              0  \n",
       "10982  19.066953  1017.098513  13.495105       0.217739              1  \n",
       "\n",
       "[175 rows x 11 columns]"
      ]
     },
     "metadata": {},
     "execution_count": 14
    }
   ],
   "metadata": {}
  },
  {
   "cell_type": "code",
   "execution_count": 15,
   "source": [
    "data.columns"
   ],
   "outputs": [
    {
     "output_type": "execute_result",
     "data": {
      "text/plain": [
       "Index(['temp', 'dwpt', 'rhum', 'prcp', 'wdir', 'wspd', 'wpgt', 'pres', 'tsun',\n",
       "       'is clear_mean', 'suited for PV'],\n",
       "      dtype='object')"
      ]
     },
     "metadata": {},
     "execution_count": 15
    }
   ],
   "metadata": {}
  },
  {
   "cell_type": "code",
   "execution_count": 16,
   "source": [
    "# set model x and y data\r\n",
    "y=data['suited for PV']\r\n",
    "x_cols=['dwpt','rhum','prcp','wdir','pres']\r\n",
    "x=data[x_cols]"
   ],
   "outputs": [],
   "metadata": {}
  },
  {
   "cell_type": "code",
   "execution_count": 17,
   "source": [
    "# train test split\r\n",
    "from sklearn.model_selection import train_test_split\r\n",
    "\r\n",
    "xtrain, xtest, ytrain, ytest = train_test_split(\r\n",
    "    x,\r\n",
    "    y,\r\n",
    "    test_size=.2,\r\n",
    "    stratify=y,\r\n",
    "    random_state=1\r\n",
    ")\r\n",
    "\r\n",
    "# import model\r\n",
    "from sklearn.tree import DecisionTreeClassifier\r\n",
    "dt = DecisionTreeClassifier(max_depth=3, random_state=1)\r\n",
    "from sklearn.metrics import accuracy_score, confusion_matrix\r\n",
    "dt.fit(xtrain,ytrain)\r\n",
    "ypred = dt.predict(xtest)\r\n",
    "confusion_matrix(ytest,ypred)\r\n",
    "accuracy_score(ytest,ypred)"
   ],
   "outputs": [
    {
     "output_type": "execute_result",
     "data": {
      "text/plain": [
       "0.6285714285714286"
      ]
     },
     "metadata": {},
     "execution_count": 17
    }
   ],
   "metadata": {}
  },
  {
   "cell_type": "code",
   "execution_count": 18,
   "source": [
    "# import Algorithms\r\n",
    "from sklearn.tree import DecisionTreeClassifier\r\n",
    "from sklearn.ensemble import RandomForestClassifier\r\n",
    "from sklearn.linear_model import LogisticRegression\r\n",
    "from sklearn.neighbors import KNeighborsClassifier\r\n",
    "from sklearn.neural_network import MLPClassifier\r\n",
    "from sklearn.ensemble import GradientBoostingClassifier"
   ],
   "outputs": [],
   "metadata": {}
  },
  {
   "cell_type": "code",
   "execution_count": 19,
   "source": [
    "# run models\r\n",
    "\r\n",
    "# collect accuracy scores in dict to compare\r\n",
    "acc_dict = {} \r\n",
    "##### Decision Tree\r\n",
    "\r\n",
    "# Fitting des Decision Tree Algorithmus auf den Trainingsdatensatz\r\n",
    "decision_tree_train = DecisionTreeClassifier(max_depth=10, criterion=\"entropy\", random_state=1)\r\n",
    "decision_tree_train.fit(xtrain, ytrain)\r\n",
    "\r\n",
    "# Der Decision Tree Algorithmus auf Basis der Trainingsdaten liefert folgende Prognosegenauigkeit\r\n",
    "print(\"Prognosegenauigkeit Decision Tree:\\n\")\r\n",
    "print(\"Testdaten:\\t\", decision_tree_train.score(xtest, ytest))\r\n",
    "acc_dict['decision tree'] = decision_tree_train.score(xtest, ytest)\r\n",
    "\r\n",
    "##### Random Forest\r\n",
    "\r\n",
    "# Fitting des Random Forest Algorithmus auf den Trainingsdatensatz\r\n",
    "random_forest_train = RandomForestClassifier(random_state=1)\r\n",
    "random_forest_train.fit(xtrain, ytrain)\r\n",
    "\r\n",
    "# Der Random Forest Algorithmus auf Basis der Trainingsdaten liefert folgende Prognosegenauigkeit\r\n",
    "print(\"\\n\\nPrognosegenauigkeit Random Forest:\\n\")\r\n",
    "print(\"Testdaten:\\t\", random_forest_train.score(xtest, ytest))\r\n",
    "acc_dict['random forest']= random_forest_train.score(xtest, ytest)\r\n",
    "\r\n",
    "\r\n",
    "##### Logistic Regression\r\n",
    "\r\n",
    "# Fitting des Logistic Regression Algorithmus auf den Trainingsdatensatz\r\n",
    "logistic_regression_train = LogisticRegression(max_iter=1000)\r\n",
    "logistic_regression_train.fit(xtrain, ytrain)\r\n",
    "\r\n",
    "# Der Logistic Regression Algorithmus auf Basis der Trainingsdaten liefert folgende Prognosegenauigkeit\r\n",
    "print(\"\\n\\nPrognosegenauigkeit Logistic Regression:\\n\")\r\n",
    "print(\"Testdaten:\\t\", logistic_regression_train.score(xtest, ytest))\r\n",
    "acc_dict['logistic regression']= logistic_regression_train.score(xtest, ytest)\r\n",
    "\r\n",
    "\r\n",
    "##### K-Nearest Neighbors\r\n",
    "\r\n",
    "# Fitting des K-Nearest Neighbors Algorithmus auf den Trainingsdatensatz\r\n",
    "knn_train = KNeighborsClassifier(n_neighbors=3, metric='euclidean')\r\n",
    "knn_train.fit(xtrain, ytrain)\r\n",
    "\r\n",
    "# Der K-Nearest Neighbors Algorithmus auf Basis der Trainingsdaten liefert folgende Prognosegenauigkeit\r\n",
    "print(\"\\n\\nPrognosegenauigkeit K-Nearest Neighbors:\\n\")\r\n",
    "print(\"Testdaten:\\t\", knn_train.score(xtest, ytest))\r\n",
    "acc_dict['knearest neighbors']=knn_train.score(xtest, ytest)\r\n",
    "\r\n",
    "##### Neuronales Netz\r\n",
    "\r\n",
    "# Fitting des Neuronalen Netz Algorithmus auf den Trainingsdatensatz\r\n",
    "neuronales_netz_train = MLPClassifier(max_iter=1000)\r\n",
    "neuronales_netz_train.fit(xtrain, ytrain)\r\n",
    "\r\n",
    "# Der Neuronales Netz Algorithmus auf Basis der Trainingsdaten liefert folgende Prognosegenauigkeit\r\n",
    "print(\"\\n\\nPrognosegenauigkeit Neuronales Netz:\\n\")\r\n",
    "print(\"Testdaten:\\t\", neuronales_netz_train.score(xtest, ytest))\r\n",
    "acc_dict['neuronales netz']=neuronales_netz_train.score(xtest, ytest)\r\n",
    "\r\n",
    "##### Gradient Tree Boosting\r\n",
    "\r\n",
    "# Fitting des Gradient Boosting Algorithmus auf den Trainingsdatensatz\r\n",
    "gradient_booosting_train = GradientBoostingClassifier()\r\n",
    "gradient_booosting_train.fit(xtrain, ytrain)\r\n",
    "\r\n",
    "# Der Gradient Boosting Algorithmus auf Basis der Trainingsdaten liefert folgende Prognosegenauigkeit\r\n",
    "print(\"\\n\\nPrognosegenauigkeit Gradient Tree Boosting:\\n\")\r\n",
    "print(\"Testdaten:\\t\", gradient_booosting_train.score(xtest, ytest))\r\n",
    "acc_dict['gradient boosting']= gradient_booosting_train.score(xtest, ytest)\r\n"
   ],
   "outputs": [
    {
     "output_type": "stream",
     "name": "stdout",
     "text": [
      "Prognosegenauigkeit Decision Tree:\n",
      "\n",
      "Testdaten:\t 0.7142857142857143\n",
      "\n",
      "\n",
      "Prognosegenauigkeit Random Forest:\n",
      "\n",
      "Testdaten:\t 0.8285714285714286\n",
      "\n",
      "\n",
      "Prognosegenauigkeit Logistic Regression:\n",
      "\n",
      "Testdaten:\t 0.7142857142857143\n",
      "\n",
      "\n",
      "Prognosegenauigkeit K-Nearest Neighbors:\n",
      "\n",
      "Testdaten:\t 0.6\n",
      "\n",
      "\n",
      "Prognosegenauigkeit Neuronales Netz:\n",
      "\n",
      "Testdaten:\t 0.5142857142857142\n",
      "\n",
      "\n",
      "Prognosegenauigkeit Gradient Tree Boosting:\n",
      "\n",
      "Testdaten:\t 0.7142857142857143\n"
     ]
    }
   ],
   "metadata": {}
  },
  {
   "cell_type": "code",
   "execution_count": 22,
   "source": [
    "# turn accuracy dict into dataframe and plot\r\n",
    "acc_df = pd.DataFrame(acc_dict,index=['accuracy score']).T\r\n",
    "acc_df.plot(kind='bar',ylim=(0.45,0.85),rot=45,title='Accuracy of ML models for suitable solar power locations',legend=False)\r\n",
    "# random forest leads to the best results"
   ],
   "outputs": [
    {
     "output_type": "execute_result",
     "data": {
      "text/plain": [
       "<AxesSubplot:title={'center':'Accuracy of ML models for suitable solar power locations'}>"
      ]
     },
     "metadata": {},
     "execution_count": 22
    },
    {
     "output_type": "display_data",
     "data": {
      "image/png": "[encoded data removed]",
      "text/plain": [
       "<Figure size 432x288 with 1 Axes>"
      ]
     },
     "metadata": {
      "needs_background": "light"
     }
    }
   ],
   "metadata": {}
  },
  {
   "cell_type": "code",
   "execution_count": 118,
   "source": [
    "# fill na in full_data\r\n",
    "full_data = full_data.fillna(full_data.mean())"
   ],
   "outputs": [],
   "metadata": {}
  },
  {
   "cell_type": "code",
   "execution_count": 124,
   "source": [
    "# train a new model will all of the available data and predict for the full data set\r\n",
    "random_forest = RandomForestClassifier(random_state=1)\r\n",
    "random_forest.fit(x,y)\r\n",
    "full_data.loc[:,'pv_prediction'] = random_forest.predict(full_data[x_cols])"
   ],
   "outputs": [],
   "metadata": {}
  },
  {
   "cell_type": "code",
   "execution_count": 129,
   "source": [
    "data['suited for PV'].value_counts()"
   ],
   "outputs": [
    {
     "output_type": "execute_result",
     "data": {
      "text/plain": [
       "1    97\n",
       "0    78\n",
       "Name: suited for PV, dtype: int64"
      ]
     },
     "metadata": {},
     "execution_count": 129
    }
   ],
   "metadata": {}
  },
  {
   "cell_type": "code",
   "execution_count": 127,
   "source": [
    "full_data.pv_prediction.value_counts()"
   ],
   "outputs": [
    {
     "output_type": "execute_result",
     "data": {
      "text/plain": [
       "0    563\n",
       "1    525\n",
       "Name: pv_prediction, dtype: int64"
      ]
     },
     "metadata": {},
     "execution_count": 127
    }
   ],
   "metadata": {}
  },
  {
   "cell_type": "code",
   "execution_count": 130,
   "source": [
    "full_data.to_csv('../data/solarmodel_prediction.csv')"
   ],
   "outputs": [],
   "metadata": {}
  }
 ],
 "metadata": {
  "orig_nbformat": 4,
  "language_info": {
   "name": "python",
   "version": "3.8.10",
   "mimetype": "text/x-python",
   "codemirror_mode": {
    "name": "ipython",
    "version": 3
   },
   "pygments_lexer": "ipython3",
   "nbconvert_exporter": "python",
   "file_extension": ".py"
  },
  "kernelspec": {
   "name": "python3",
   "display_name": "Python 3.8.10 64-bit ('mapenv': conda)"
  },
  "interpreter": {
   "hash": "c7493435b741875e47357b1d4e2959b9ee7bbd8a014d8aa9e12beae2b4f843e2"
  }
 },
 "nbformat": 4,
 "nbformat_minor": 2
}