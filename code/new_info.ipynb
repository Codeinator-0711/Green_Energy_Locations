{
 "cells": [
  {
   "cell_type": "markdown",
   "metadata": {},
   "source": [
    "=== READ CAREFULLY ===\n",
    "<br><br>\n",
    "this notebook adds info about stations to your weather dataframe\n",
    "<br>make sure you have the necessary files (a csv-file for the weather, the stations.csv) and the necessary module (station_info.py)\n",
    "<br>\n",
    "you can copy the whole code to another .py file to load and combine info in another script\n",
    "\n",
    "if you add code in this notebook, please save it as a new file BEFORE making any changes/additions\n",
    "\n",
    "problems? text me > 015788873290\n",
    "\n",
    "=== READ CAREFULLY ==="
   ]
  },
  {
   "cell_type": "code",
   "execution_count": 13,
   "metadata": {},
   "outputs": [],
   "source": [
    "# import packages\n",
    "import pandas as pd\n",
    "from station_info import addinfo as ai"
   ]
  },
  {
   "cell_type": "code",
   "execution_count": 22,
   "metadata": {},
   "outputs": [],
   "source": [
    "# load weather and station data\n",
    "# change the filename if needed. leave the rest\n",
    "\n",
    "filename = 'wind_model_prediction_cutoff_0,45'\n",
    "\n",
    "path = '../data/stations.csv'\n",
    "in_ger = pd.read_csv(path)\n",
    "path = '../data/'+filename+'.csv'\n",
    "weather_df = pd.read_csv(path,parse_dates=[0])\n",
    "in_ger['id'] = in_ger['id'].astype(str)\n",
    "in_ger.set_index('id', inplace=True,drop=True)\n",
    "weather_df['id'] = weather_df['id'].astype(str)"
   ]
  },
  {
   "cell_type": "markdown",
   "metadata": {},
   "source": [
    "choose the info you want to add\n",
    "<br>the following options are available:\n",
    "<br>\n",
    "<br>name: normally refers to the location\n",
    "<br>country: is DE in every case (if you left the loading cell untouched)\n",
    "<br>region: code for the bundesland\n",
    "<br>identifiers:\n",
    "<br>location: coordinates (latitude, longitude, elevation)\n",
    "<br>timezone: will be Berlin everywhere\n",
    "<br>inventory: equipment used in a station\n",
    "\n",
    "make sure to keep the format (list with strings)"
   ]
  },
  {
   "cell_type": "code",
   "execution_count": 23,
   "metadata": {},
   "outputs": [],
   "source": [
    "# choose what info to add\n",
    "new_info = ['location','region','name']"
   ]
  },
  {
   "cell_type": "code",
   "execution_count": 24,
   "metadata": {},
   "outputs": [],
   "source": [
    "# call the function to add info\n",
    "# df_added is the dataframe with weather data and additional info about the station\n",
    "df_added = ai(weather_df,in_ger,new_info)"
   ]
  },
  {
   "cell_type": "code",
   "execution_count": 25,
   "metadata": {},
   "outputs": [],
   "source": [
    "# run this cell to save the dataframe with added info\n",
    "# this cell with append 'addedinfo' to the filename :)\n",
    "path = '../data/'+filename+'_addedinfo.csv'\n",
    "df_added.to_csv(path,index=False)"
   ]
  },
  {
   "cell_type": "code",
   "execution_count": null,
   "metadata": {},
   "outputs": [],
   "source": []
  }
 ],
 "metadata": {
  "interpreter": {
   "hash": "c7493435b741875e47357b1d4e2959b9ee7bbd8a014d8aa9e12beae2b4f843e2"
  },
  "kernelspec": {
   "display_name": "Python 3",
   "language": "python",
   "name": "python3"
  },
  "language_info": {
   "codemirror_mode": {
    "name": "ipython",
    "version": 3
   },
   "file_extension": ".py",
   "mimetype": "text/x-python",
   "name": "python",
   "nbconvert_exporter": "python",
   "pygments_lexer": "ipython3",
   "version": "3.8.5"
  }
 },
 "nbformat": 4,
 "nbformat_minor": 2
}
